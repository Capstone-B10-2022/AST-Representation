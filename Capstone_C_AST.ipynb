{
  "nbformat": 4,
  "nbformat_minor": 0,
  "metadata": {
    "colab": {
      "provenance": [],
      "collapsed_sections": []
    },
    "kernelspec": {
      "name": "python3",
      "display_name": "Python 3"
    },
    "language_info": {
      "name": "python"
    }
  },
  "cells": [
    {
      "cell_type": "markdown",
      "source": [
        "##Installing the required packages"
      ],
      "metadata": {
        "id": "6HFxK3Y4dwO6"
      }
    },
    {
      "cell_type": "code",
      "execution_count": null,
      "metadata": {
        "id": "2qeJ_EX7UkY3",
        "colab": {
          "base_uri": "https://localhost:8080/"
        },
        "outputId": "ebbf1233-a235-45d5-f388-12115761a5c2"
      },
      "outputs": [
        {
          "output_type": "stream",
          "name": "stdout",
          "text": [
            "Looking in indexes: https://pypi.org/simple, https://us-python.pkg.dev/colab-wheels/public/simple/\n",
            "Requirement already satisfied: pycparser in /usr/local/lib/python3.7/dist-packages (2.21)\n"
          ]
        }
      ],
      "source": [
        "#!pip install pycparser"
      ]
    },
    {
      "cell_type": "code",
      "source": [
        "!pip install anytree"
      ],
      "metadata": {
        "colab": {
          "base_uri": "https://localhost:8080/"
        },
        "id": "vM46AM6t0yUN",
        "outputId": "4180e3b6-bebf-4ccb-f8e3-73a3025bca5a"
      },
      "execution_count": null,
      "outputs": [
        {
          "output_type": "stream",
          "name": "stdout",
          "text": [
            "Looking in indexes: https://pypi.org/simple, https://us-python.pkg.dev/colab-wheels/public/simple/\n",
            "Collecting anytree\n",
            "  Downloading anytree-2.8.0-py2.py3-none-any.whl (41 kB)\n",
            "\u001b[K     |████████████████████████████████| 41 kB 642 kB/s \n",
            "\u001b[?25hRequirement already satisfied: six>=1.9.0 in /usr/local/lib/python3.7/dist-packages (from anytree) (1.15.0)\n",
            "Installing collected packages: anytree\n",
            "Successfully installed anytree-2.8.0\n"
          ]
        }
      ]
    },
    {
      "cell_type": "code",
      "source": [
        "#!pip show pycparser"
      ],
      "metadata": {
        "colab": {
          "base_uri": "https://localhost:8080/"
        },
        "id": "QXEWFrTa2kZu",
        "outputId": "e2f65f40-6c25-4490-f0d8-82d18378c1ef"
      },
      "execution_count": null,
      "outputs": [
        {
          "output_type": "stream",
          "name": "stdout",
          "text": [
            "Name: pycparser\n",
            "Version: 2.21\n",
            "Summary: C parser in Python\n",
            "Home-page: https://github.com/eliben/pycparser\n",
            "Author: Eli Bendersky\n",
            "Author-email: eliben@gmail.com\n",
            "License: BSD\n",
            "Location: /usr/local/lib/python3.7/dist-packages\n",
            "Requires: \n",
            "Required-by: cffi\n"
          ]
        }
      ]
    },
    {
      "cell_type": "code",
      "source": [
        "#import os\n",
        "#os.listdir('/usr/local/lib/python3.7/dist-packages/pycparser')"
      ],
      "metadata": {
        "colab": {
          "base_uri": "https://localhost:8080/"
        },
        "id": "yjoFMYLy2xNW",
        "outputId": "d2d8fd39-381a-443c-fcfb-9de23145e514"
      },
      "execution_count": null,
      "outputs": [
        {
          "output_type": "execute_result",
          "data": {
            "text/plain": [
              "['c_parser.py',\n",
              " '__pycache__',\n",
              " 'plyparser.py',\n",
              " 'ast_transforms.py',\n",
              " 'lextab.py',\n",
              " '_c_ast.cfg',\n",
              " '__init__.py',\n",
              " 'c_ast.py',\n",
              " '_ast_gen.py',\n",
              " 'utils',\n",
              " 'ply',\n",
              " '_build_tables.py',\n",
              " 'c_generator.py',\n",
              " 'c_lexer.py',\n",
              " 'yacctab.py']"
            ]
          },
          "metadata": {},
          "execution_count": 19
        }
      ]
    },
    {
      "cell_type": "code",
      "source": [
        "'''\n",
        "#to remove comments \n",
        "import re\n",
        "def comment_remover(text):\n",
        "    def replacer(match):\n",
        "        s = match.group(0)\n",
        "        if s.startswith('/'):\n",
        "            return \"\"\n",
        "        else:\n",
        "            return s\n",
        "    pattern = re.compile(\n",
        "        r'//.*?$|/\\*.*?\\*/|\\'(?:\\\\.|[^\\\\\\'])*\\'|\"(?:\\\\.|[^\\\\\"])*\"',\n",
        "        re.DOTALL | re.MULTILINE\n",
        "    )\n",
        "    return re.sub(pattern, replacer, text)\n",
        "'''"
      ],
      "metadata": {
        "id": "NEUb0-BIhPCD"
      },
      "execution_count": null,
      "outputs": []
    },
    {
      "cell_type": "code",
      "source": [
        "'''\n",
        "import pycparser\n",
        "filename = '/content/testPP.c'\n",
        "ast = pycparser.parse_file(filename, use_cpp=True)        \n",
        "ast.show()\n",
        "'''"
      ],
      "metadata": {
        "colab": {
          "base_uri": "https://localhost:8080/",
          "height": 36
        },
        "id": "tHDSwSjvZe52",
        "outputId": "3f05dcf9-da0e-4b85-bf73-aa68b3a8eb69"
      },
      "execution_count": null,
      "outputs": [
        {
          "output_type": "execute_result",
          "data": {
            "text/plain": [
              "\"\\nimport pycparser\\nfilename = '/content/testPP.c'\\nast = pycparser.parse_file(filename, use_cpp=True)        \\nast.show()\\n\""
            ],
            "application/vnd.google.colaboratory.intrinsic+json": {
              "type": "string"
            }
          },
          "metadata": {},
          "execution_count": 7
        }
      ]
    },
    {
      "cell_type": "code",
      "source": [
        "'''\n",
        "for i in ast.ext[2]:\n",
        "  print(\"--------------\")\n",
        "  print(i.children())\n",
        "'''"
      ],
      "metadata": {
        "colab": {
          "base_uri": "https://localhost:8080/",
          "height": 36
        },
        "id": "SlPWqQkRtvNO",
        "outputId": "f2a5e302-83db-488f-f077-260b7dc35252"
      },
      "execution_count": null,
      "outputs": [
        {
          "output_type": "execute_result",
          "data": {
            "text/plain": [
              "'\\nfor i in ast.ext[2]:\\n  print(\"--------------\")\\n  print(i.children())\\n'"
            ],
            "application/vnd.google.colaboratory.intrinsic+json": {
              "type": "string"
            }
          },
          "metadata": {},
          "execution_count": 9
        }
      ]
    },
    {
      "cell_type": "markdown",
      "source": [
        "##Generating AST for the code"
      ],
      "metadata": {
        "id": "Cy6iGGI4pcNC"
      }
    },
    {
      "cell_type": "code",
      "source": [
        "import pycparser\n",
        "from pycparser import c_parser\n",
        "\n",
        "def get_ast(filename):\n",
        "    #import pycparser\n",
        "    ast = pycparser.parse_file(filename, use_cpp=True)  \n",
        "    #parser = c_parser.CParser()\n",
        "    #ast = parser.parse(func, filename='<none>')\n",
        "    #print(ast)\n",
        "    return ast"
      ],
      "metadata": {
        "id": "LgxC0L_nlr1q"
      },
      "execution_count": null,
      "outputs": []
    },
    {
      "cell_type": "markdown",
      "source": [
        "##Getting the tokens from the nodes"
      ],
      "metadata": {
        "id": "T6JwntjVqk_H"
      }
    },
    {
      "cell_type": "code",
      "source": [
        "def get_token(node):\n",
        "    token = ''\n",
        "    if isinstance(node, pycparser.c_ast.FileAST):\n",
        "        token = node.__class__.__name__\n",
        "        return token\n",
        "    elif isinstance(node[1], str):\n",
        "        token = node[1]\n",
        "        return token\n",
        "        #print(token)\n",
        "    elif isinstance(node[1], pycparser.c_ast.Node):\n",
        "        token = node[1].__class__.__name__\n",
        "    #print(token)\n",
        "    \n",
        "    if len(get_children(node))==0:\n",
        "        attr_names = node[1].attr_names\n",
        "        if attr_names:\n",
        "            if 'names' in attr_names:\n",
        "                token = node[1].names[0]\n",
        "            elif 'name' in attr_names:\n",
        "                token = node[1].name\n",
        "            else:\n",
        "                token = node[1].value\n",
        "    else:\n",
        "        if token == 'TypeDecl':\n",
        "            token = node[1].declname\n",
        "        if node[1].attr_names:\n",
        "            attr_names = node[1].attr_names\n",
        "            if 'op' in attr_names:\n",
        "                if node[1].op[0] == 'p':\n",
        "                    token = node[1].op[1:]\n",
        "                else:\n",
        "                    token = node[1].op\n",
        " \n",
        "    if token == '':\n",
        "        token = node[1].__class__.__name__\n",
        "    return token"
      ],
      "metadata": {
        "id": "TY_Sl_Io432y"
      },
      "execution_count": null,
      "outputs": []
    },
    {
      "cell_type": "markdown",
      "source": [
        "##Getting the children nodes and getting a tree "
      ],
      "metadata": {
        "id": "a48OO3I2qyg5"
      }
    },
    {
      "cell_type": "code",
      "source": [
        "from anytree import Node\n",
        "\n",
        "def get_children(root):\n",
        "    if isinstance(root, pycparser.c_ast.FileAST):\n",
        "        children = root.children()\n",
        "    elif isinstance(root[1], pycparser.c_ast.Node):\n",
        "        children = root[1].children()\n",
        "    elif isinstance(root, set):\n",
        "        children = list(root)\n",
        "    else:\n",
        "        children = []\n",
        "\n",
        "    def expand(nested_list):\n",
        "        for item in nested_list:\n",
        "            if isinstance(item, list):\n",
        "                for sub_item in expand(item):\n",
        "                    yield sub_item\n",
        "            elif item:\n",
        "                yield item\n",
        "\n",
        "    return list(expand(children))\n",
        "\n",
        "def get_trees(current_node, parent_node, order,nodes):\n",
        "    token, children = get_token(current_node), get_children(current_node)\n",
        "    node = Node([order,token], parent=parent_node, order=order)\n",
        "    #print(parent_node)\n",
        "    #if(parent_node.name=='')\n",
        "    p = str(parent_node.name[0])+\"--\"+str(parent_node.name[1])\n",
        "    c = str(order)+\"--\"+str(token)\n",
        "    nodes.append((p,c))\n",
        "    #print(nodes)\n",
        "    for child_order in range(len(children)):\n",
        "        get_trees(children[child_order], node, order+str(random.randint(1,100000)+1),nodes)"
      ],
      "metadata": {
        "id": "_CmGjGkP4sGl"
      },
      "execution_count": null,
      "outputs": []
    },
    {
      "cell_type": "code",
      "source": [
        "#c_code = ast\n",
        "#ast = program_parser(filename)"
      ],
      "metadata": {
        "id": "NvWvV5_q4446"
      },
      "execution_count": null,
      "outputs": []
    },
    {
      "cell_type": "code",
      "source": [
        "from anytree import Node\n",
        "def get_c_nodes(filename):\n",
        "  #get the ast\n",
        "  c_ast = get_ast(filename)\n",
        "  \n",
        "  # Initialize head node of the code.\n",
        "  head = Node([\"1\",get_token(c_ast)])\n",
        "  \n",
        "  # Recursively construct AST tree and get all the nodes in nodes list\n",
        "  nodes = []\n",
        "  #nodes.append((None,str(head.name[1])+str(head.name[0])))\n",
        "  for child_order in range(len(get_children(c_ast))):\n",
        "      get_trees(get_children(c_ast)[child_order], head, \"1\"+str(int(child_order)+1),nodes)\n",
        "  \n",
        "  return nodes"
      ],
      "metadata": {
        "id": "OCqcnuGH4_Va"
      },
      "execution_count": null,
      "outputs": []
    },
    {
      "cell_type": "markdown",
      "source": [
        "##Calling the function to get the nodes"
      ],
      "metadata": {
        "id": "TWeCyk8ljtgr"
      }
    },
    {
      "cell_type": "code",
      "source": [
        "filename = '/content/testPP.c'\n",
        "nodes = get_c_nodes(filename)"
      ],
      "metadata": {
        "id": "RUnvV2MNiTTe"
      },
      "execution_count": null,
      "outputs": []
    },
    {
      "cell_type": "code",
      "source": [
        "for i in nodes:\n",
        "  print(i)"
      ],
      "metadata": {
        "colab": {
          "base_uri": "https://localhost:8080/"
        },
        "id": "aE0L73EJG4qX",
        "outputId": "7b0a14a5-9088-48e1-cca8-e80b3e50350f"
      },
      "execution_count": null,
      "outputs": [
        {
          "output_type": "stream",
          "name": "stdout",
          "text": [
            "('1--FileAST', '11--Typedef')\n",
            "('11--Typedef', '111--size_t')\n",
            "('111--size_t', '1111--int')\n",
            "('1--FileAST', '12--Typedef')\n",
            "('12--Typedef', '121--__builtin_va_list')\n",
            "('121--__builtin_va_list', '1211--int')\n",
            "('1--FileAST', '13--Typedef')\n",
            "('13--Typedef', '131--__gnuc_va_list')\n",
            "('131--__gnuc_va_list', '1311--int')\n",
            "('1--FileAST', '14--Typedef')\n",
            "('14--Typedef', '141--va_list')\n",
            "('141--va_list', '1411--int')\n",
            "('1--FileAST', '15--Typedef')\n",
            "('15--Typedef', '151--__int8_t')\n",
            "('151--__int8_t', '1511--int')\n",
            "('1--FileAST', '16--Typedef')\n",
            "('16--Typedef', '161--__uint8_t')\n",
            "('161--__uint8_t', '1611--int')\n",
            "('1--FileAST', '17--Typedef')\n",
            "('17--Typedef', '171--__int16_t')\n",
            "('171--__int16_t', '1711--int')\n",
            "('1--FileAST', '18--Typedef')\n",
            "('18--Typedef', '181--__uint16_t')\n",
            "('181--__uint16_t', '1811--int')\n",
            "('1--FileAST', '19--Typedef')\n",
            "('19--Typedef', '191--__int_least16_t')\n",
            "('191--__int_least16_t', '1911--int')\n",
            "('1--FileAST', '110--Typedef')\n",
            "('110--Typedef', '1101--__uint_least16_t')\n",
            "('1101--__uint_least16_t', '11011--int')\n",
            "('1--FileAST', '111--Typedef')\n",
            "('111--Typedef', '1111--__int32_t')\n",
            "('1111--__int32_t', '11111--int')\n",
            "('1--FileAST', '112--Typedef')\n",
            "('112--Typedef', '1121--__uint32_t')\n",
            "('1121--__uint32_t', '11211--int')\n",
            "('1--FileAST', '113--Typedef')\n",
            "('113--Typedef', '1131--__int64_t')\n",
            "('1131--__int64_t', '11311--int')\n",
            "('1--FileAST', '114--Typedef')\n",
            "('114--Typedef', '1141--__uint64_t')\n",
            "('1141--__uint64_t', '11411--int')\n",
            "('1--FileAST', '115--Typedef')\n",
            "('115--Typedef', '1151--__int_least32_t')\n",
            "('1151--__int_least32_t', '11511--int')\n",
            "('1--FileAST', '116--Typedef')\n",
            "('116--Typedef', '1161--__uint_least32_t')\n",
            "('1161--__uint_least32_t', '11611--int')\n",
            "('1--FileAST', '117--Typedef')\n",
            "('117--Typedef', '1171--__s8')\n",
            "('1171--__s8', '11711--int')\n",
            "('1--FileAST', '118--Typedef')\n",
            "('118--Typedef', '1181--__u8')\n",
            "('1181--__u8', '11811--int')\n",
            "('1--FileAST', '119--Typedef')\n",
            "('119--Typedef', '1191--__s16')\n",
            "('1191--__s16', '11911--int')\n",
            "('1--FileAST', '120--Typedef')\n",
            "('120--Typedef', '1201--__u16')\n",
            "('1201--__u16', '12011--int')\n",
            "('1--FileAST', '121--Typedef')\n",
            "('121--Typedef', '1211--__s32')\n",
            "('1211--__s32', '12111--int')\n",
            "('1--FileAST', '122--Typedef')\n",
            "('122--Typedef', '1221--__u32')\n",
            "('1221--__u32', '12211--int')\n",
            "('1--FileAST', '123--Typedef')\n",
            "('123--Typedef', '1231--__s64')\n",
            "('1231--__s64', '12311--int')\n",
            "('1--FileAST', '124--Typedef')\n",
            "('124--Typedef', '1241--__u64')\n",
            "('1241--__u64', '12411--int')\n",
            "('1--FileAST', '125--Typedef')\n",
            "('125--Typedef', '1251--_LOCK_T')\n",
            "('1251--_LOCK_T', '12511--int')\n",
            "('1--FileAST', '126--Typedef')\n",
            "('126--Typedef', '1261--_LOCK_RECURSIVE_T')\n",
            "('1261--_LOCK_RECURSIVE_T', '12611--int')\n",
            "('1--FileAST', '127--Typedef')\n",
            "('127--Typedef', '1271--_off_t')\n",
            "('1271--_off_t', '12711--int')\n",
            "('1--FileAST', '128--Typedef')\n",
            "('128--Typedef', '1281--__dev_t')\n",
            "('1281--__dev_t', '12811--int')\n",
            "('1--FileAST', '129--Typedef')\n",
            "('129--Typedef', '1291--__uid_t')\n",
            "('1291--__uid_t', '12911--int')\n",
            "('1--FileAST', '130--Typedef')\n",
            "('130--Typedef', '1301--__gid_t')\n",
            "('1301--__gid_t', '13011--int')\n",
            "('1--FileAST', '131--Typedef')\n",
            "('131--Typedef', '1311--_off64_t')\n",
            "('1311--_off64_t', '13111--int')\n",
            "('1--FileAST', '132--Typedef')\n",
            "('132--Typedef', '1321--_fpos_t')\n",
            "('1321--_fpos_t', '13211--int')\n",
            "('1--FileAST', '133--Typedef')\n",
            "('133--Typedef', '1331--_ssize_t')\n",
            "('1331--_ssize_t', '13311--int')\n",
            "('1--FileAST', '134--Typedef')\n",
            "('134--Typedef', '1341--wint_t')\n",
            "('1341--wint_t', '13411--int')\n",
            "('1--FileAST', '135--Typedef')\n",
            "('135--Typedef', '1351--_mbstate_t')\n",
            "('1351--_mbstate_t', '13511--int')\n",
            "('1--FileAST', '136--Typedef')\n",
            "('136--Typedef', '1361--_flock_t')\n",
            "('1361--_flock_t', '13611--int')\n",
            "('1--FileAST', '137--Typedef')\n",
            "('137--Typedef', '1371--_iconv_t')\n",
            "('1371--_iconv_t', '13711--int')\n",
            "('1--FileAST', '138--Typedef')\n",
            "('138--Typedef', '1381--__ULong')\n",
            "('1381--__ULong', '13811--int')\n",
            "('1--FileAST', '139--Typedef')\n",
            "('139--Typedef', '1391--__FILE')\n",
            "('1391--__FILE', '13911--int')\n",
            "('1--FileAST', '140--Typedef')\n",
            "('140--Typedef', '1401--ptrdiff_t')\n",
            "('1401--ptrdiff_t', '14011--int')\n",
            "('1--FileAST', '141--Typedef')\n",
            "('141--Typedef', '1411--wchar_t')\n",
            "('1411--wchar_t', '14111--int')\n",
            "('1--FileAST', '142--Typedef')\n",
            "('142--Typedef', '1421--char16_t')\n",
            "('1421--char16_t', '14211--int')\n",
            "('1--FileAST', '143--Typedef')\n",
            "('143--Typedef', '1431--char32_t')\n",
            "('1431--char32_t', '14311--int')\n",
            "('1--FileAST', '144--Typedef')\n",
            "('144--Typedef', '1441--__off_t')\n",
            "('1441--__off_t', '14411--int')\n",
            "('1--FileAST', '145--Typedef')\n",
            "('145--Typedef', '1451--__pid_t')\n",
            "('1451--__pid_t', '14511--int')\n",
            "('1--FileAST', '146--Typedef')\n",
            "('146--Typedef', '1461--__loff_t')\n",
            "('1461--__loff_t', '14611--int')\n",
            "('1--FileAST', '147--Typedef')\n",
            "('147--Typedef', '1471--u_char')\n",
            "('1471--u_char', '14711--int')\n",
            "('1--FileAST', '148--Typedef')\n",
            "('148--Typedef', '1481--u_short')\n",
            "('1481--u_short', '14811--int')\n",
            "('1--FileAST', '149--Typedef')\n",
            "('149--Typedef', '1491--u_int')\n",
            "('1491--u_int', '14911--int')\n",
            "('1--FileAST', '150--Typedef')\n",
            "('150--Typedef', '1501--u_long')\n",
            "('1501--u_long', '15011--int')\n",
            "('1--FileAST', '151--Typedef')\n",
            "('151--Typedef', '1511--ushort')\n",
            "('1511--ushort', '15111--int')\n",
            "('1--FileAST', '152--Typedef')\n",
            "('152--Typedef', '1521--uint')\n",
            "('1521--uint', '15211--int')\n",
            "('1--FileAST', '153--Typedef')\n",
            "('153--Typedef', '1531--clock_t')\n",
            "('1531--clock_t', '15311--int')\n",
            "('1--FileAST', '154--Typedef')\n",
            "('154--Typedef', '1541--time_t')\n",
            "('1541--time_t', '15411--int')\n",
            "('1--FileAST', '155--Typedef')\n",
            "('155--Typedef', '1551--daddr_t')\n",
            "('1551--daddr_t', '15511--int')\n",
            "('1--FileAST', '156--Typedef')\n",
            "('156--Typedef', '1561--caddr_t')\n",
            "('1561--caddr_t', '15611--int')\n",
            "('1--FileAST', '157--Typedef')\n",
            "('157--Typedef', '1571--ino_t')\n",
            "('1571--ino_t', '15711--int')\n",
            "('1--FileAST', '158--Typedef')\n",
            "('158--Typedef', '1581--off_t')\n",
            "('1581--off_t', '15811--int')\n",
            "('1--FileAST', '159--Typedef')\n",
            "('159--Typedef', '1591--dev_t')\n",
            "('1591--dev_t', '15911--int')\n",
            "('1--FileAST', '160--Typedef')\n",
            "('160--Typedef', '1601--uid_t')\n",
            "('1601--uid_t', '16011--int')\n",
            "('1--FileAST', '161--Typedef')\n",
            "('161--Typedef', '1611--gid_t')\n",
            "('1611--gid_t', '16111--int')\n",
            "('1--FileAST', '162--Typedef')\n",
            "('162--Typedef', '1621--pid_t')\n",
            "('1621--pid_t', '16211--int')\n",
            "('1--FileAST', '163--Typedef')\n",
            "('163--Typedef', '1631--key_t')\n",
            "('1631--key_t', '16311--int')\n",
            "('1--FileAST', '164--Typedef')\n",
            "('164--Typedef', '1641--ssize_t')\n",
            "('1641--ssize_t', '16411--int')\n",
            "('1--FileAST', '165--Typedef')\n",
            "('165--Typedef', '1651--mode_t')\n",
            "('1651--mode_t', '16511--int')\n",
            "('1--FileAST', '166--Typedef')\n",
            "('166--Typedef', '1661--nlink_t')\n",
            "('1661--nlink_t', '16611--int')\n",
            "('1--FileAST', '167--Typedef')\n",
            "('167--Typedef', '1671--fd_mask')\n",
            "('1671--fd_mask', '16711--int')\n",
            "('1--FileAST', '168--Typedef')\n",
            "('168--Typedef', '1681--_types_fd_set')\n",
            "('1681--_types_fd_set', '16811--int')\n",
            "('1--FileAST', '169--Typedef')\n",
            "('169--Typedef', '1691--clockid_t')\n",
            "('1691--clockid_t', '16911--int')\n",
            "('1--FileAST', '170--Typedef')\n",
            "('170--Typedef', '1701--timer_t')\n",
            "('1701--timer_t', '17011--int')\n",
            "('1--FileAST', '171--Typedef')\n",
            "('171--Typedef', '1711--useconds_t')\n",
            "('1711--useconds_t', '17111--int')\n",
            "('1--FileAST', '172--Typedef')\n",
            "('172--Typedef', '1721--suseconds_t')\n",
            "('1721--suseconds_t', '17211--int')\n",
            "('1--FileAST', '173--Typedef')\n",
            "('173--Typedef', '1731--FILE')\n",
            "('1731--FILE', '17311--int')\n",
            "('1--FileAST', '174--Typedef')\n",
            "('174--Typedef', '1741--fpos_t')\n",
            "('1741--fpos_t', '17411--int')\n",
            "('1--FileAST', '175--Typedef')\n",
            "('175--Typedef', '1751--cookie_read_function_t')\n",
            "('1751--cookie_read_function_t', '17511--int')\n",
            "('1--FileAST', '176--Typedef')\n",
            "('176--Typedef', '1761--cookie_write_function_t')\n",
            "('1761--cookie_write_function_t', '17611--int')\n",
            "('1--FileAST', '177--Typedef')\n",
            "('177--Typedef', '1771--cookie_seek_function_t')\n",
            "('1771--cookie_seek_function_t', '17711--int')\n",
            "('1--FileAST', '178--Typedef')\n",
            "('178--Typedef', '1781--cookie_close_function_t')\n",
            "('1781--cookie_close_function_t', '17811--int')\n",
            "('1--FileAST', '179--Typedef')\n",
            "('179--Typedef', '1791--cookie_io_functions_t')\n",
            "('1791--cookie_io_functions_t', '17911--int')\n",
            "('1--FileAST', '180--Typedef')\n",
            "('180--Typedef', '1801--div_t')\n",
            "('1801--div_t', '18011--int')\n",
            "('1--FileAST', '181--Typedef')\n",
            "('181--Typedef', '1811--ldiv_t')\n",
            "('1811--ldiv_t', '18111--int')\n",
            "('1--FileAST', '182--Typedef')\n",
            "('182--Typedef', '1821--lldiv_t')\n",
            "('1821--lldiv_t', '18211--int')\n",
            "('1--FileAST', '183--Typedef')\n",
            "('183--Typedef', '1831--sigset_t')\n",
            "('1831--sigset_t', '18311--int')\n",
            "('1--FileAST', '184--Typedef')\n",
            "('184--Typedef', '1841--__sigset_t')\n",
            "('1841--__sigset_t', '18411--int')\n",
            "('1--FileAST', '185--Typedef')\n",
            "('185--Typedef', '1851--_sig_func_ptr')\n",
            "('1851--_sig_func_ptr', '18511--int')\n",
            "('1--FileAST', '186--Typedef')\n",
            "('186--Typedef', '1861--sig_atomic_t')\n",
            "('1861--sig_atomic_t', '18611--int')\n",
            "('1--FileAST', '187--Typedef')\n",
            "('187--Typedef', '1871--__tzrule_type')\n",
            "('1871--__tzrule_type', '18711--int')\n",
            "('1--FileAST', '188--Typedef')\n",
            "('188--Typedef', '1881--__tzinfo_type')\n",
            "('1881--__tzinfo_type', '18811--int')\n",
            "('1--FileAST', '189--Typedef')\n",
            "('189--Typedef', '1891--mbstate_t')\n",
            "('1891--mbstate_t', '18911--int')\n",
            "('1--FileAST', '190--Typedef')\n",
            "('190--Typedef', '1901--sem_t')\n",
            "('1901--sem_t', '19011--int')\n",
            "('1--FileAST', '191--Typedef')\n",
            "('191--Typedef', '1911--pthread_t')\n",
            "('1911--pthread_t', '19111--int')\n",
            "('1--FileAST', '192--Typedef')\n",
            "('192--Typedef', '1921--pthread_attr_t')\n",
            "('1921--pthread_attr_t', '19211--int')\n",
            "('1--FileAST', '193--Typedef')\n",
            "('193--Typedef', '1931--pthread_mutex_t')\n",
            "('1931--pthread_mutex_t', '19311--int')\n",
            "('1--FileAST', '194--Typedef')\n",
            "('194--Typedef', '1941--pthread_mutexattr_t')\n",
            "('1941--pthread_mutexattr_t', '19411--int')\n",
            "('1--FileAST', '195--Typedef')\n",
            "('195--Typedef', '1951--pthread_cond_t')\n",
            "('1951--pthread_cond_t', '19511--int')\n",
            "('1--FileAST', '196--Typedef')\n",
            "('196--Typedef', '1961--pthread_condattr_t')\n",
            "('1961--pthread_condattr_t', '19611--int')\n",
            "('1--FileAST', '197--Typedef')\n",
            "('197--Typedef', '1971--pthread_key_t')\n",
            "('1971--pthread_key_t', '19711--int')\n",
            "('1--FileAST', '198--Typedef')\n",
            "('198--Typedef', '1981--pthread_once_t')\n",
            "('1981--pthread_once_t', '19811--int')\n",
            "('1--FileAST', '199--Typedef')\n",
            "('199--Typedef', '1991--pthread_rwlock_t')\n",
            "('1991--pthread_rwlock_t', '19911--int')\n",
            "('1--FileAST', '1100--Typedef')\n",
            "('1100--Typedef', '11001--pthread_rwlockattr_t')\n",
            "('11001--pthread_rwlockattr_t', '110011--int')\n",
            "('1--FileAST', '1101--Typedef')\n",
            "('1101--Typedef', '11011--pthread_spinlock_t')\n",
            "('11011--pthread_spinlock_t', '110111--int')\n",
            "('1--FileAST', '1102--Typedef')\n",
            "('1102--Typedef', '11021--pthread_barrier_t')\n",
            "('11021--pthread_barrier_t', '110211--int')\n",
            "('1--FileAST', '1103--Typedef')\n",
            "('1103--Typedef', '11031--pthread_barrierattr_t')\n",
            "('11031--pthread_barrierattr_t', '110311--int')\n",
            "('1--FileAST', '1104--Typedef')\n",
            "('1104--Typedef', '11041--jmp_buf')\n",
            "('11041--jmp_buf', '110411--int')\n",
            "('1--FileAST', '1105--Typedef')\n",
            "('1105--Typedef', '11051--rlim_t')\n",
            "('11051--rlim_t', '110511--int')\n",
            "('1--FileAST', '1106--Typedef')\n",
            "('1106--Typedef', '11061--sa_family_t')\n",
            "('11061--sa_family_t', '110611--int')\n",
            "('1--FileAST', '1107--Typedef')\n",
            "('1107--Typedef', '11071--sigjmp_buf')\n",
            "('11071--sigjmp_buf', '110711--int')\n",
            "('1--FileAST', '1108--Typedef')\n",
            "('1108--Typedef', '11081--stack_t')\n",
            "('11081--stack_t', '110811--int')\n",
            "('1--FileAST', '1109--Typedef')\n",
            "('1109--Typedef', '11091--siginfo_t')\n",
            "('11091--siginfo_t', '110911--int')\n",
            "('1--FileAST', '1110--Typedef')\n",
            "('1110--Typedef', '11101--z_stream')\n",
            "('11101--z_stream', '111011--int')\n",
            "('1--FileAST', '1111--Typedef')\n",
            "('1111--Typedef', '11111--int8_t')\n",
            "('11111--int8_t', '111111--int')\n",
            "('1--FileAST', '1112--Typedef')\n",
            "('1112--Typedef', '11121--uint8_t')\n",
            "('11121--uint8_t', '111211--int')\n",
            "('1--FileAST', '1113--Typedef')\n",
            "('1113--Typedef', '11131--int16_t')\n",
            "('11131--int16_t', '111311--int')\n",
            "('1--FileAST', '1114--Typedef')\n",
            "('1114--Typedef', '11141--uint16_t')\n",
            "('11141--uint16_t', '111411--int')\n",
            "('1--FileAST', '1115--Typedef')\n",
            "('1115--Typedef', '11151--int32_t')\n",
            "('11151--int32_t', '111511--int')\n",
            "('1--FileAST', '1116--Typedef')\n",
            "('1116--Typedef', '11161--uint32_t')\n",
            "('11161--uint32_t', '111611--int')\n",
            "('1--FileAST', '1117--Typedef')\n",
            "('1117--Typedef', '11171--int64_t')\n",
            "('11171--int64_t', '111711--int')\n",
            "('1--FileAST', '1118--Typedef')\n",
            "('1118--Typedef', '11181--uint64_t')\n",
            "('11181--uint64_t', '111811--int')\n",
            "('1--FileAST', '1119--Typedef')\n",
            "('1119--Typedef', '11191--int_least8_t')\n",
            "('11191--int_least8_t', '111911--int')\n",
            "('1--FileAST', '1120--Typedef')\n",
            "('1120--Typedef', '11201--uint_least8_t')\n",
            "('11201--uint_least8_t', '112011--int')\n",
            "('1--FileAST', '1121--Typedef')\n",
            "('1121--Typedef', '11211--int_least16_t')\n",
            "('11211--int_least16_t', '112111--int')\n",
            "('1--FileAST', '1122--Typedef')\n",
            "('1122--Typedef', '11221--uint_least16_t')\n",
            "('11221--uint_least16_t', '112211--int')\n",
            "('1--FileAST', '1123--Typedef')\n",
            "('1123--Typedef', '11231--int_least32_t')\n",
            "('11231--int_least32_t', '112311--int')\n",
            "('1--FileAST', '1124--Typedef')\n",
            "('1124--Typedef', '11241--uint_least32_t')\n",
            "('11241--uint_least32_t', '112411--int')\n",
            "('1--FileAST', '1125--Typedef')\n",
            "('1125--Typedef', '11251--int_least64_t')\n",
            "('11251--int_least64_t', '112511--int')\n",
            "('1--FileAST', '1126--Typedef')\n",
            "('1126--Typedef', '11261--uint_least64_t')\n",
            "('11261--uint_least64_t', '112611--int')\n",
            "('1--FileAST', '1127--Typedef')\n",
            "('1127--Typedef', '11271--int_fast8_t')\n",
            "('11271--int_fast8_t', '112711--int')\n",
            "('1--FileAST', '1128--Typedef')\n",
            "('1128--Typedef', '11281--uint_fast8_t')\n",
            "('11281--uint_fast8_t', '112811--int')\n",
            "('1--FileAST', '1129--Typedef')\n",
            "('1129--Typedef', '11291--int_fast16_t')\n",
            "('11291--int_fast16_t', '112911--int')\n",
            "('1--FileAST', '1130--Typedef')\n",
            "('1130--Typedef', '11301--uint_fast16_t')\n",
            "('11301--uint_fast16_t', '113011--int')\n",
            "('1--FileAST', '1131--Typedef')\n",
            "('1131--Typedef', '11311--int_fast32_t')\n",
            "('11311--int_fast32_t', '113111--int')\n",
            "('1--FileAST', '1132--Typedef')\n",
            "('1132--Typedef', '11321--uint_fast32_t')\n",
            "('11321--uint_fast32_t', '113211--int')\n",
            "('1--FileAST', '1133--Typedef')\n",
            "('1133--Typedef', '11331--int_fast64_t')\n",
            "('11331--int_fast64_t', '113311--int')\n",
            "('1--FileAST', '1134--Typedef')\n",
            "('1134--Typedef', '11341--uint_fast64_t')\n",
            "('11341--uint_fast64_t', '113411--int')\n",
            "('1--FileAST', '1135--Typedef')\n",
            "('1135--Typedef', '11351--intptr_t')\n",
            "('11351--intptr_t', '113511--int')\n",
            "('1--FileAST', '1136--Typedef')\n",
            "('1136--Typedef', '11361--uintptr_t')\n",
            "('11361--uintptr_t', '113611--int')\n",
            "('1--FileAST', '1137--Typedef')\n",
            "('1137--Typedef', '11371--intmax_t')\n",
            "('11371--intmax_t', '113711--int')\n",
            "('1--FileAST', '1138--Typedef')\n",
            "('1138--Typedef', '11381--uintmax_t')\n",
            "('11381--uintmax_t', '113811--int')\n",
            "('1--FileAST', '1139--Typedef')\n",
            "('1139--Typedef', '11391--bool')\n",
            "('11391--bool', '113911--_Bool')\n",
            "('1--FileAST', '1140--Typedef')\n",
            "('1140--Typedef', '11401--PtrDecl')\n",
            "('11401--PtrDecl', '114011--MirEGLNativeWindowType')\n",
            "('114011--MirEGLNativeWindowType', '1140111--void')\n",
            "('1--FileAST', '1141--Typedef')\n",
            "('1141--Typedef', '11411--PtrDecl')\n",
            "('11411--PtrDecl', '114111--MirEGLNativeDisplayType')\n",
            "('114111--MirEGLNativeDisplayType', '1141111--void')\n",
            "('1--FileAST', '1142--Typedef')\n",
            "('1142--Typedef', '11421--MirConnection')\n",
            "('11421--MirConnection', '114211--MirConnection')\n",
            "('1--FileAST', '1143--Typedef')\n",
            "('1143--Typedef', '11431--MirSurface')\n",
            "('11431--MirSurface', '114311--MirSurface')\n",
            "('1--FileAST', '1144--Typedef')\n",
            "('1144--Typedef', '11441--MirSurfaceSpec')\n",
            "('11441--MirSurfaceSpec', '114411--MirSurfaceSpec')\n",
            "('1--FileAST', '1145--Typedef')\n",
            "('1145--Typedef', '11451--MirScreencast')\n",
            "('11451--MirScreencast', '114511--MirScreencast')\n",
            "('1--FileAST', '1146--Typedef')\n",
            "('1146--Typedef', '11461--MirPromptSession')\n",
            "('11461--MirPromptSession', '114611--MirPromptSession')\n",
            "('1--FileAST', '1147--Typedef')\n",
            "('1147--Typedef', '11471--MirBufferStream')\n",
            "('11471--MirBufferStream', '114711--MirBufferStream')\n",
            "('1--FileAST', '1148--Typedef')\n",
            "('1148--Typedef', '11481--MirPersistentId')\n",
            "('11481--MirPersistentId', '114811--MirPersistentId')\n",
            "('1--FileAST', '1149--Typedef')\n",
            "('1149--Typedef', '11491--MirBlob')\n",
            "('11491--MirBlob', '114911--MirBlob')\n",
            "('1--FileAST', '1150--Typedef')\n",
            "('1150--Typedef', '11501--MirDisplayConfig')\n",
            "('11501--MirDisplayConfig', '115011--MirDisplayConfig')\n",
            "('1--FileAST', '1151--Typedef')\n",
            "('1151--Typedef', '11511--xcb_connection_t')\n",
            "('11511--xcb_connection_t', '115111--xcb_connection_t')\n",
            "('1--FileAST', '1152--Typedef')\n",
            "('1152--Typedef', '11521--xcb_window_t')\n",
            "('11521--xcb_window_t', '115211--uint32_t')\n",
            "('1--FileAST', '1153--Typedef')\n",
            "('1153--Typedef', '11531--xcb_visualid_t')\n",
            "('11531--xcb_visualid_t', '115311--uint32_t')\n",
            "('1--FileAST', '1154--Typedef')\n",
            "('1154--Typedef', '11541--atomic_bool')\n",
            "('11541--atomic_bool', '115411--_Bool')\n",
            "('1--FileAST', '1155--Typedef')\n",
            "('1155--Typedef', '11551--atomic_char')\n",
            "('11551--atomic_char', '115511--char')\n",
            "('1--FileAST', '1156--Typedef')\n",
            "('1156--Typedef', '11561--atomic_schar')\n",
            "('11561--atomic_schar', '115611--signed')\n",
            "('1--FileAST', '1157--Typedef')\n",
            "('1157--Typedef', '11571--atomic_uchar')\n",
            "('11571--atomic_uchar', '115711--unsigned')\n",
            "('1--FileAST', '1158--Typedef')\n",
            "('1158--Typedef', '11581--atomic_short')\n",
            "('11581--atomic_short', '115811--short')\n",
            "('1--FileAST', '1159--Typedef')\n",
            "('1159--Typedef', '11591--atomic_ushort')\n",
            "('11591--atomic_ushort', '115911--unsigned')\n",
            "('1--FileAST', '1160--Typedef')\n",
            "('1160--Typedef', '11601--atomic_int')\n",
            "('11601--atomic_int', '116011--int')\n",
            "('1--FileAST', '1161--Typedef')\n",
            "('1161--Typedef', '11611--atomic_uint')\n",
            "('11611--atomic_uint', '116111--unsigned')\n",
            "('1--FileAST', '1162--Typedef')\n",
            "('1162--Typedef', '11621--atomic_long')\n",
            "('11621--atomic_long', '116211--long')\n",
            "('1--FileAST', '1163--Typedef')\n",
            "('1163--Typedef', '11631--atomic_ulong')\n",
            "('11631--atomic_ulong', '116311--unsigned')\n",
            "('1--FileAST', '1164--Typedef')\n",
            "('1164--Typedef', '11641--atomic_llong')\n",
            "('11641--atomic_llong', '116411--long')\n",
            "('1--FileAST', '1165--Typedef')\n",
            "('1165--Typedef', '11651--atomic_ullong')\n",
            "('11651--atomic_ullong', '116511--unsigned')\n",
            "('1--FileAST', '1166--Typedef')\n",
            "('1166--Typedef', '11661--atomic_char16_t')\n",
            "('11661--atomic_char16_t', '116611--uint_least16_t')\n",
            "('1--FileAST', '1167--Typedef')\n",
            "('1167--Typedef', '11671--atomic_char32_t')\n",
            "('11671--atomic_char32_t', '116711--uint_least32_t')\n",
            "('1--FileAST', '1168--Typedef')\n",
            "('1168--Typedef', '11681--atomic_wchar_t')\n",
            "('11681--atomic_wchar_t', '116811--wchar_t')\n",
            "('1--FileAST', '1169--Typedef')\n",
            "('1169--Typedef', '11691--atomic_int_least8_t')\n",
            "('11691--atomic_int_least8_t', '116911--int_least8_t')\n",
            "('1--FileAST', '1170--Typedef')\n",
            "('1170--Typedef', '11701--atomic_uint_least8_t')\n",
            "('11701--atomic_uint_least8_t', '117011--uint_least8_t')\n",
            "('1--FileAST', '1171--Typedef')\n",
            "('1171--Typedef', '11711--atomic_int_least16_t')\n",
            "('11711--atomic_int_least16_t', '117111--int_least16_t')\n",
            "('1--FileAST', '1172--Typedef')\n",
            "('1172--Typedef', '11721--atomic_uint_least16_t')\n",
            "('11721--atomic_uint_least16_t', '117211--uint_least16_t')\n",
            "('1--FileAST', '1173--Typedef')\n",
            "('1173--Typedef', '11731--atomic_int_least32_t')\n",
            "('11731--atomic_int_least32_t', '117311--int_least32_t')\n",
            "('1--FileAST', '1174--Typedef')\n",
            "('1174--Typedef', '11741--atomic_uint_least32_t')\n",
            "('11741--atomic_uint_least32_t', '117411--uint_least32_t')\n",
            "('1--FileAST', '1175--Typedef')\n",
            "('1175--Typedef', '11751--atomic_int_least64_t')\n",
            "('11751--atomic_int_least64_t', '117511--int_least64_t')\n",
            "('1--FileAST', '1176--Typedef')\n",
            "('1176--Typedef', '11761--atomic_uint_least64_t')\n",
            "('11761--atomic_uint_least64_t', '117611--uint_least64_t')\n",
            "('1--FileAST', '1177--Typedef')\n",
            "('1177--Typedef', '11771--atomic_int_fast8_t')\n",
            "('11771--atomic_int_fast8_t', '117711--int_fast8_t')\n",
            "('1--FileAST', '1178--Typedef')\n",
            "('1178--Typedef', '11781--atomic_uint_fast8_t')\n",
            "('11781--atomic_uint_fast8_t', '117811--uint_fast8_t')\n",
            "('1--FileAST', '1179--Typedef')\n",
            "('1179--Typedef', '11791--atomic_int_fast16_t')\n",
            "('11791--atomic_int_fast16_t', '117911--int_fast16_t')\n",
            "('1--FileAST', '1180--Typedef')\n",
            "('1180--Typedef', '11801--atomic_uint_fast16_t')\n",
            "('11801--atomic_uint_fast16_t', '118011--uint_fast16_t')\n",
            "('1--FileAST', '1181--Typedef')\n",
            "('1181--Typedef', '11811--atomic_int_fast32_t')\n",
            "('11811--atomic_int_fast32_t', '118111--int_fast32_t')\n",
            "('1--FileAST', '1182--Typedef')\n",
            "('1182--Typedef', '11821--atomic_uint_fast32_t')\n",
            "('11821--atomic_uint_fast32_t', '118211--uint_fast32_t')\n",
            "('1--FileAST', '1183--Typedef')\n",
            "('1183--Typedef', '11831--atomic_int_fast64_t')\n",
            "('11831--atomic_int_fast64_t', '118311--int_fast64_t')\n",
            "('1--FileAST', '1184--Typedef')\n",
            "('1184--Typedef', '11841--atomic_uint_fast64_t')\n",
            "('11841--atomic_uint_fast64_t', '118411--uint_fast64_t')\n",
            "('1--FileAST', '1185--Typedef')\n",
            "('1185--Typedef', '11851--atomic_intptr_t')\n",
            "('11851--atomic_intptr_t', '118511--intptr_t')\n",
            "('1--FileAST', '1186--Typedef')\n",
            "('1186--Typedef', '11861--atomic_uintptr_t')\n",
            "('11861--atomic_uintptr_t', '118611--uintptr_t')\n",
            "('1--FileAST', '1187--Typedef')\n",
            "('1187--Typedef', '11871--atomic_size_t')\n",
            "('11871--atomic_size_t', '118711--size_t')\n",
            "('1--FileAST', '1188--Typedef')\n",
            "('1188--Typedef', '11881--atomic_ptrdiff_t')\n",
            "('11881--atomic_ptrdiff_t', '118811--ptrdiff_t')\n",
            "('1--FileAST', '1189--Typedef')\n",
            "('1189--Typedef', '11891--atomic_intmax_t')\n",
            "('11891--atomic_intmax_t', '118911--intmax_t')\n",
            "('1--FileAST', '1190--Typedef')\n",
            "('1190--Typedef', '11901--atomic_uintmax_t')\n",
            "('11901--atomic_uintmax_t', '119011--uintmax_t')\n",
            "('1--FileAST', '1191--Typedef')\n",
            "('1191--Typedef', '11911--atomic_flag')\n",
            "('11911--atomic_flag', '119111--Struct')\n",
            "('119111--Struct', '1191111--Decl')\n",
            "('1191111--Decl', '11911111--_Value')\n",
            "('11911111--_Value', '119111111--atomic_bool')\n",
            "('1--FileAST', '1192--Typedef')\n",
            "('1192--Typedef', '11921--memory_order')\n",
            "('11921--memory_order', '119211--Enum')\n",
            "('119211--Enum', '1192111--EnumeratorList')\n",
            "('1192111--EnumeratorList', '11921111--memory_order_relaxed')\n",
            "('1192111--EnumeratorList', '11921112--memory_order_consume')\n",
            "('1192111--EnumeratorList', '11921113--memory_order_acquire')\n",
            "('1192111--EnumeratorList', '11921114--memory_order_release')\n",
            "('1192111--EnumeratorList', '11921115--memory_order_acq_rel')\n",
            "('1192111--EnumeratorList', '11921116--memory_order_seq_cst')\n",
            "('1--FileAST', '1193--FuncDef')\n",
            "('1193--FuncDef', '11931--Decl')\n",
            "('11931--Decl', '119311--FuncDecl')\n",
            "('119311--FuncDecl', '1193111--ParamList')\n",
            "('1193111--ParamList', '11931111--Decl')\n",
            "('11931111--Decl', '119311111--ArrayDecl')\n",
            "('119311111--ArrayDecl', '1193111111--arr')\n",
            "('1193111111--arr', '11931111111--int')\n",
            "('1193111--ParamList', '11931112--Decl')\n",
            "('11931112--Decl', '119311121--l')\n",
            "('119311121--l', '1193111211--int')\n",
            "('1193111--ParamList', '11931113--Decl')\n",
            "('11931113--Decl', '119311131--r')\n",
            "('119311131--r', '1193111311--int')\n",
            "('1193111--ParamList', '11931114--Decl')\n",
            "('11931114--Decl', '119311141--x')\n",
            "('119311141--x', '1193111411--int')\n",
            "('119311--FuncDecl', '1193112--binarySearch')\n",
            "('1193112--binarySearch', '11931121--int')\n",
            "('1193--FuncDef', '11932--Compound')\n",
            "('11932--Compound', '119321--If')\n",
            "('119321--If', '1193211-->=')\n",
            "('1193211-->=', '11932111--r')\n",
            "('1193211-->=', '11932112--l')\n",
            "('119321--If', '1193212--Compound')\n",
            "('1193212--Compound', '11932121--Decl')\n",
            "('11932121--Decl', '119321211--mid')\n",
            "('119321211--mid', '1193212111--int')\n",
            "('11932121--Decl', '119321212--+')\n",
            "('119321212--+', '1193212121--l')\n",
            "('119321212--+', '1193212122--/')\n",
            "('1193212122--/', '11932121221---')\n",
            "('11932121221---', '119321212211--r')\n",
            "('11932121221---', '119321212212--l')\n",
            "('1193212122--/', '11932121222--2')\n",
            "('1193212--Compound', '11932122--If')\n",
            "('11932122--If', '119321221--==')\n",
            "('119321221--==', '1193212211--ArrayRef')\n",
            "('1193212211--ArrayRef', '11932122111--arr')\n",
            "('1193212211--ArrayRef', '11932122112--mid')\n",
            "('119321221--==', '1193212212--x')\n",
            "('11932122--If', '119321222--Return')\n",
            "('119321222--Return', '1193212221--mid')\n",
            "('1193212--Compound', '11932123--If')\n",
            "('11932123--If', '119321231-->')\n",
            "('119321231-->', '1193212311--ArrayRef')\n",
            "('1193212311--ArrayRef', '11932123111--arr')\n",
            "('1193212311--ArrayRef', '11932123112--mid')\n",
            "('119321231-->', '1193212312--x')\n",
            "('11932123--If', '119321232--Return')\n",
            "('119321232--Return', '1193212321--FuncCall')\n",
            "('1193212321--FuncCall', '11932123211--binarySearch')\n",
            "('1193212321--FuncCall', '11932123212--ExprList')\n",
            "('11932123212--ExprList', '119321232121--arr')\n",
            "('11932123212--ExprList', '119321232122--l')\n",
            "('11932123212--ExprList', '119321232123---')\n",
            "('119321232123---', '1193212321231--mid')\n",
            "('119321232123---', '1193212321232--1')\n",
            "('11932123212--ExprList', '119321232124--x')\n",
            "('1193212--Compound', '11932124--Return')\n",
            "('11932124--Return', '119321241--FuncCall')\n",
            "('119321241--FuncCall', '1193212411--binarySearch')\n",
            "('119321241--FuncCall', '1193212412--ExprList')\n",
            "('1193212412--ExprList', '11932124121--arr')\n",
            "('1193212412--ExprList', '11932124122--+')\n",
            "('11932124122--+', '119321241221--mid')\n",
            "('11932124122--+', '119321241222--1')\n",
            "('1193212412--ExprList', '11932124123--r')\n",
            "('1193212412--ExprList', '11932124124--x')\n",
            "('11932--Compound', '119322--Return')\n",
            "('119322--Return', '1193221---')\n",
            "('1193221---', '11932211--1')\n",
            "('1--FileAST', '1194--FuncDef')\n",
            "('1194--FuncDef', '11941--Decl')\n",
            "('11941--Decl', '119411--FuncDecl')\n",
            "('119411--FuncDecl', '1194111--ParamList')\n",
            "('1194111--ParamList', '11941111--Typename')\n",
            "('11941111--Typename', '119411111--None')\n",
            "('119411111--None', '1194111111--void')\n",
            "('119411--FuncDecl', '1194112--main')\n",
            "('1194112--main', '11941121--int')\n",
            "('1194--FuncDef', '11942--Compound')\n",
            "('11942--Compound', '119421--Decl')\n",
            "('119421--Decl', '1194211--ArrayDecl')\n",
            "('1194211--ArrayDecl', '11942111--arr')\n",
            "('11942111--arr', '119421111--int')\n",
            "('119421--Decl', '1194212--InitList')\n",
            "('1194212--InitList', '11942121--2')\n",
            "('1194212--InitList', '11942122--3')\n",
            "('1194212--InitList', '11942123--4')\n",
            "('1194212--InitList', '11942124--10')\n",
            "('1194212--InitList', '11942125--40')\n",
            "('11942--Compound', '119422--Decl')\n",
            "('119422--Decl', '1194221--n')\n",
            "('1194221--n', '11942211--int')\n",
            "('119422--Decl', '1194222--/')\n",
            "('1194222--/', '11942221--sizeof')\n",
            "('11942221--sizeof', '119422211--arr')\n",
            "('1194222--/', '11942222--sizeof')\n",
            "('11942222--sizeof', '119422221--ArrayRef')\n",
            "('119422221--ArrayRef', '1194222211--arr')\n",
            "('119422221--ArrayRef', '1194222212--0')\n",
            "('11942--Compound', '119423--Decl')\n",
            "('119423--Decl', '1194231--x')\n",
            "('1194231--x', '11942311--int')\n",
            "('119423--Decl', '1194232--10')\n",
            "('11942--Compound', '119424--Decl')\n",
            "('119424--Decl', '1194241--result')\n",
            "('1194241--result', '11942411--int')\n",
            "('119424--Decl', '1194242--FuncCall')\n",
            "('1194242--FuncCall', '11942421--binarySearch')\n",
            "('1194242--FuncCall', '11942422--ExprList')\n",
            "('11942422--ExprList', '119424221--arr')\n",
            "('11942422--ExprList', '119424222--0')\n",
            "('11942422--ExprList', '119424223---')\n",
            "('119424223---', '1194242231--n')\n",
            "('119424223---', '1194242232--1')\n",
            "('11942422--ExprList', '119424224--x')\n",
            "('11942--Compound', '119425--TernaryOp')\n",
            "('119425--TernaryOp', '1194251--==')\n",
            "('1194251--==', '11942511--result')\n",
            "('1194251--==', '11942512---')\n",
            "('11942512---', '119425121--1')\n",
            "('119425--TernaryOp', '1194252--FuncCall')\n",
            "('1194252--FuncCall', '11942521--printf')\n",
            "('1194252--FuncCall', '11942522--ExprList')\n",
            "('11942522--ExprList', '119425221--\"Element is not present in array\"')\n",
            "('119425--TernaryOp', '1194253--FuncCall')\n",
            "('1194253--FuncCall', '11942531--printf')\n",
            "('1194253--FuncCall', '11942532--ExprList')\n",
            "('11942532--ExprList', '119425321--\"Element is present at index %d\"')\n",
            "('11942532--ExprList', '119425322--result')\n",
            "('11942--Compound', '119426--Return')\n",
            "('119426--Return', '1194261--0')\n"
          ]
        }
      ]
    },
    {
      "cell_type": "code",
      "source": [
        "#from anytree import RenderTree\n",
        "#print(RenderTree(head))"
      ],
      "metadata": {
        "id": "h97BbHuC5bM5"
      },
      "execution_count": null,
      "outputs": []
    },
    {
      "cell_type": "code",
      "source": [
        "'''\n",
        "from pprint import pprint  # just for nice printing\n",
        "#from anytree import AnyNode\n",
        "from anytree.exporter import DictExporter\n",
        "exporter = DictExporter()\n",
        "pprint(exporter.export(head))\n",
        "'''"
      ],
      "metadata": {
        "colab": {
          "base_uri": "https://localhost:8080/",
          "height": 53
        },
        "id": "jJnccIJM-xcu",
        "outputId": "7e0709ad-a9e9-478a-d54d-604352b7ec83"
      },
      "execution_count": null,
      "outputs": [
        {
          "output_type": "execute_result",
          "data": {
            "text/plain": [
              "'\\nfrom pprint import pprint  # just for nice printing\\n#from anytree import AnyNode\\nfrom anytree.exporter import DictExporter\\nexporter = DictExporter()\\npprint(exporter.export(head))\\n'"
            ],
            "application/vnd.google.colaboratory.intrinsic+json": {
              "type": "string"
            }
          },
          "metadata": {},
          "execution_count": 44
        }
      ]
    },
    {
      "cell_type": "code",
      "source": [
        "'''\n",
        "#from _typeshed import OpenBinaryModeUpdating\n",
        "from pycparser import c_ast, parse_file\n",
        "import pycparser\n",
        "class Visitor(c_ast.NodeVisitor):\n",
        "  \n",
        "    def __init__(self,current_parent,op):\n",
        "        self.current_parent = current_parent\n",
        "        self.op = op\n",
        "        pass\n",
        "    \n",
        "    #def visit(self, node:c_ast.FileAST):\n",
        "    #    #print(node)\n",
        "    #    self.generic_visit(node);\n",
        "   \n",
        "    \n",
        "    \n",
        "    def visit(self, node):\n",
        "        \"\"\" Visit a node.\n",
        "        \"\"\"\n",
        "\n",
        "        if self._method_cache is None:\n",
        "            self._method_cache = {}\n",
        "\n",
        "        visitor = self._method_cache.get(node.__class__.__name__, None)\n",
        "        if visitor is None:\n",
        "            method = 'visit_' + node.__class__.__name__\n",
        "            visitor = getattr(self, method, self.generic_visit)\n",
        "            self._method_cache[node.__class__.__name__] = visitor\n",
        "\n",
        "        return visitor(node)\n",
        "        \n",
        "\n",
        "    def generic_visit(self, node):\n",
        "        \"\"\" Called if no explicit visitor function exists for a\n",
        "            node. Implements preorder visiting of the node.\n",
        "        \"\"\"\n",
        "        oldparent = self.current_parent\n",
        "        self.current_parent = node\n",
        "        op.append((get_token(oldparent),get_token(node)))\n",
        "        for c in node:\n",
        "            self.visit(c)\n",
        "        self.current_parent = oldparent\n",
        "\n",
        "'''"
      ],
      "metadata": {
        "id": "b8WjB5EqK1Pj"
      },
      "execution_count": null,
      "outputs": []
    },
    {
      "cell_type": "code",
      "source": [
        "#nodes"
      ],
      "metadata": {
        "id": "jEEg4TcEBgpx"
      },
      "execution_count": null,
      "outputs": []
    },
    {
      "cell_type": "markdown",
      "source": [
        "##Removing typedef nodes and their children"
      ],
      "metadata": {
        "id": "Yg8koTDvDuw0"
      }
    },
    {
      "cell_type": "code",
      "source": [
        "#getting the parent and children in separate lists\n",
        "\n",
        "def get_parent_child(nodes):\n",
        "  parents=[]\n",
        "  children=[]\n",
        "\n",
        "  for i in nodes:\n",
        "    parents.append(i[0])\n",
        "    children.append(i[1])\n",
        "\n",
        "  return(parents,children)"
      ],
      "metadata": {
        "id": "EQUXWCtI4dMk"
      },
      "execution_count": null,
      "outputs": []
    },
    {
      "cell_type": "code",
      "source": [
        "#getting all the children of the given node\n",
        "\n",
        "def get_all_children(parents,node,children,rem_indices):\n",
        "  for i in range(len(parents)):\n",
        "    if node==parents[i]: #check if the node is in the list of parents \n",
        "      #print(node)\n",
        "      #print(i)\n",
        "      rem_indices.append(i) #if yes append the index "
      ],
      "metadata": {
        "id": "TL5rhTtCGoj6"
      },
      "execution_count": null,
      "outputs": []
    },
    {
      "cell_type": "code",
      "source": [
        "#removing all the typedef nodes and the children\n",
        "\n",
        "def get_typedef(parents,children):\n",
        "  rem_indices=[] #to get the indices to be removed\n",
        "  i=0 #to get the current index\n",
        "\n",
        "  #traverse the whole list of parents\n",
        "  while(i<len(parents)):\n",
        "    \n",
        "    if 'Typedef' in children[i]:\n",
        "      rem_indices.append(i) #append i to rem_indices\n",
        "      child=children[i] #get the child of the current parent\n",
        "      \n",
        "      while((child in parents)):\n",
        "        get_all_children(parents,child,children,rem_indices) #append all the children of the current parent\n",
        "        i+=1 \n",
        "        child=children[i] #get the children of the current parent\n",
        "      \n",
        "    i+=1 #increment the index\n",
        "    \n",
        "  return rem_indices\n",
        "      "
      ],
      "metadata": {
        "id": "LNyaTqUc6q3b"
      },
      "execution_count": null,
      "outputs": []
    },
    {
      "cell_type": "code",
      "source": [
        "#print(rem_indices)"
      ],
      "metadata": {
        "id": "7djrgidG_Z9B"
      },
      "execution_count": null,
      "outputs": []
    },
    {
      "cell_type": "code",
      "source": [
        "#for i in rem_indices:\n",
        "#  print(nodes[i])"
      ],
      "metadata": {
        "id": "MBZNlf0zAZLW"
      },
      "execution_count": null,
      "outputs": []
    },
    {
      "cell_type": "code",
      "source": [
        "len(nodes)"
      ],
      "metadata": {
        "colab": {
          "base_uri": "https://localhost:8080/"
        },
        "id": "7ZAjVHlQBewW",
        "outputId": "fdeae02e-6604-4d3f-bb9d-0048d5fcfd3b"
      },
      "execution_count": null,
      "outputs": [
        {
          "output_type": "execute_result",
          "data": {
            "text/plain": [
              "722"
            ]
          },
          "metadata": {},
          "execution_count": 43
        }
      ]
    },
    {
      "cell_type": "code",
      "source": [
        "#traverse through the rem_indices list and remove the nodes \n",
        "\n",
        "def remove_nodes(rem_indices,nodes):\n",
        "  rem_nodes=[]\n",
        "  \n",
        "  for i in rem_indices:\n",
        "    rem_nodes.append(nodes[i])\n",
        "  \n",
        "  nodes_1=list(set(nodes)-set(rem_nodes))\n",
        "  \n",
        "  return nodes_1"
      ],
      "metadata": {
        "id": "-1K3T23SAj9r"
      },
      "execution_count": null,
      "outputs": []
    },
    {
      "cell_type": "code",
      "source": [
        "#function call to get the req codes\n",
        "\n",
        "def get_req_nodes(nodes):\n",
        "  l= get_parent_child(nodes)\n",
        "  parents,children=l[0],l[1]\n",
        "  \n",
        "  rem_indices=get_typedef(parents,children)\n",
        "  \n",
        "  nodes_1 = remove_nodes(rem_indices,nodes)\n",
        "  \n",
        "  return nodes_1"
      ],
      "metadata": {
        "id": "zJJwA9MmCJz6"
      },
      "execution_count": null,
      "outputs": []
    },
    {
      "cell_type": "code",
      "source": [
        "nodes = get_req_nodes(nodes)"
      ],
      "metadata": {
        "colab": {
          "base_uri": "https://localhost:8080/"
        },
        "id": "G1nUtZ5BmfcP",
        "outputId": "9add48f7-a414-45a8-c426-dba726bff3b7"
      },
      "execution_count": null,
      "outputs": [
        {
          "output_type": "stream",
          "name": "stdout",
          "text": [
            "[('1194111--ParamList', '11941111--Typename'), ('119423--Decl', '1194232--10'), ('1194222--/', '11942222--sizeof'), ('119321232123---', '1193212321232--1'), ('11942422--ExprList', '119424223---'), ('1193212412--ExprList', '11932124121--arr'), ('1193212--Compound', '11932121--Decl'), ('11942422--ExprList', '119424221--arr'), ('1193212412--ExprList', '11932124124--x'), ('119425--TernaryOp', '1194251--=='), ('11932123212--ExprList', '119321232121--arr'), ('11931--Decl', '119311--FuncDecl'), ('1193111--ParamList', '11931111--Decl'), ('1193111--ParamList', '11931113--Decl'), ('11942111--arr', '119421111--int'), ('11942--Compound', '119422--Decl'), ('119321231-->', '1193212312--x'), ('1194212--InitList', '11942121--2'), ('1193111111--arr', '11931111111--int'), ('1193212211--ArrayRef', '11932122111--arr'), ('119426--Return', '1194261--0'), ('1194241--result', '11942411--int'), ('119322--Return', '1193221---'), ('11932123--If', '119321232--Return'), ('119424--Decl', '1194242--FuncCall'), ('119422--Decl', '1194221--n'), ('11932--Compound', '119322--Return'), ('11932123212--ExprList', '119321232122--l'), ('1--FileAST', '1194--FuncDef'), ('1194252--FuncCall', '11942521--printf'), ('11942--Compound', '119426--Return'), ('1194251--==', '11942512---'), ('11931111--Decl', '119311111--ArrayDecl'), ('119321231-->', '1193212311--ArrayRef'), ('119424--Decl', '1194241--result'), ('1194222--/', '11942221--sizeof'), ('11932121--Decl', '119321212--+'), ('119311--FuncDecl', '1193111--ParamList'), ('119321212--+', '1193212122--/'), ('1194231--x', '11942311--int'), ('1193111--ParamList', '11931112--Decl'), ('11942--Compound', '119421--Decl'), ('1193212311--ArrayRef', '11932123111--arr'), ('119424223---', '1194242232--1'), ('1193212311--ArrayRef', '11932123112--mid'), ('11942--Compound', '119425--TernaryOp'), ('11931113--Decl', '119311131--r'), ('119311--FuncDecl', '1193112--binarySearch'), ('119411--FuncDecl', '1194112--main'), ('11931112--Decl', '119311121--l'), ('119321222--Return', '1193212221--mid'), ('11942422--ExprList', '119424222--0'), ('1194252--FuncCall', '11942522--ExprList'), ('1194212--InitList', '11942123--4'), ('11942532--ExprList', '119425321--\"Element is present at index %d\"'), ('11932121--Decl', '119321211--mid'), ('119422--Decl', '1194222--/'), ('1193111--ParamList', '11931114--Decl'), ('119321211--mid', '1193212111--int'), ('119411111--None', '1194111111--void'), ('1194221--n', '11942211--int'), ('119321221--==', '1193212211--ArrayRef'), ('119311111--ArrayDecl', '1193111111--arr'), ('1194212--InitList', '11942125--40'), ('1194112--main', '11941121--int'), ('11932123--If', '119321231-->'), ('1194--FuncDef', '11942--Compound'), ('119411--FuncDecl', '1194111--ParamList'), ('119321241--FuncCall', '1193212411--binarySearch'), ('1193212211--ArrayRef', '11932122112--mid'), ('1193212122--/', '11932121221---'), ('11931114--Decl', '119311141--x'), ('11932124122--+', '119321241221--mid'), ('119321--If', '1193211-->='), ('1193--FuncDef', '11931--Decl'), ('11942222--sizeof', '119422221--ArrayRef'), ('11932123212--ExprList', '119321232123---'), ('1193--FuncDef', '11932--Compound'), ('1194253--FuncCall', '11942531--printf'), ('1193212--Compound', '11932122--If'), ('11932--Compound', '119321--If'), ('119321212--+', '1193212121--l'), ('1193212412--ExprList', '11932124123--r'), ('1194251--==', '11942511--result'), ('1193212321--FuncCall', '11932123211--binarySearch'), ('119421--Decl', '1194212--InitList'), ('119423--Decl', '1194231--x'), ('1193112--binarySearch', '11931121--int'), ('11942422--ExprList', '119424224--x'), ('1194242--FuncCall', '11942421--binarySearch'), ('1194--FuncDef', '11941--Decl'), ('119425--TernaryOp', '1194253--FuncCall'), ('119321232123---', '1193212321231--mid'), ('119321--If', '1193212--Compound'), ('11941--Decl', '119411--FuncDecl'), ('11932124122--+', '119321241222--1'), ('1194211--ArrayDecl', '11942111--arr'), ('119425--TernaryOp', '1194252--FuncCall'), ('1194242--FuncCall', '11942422--ExprList'), ('11942--Compound', '119423--Decl'), ('1194212--InitList', '11942124--10'), ('11942522--ExprList', '119425221--\"Element is not present in array\"'), ('11942221--sizeof', '119422211--arr'), ('11932121221---', '119321212212--l'), ('119311121--l', '1193111211--int'), ('119321241--FuncCall', '1193212412--ExprList'), ('119311131--r', '1193111311--int'), ('11932123212--ExprList', '119321232124--x'), ('11932122--If', '119321222--Return'), ('119421--Decl', '1194211--ArrayDecl'), ('1193211-->=', '11932111--r'), ('11942532--ExprList', '119425322--result'), ('1194212--InitList', '11942122--3'), ('119311141--x', '1193111411--int'), ('11942512---', '119425121--1'), ('119321232--Return', '1193212321--FuncCall'), ('11932124--Return', '119321241--FuncCall'), ('11932121221---', '119321212211--r'), ('1193212122--/', '11932121222--2'), ('1193212--Compound', '11932124--Return'), ('1193212412--ExprList', '11932124122--+'), ('1194253--FuncCall', '11942532--ExprList'), ('1193221---', '11932211--1'), ('11932122--If', '119321221--=='), ('1193212--Compound', '11932123--If'), ('119422221--ArrayRef', '1194222212--0'), ('11941111--Typename', '119411111--None'), ('119321221--==', '1193212212--x'), ('11942--Compound', '119424--Decl'), ('1193211-->=', '11932112--l'), ('1193212321--FuncCall', '11932123212--ExprList'), ('1--FileAST', '1193--FuncDef'), ('119422221--ArrayRef', '1194222211--arr'), ('119424223---', '1194242231--n')]\n"
          ]
        }
      ]
    },
    {
      "cell_type": "code",
      "source": [
        "len(nodes)"
      ],
      "metadata": {
        "colab": {
          "base_uri": "https://localhost:8080/"
        },
        "id": "_DKmJSj4nrII",
        "outputId": "7c9881a7-0242-4304-9829-0036ed62ca1e"
      },
      "execution_count": null,
      "outputs": [
        {
          "output_type": "execute_result",
          "data": {
            "text/plain": [
              "134"
            ]
          },
          "metadata": {},
          "execution_count": 64
        }
      ]
    },
    {
      "cell_type": "markdown",
      "source": [
        "##Writing nodes into a file"
      ],
      "metadata": {
        "id": "TCAjVDEcD2dr"
      }
    },
    {
      "cell_type": "code",
      "source": [
        "with open('c_nodes.txt', 'w') as fp:\n",
        "     for item in nodes:\n",
        "        # write each item on a new line\n",
        "        #print(item[0],item[1])\n",
        "        item0=rem_newline(item[0])\n",
        "        item1=rem_newline(item[1])\n",
        "        print(item0,item1)\n",
        "        fp.write(str(item0)+\",\"+str(item1)+\"\\n\")\n",
        "    print('Done')"
      ],
      "metadata": {
        "id": "CXGduzQn815K",
        "colab": {
          "base_uri": "https://localhost:8080/"
        },
        "outputId": "2955b29e-79ab-4621-94fb-3eecd374a0b2"
      },
      "execution_count": null,
      "outputs": [
        {
          "output_type": "stream",
          "name": "stdout",
          "text": [
            "Done\n"
          ]
        }
      ]
    },
    {
      "cell_type": "code",
      "source": [],
      "metadata": {
        "id": "lyRaXz8wDABx"
      },
      "execution_count": null,
      "outputs": []
    }
  ]
}