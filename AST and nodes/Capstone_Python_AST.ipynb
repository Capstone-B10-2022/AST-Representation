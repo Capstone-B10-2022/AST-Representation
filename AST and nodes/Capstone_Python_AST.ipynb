{
  "nbformat": 4,
  "nbformat_minor": 0,
  "metadata": {
    "colab": {
      "provenance": [],
      "collapsed_sections": []
    },
    "kernelspec": {
      "name": "python3",
      "display_name": "Python 3"
    },
    "language_info": {
      "name": "python"
    }
  },
  "cells": [
    {
      "cell_type": "markdown",
      "source": [
        "##Installing the required packages"
      ],
      "metadata": {
        "id": "9PmX-5h6GLtF"
      }
    },
    {
      "cell_type": "code",
      "source": [
        "!pip install anytree"
      ],
      "metadata": {
        "colab": {
          "base_uri": "https://localhost:8080/"
        },
        "id": "gM8h3YyDdNp4",
        "outputId": "e4ec46b3-38d0-4b26-f75b-73a5d0aef0de"
      },
      "execution_count": null,
      "outputs": [
        {
          "output_type": "stream",
          "name": "stdout",
          "text": [
            "Looking in indexes: https://pypi.org/simple, https://us-python.pkg.dev/colab-wheels/public/simple/\n",
            "Collecting anytree\n",
            "  Downloading anytree-2.8.0-py2.py3-none-any.whl (41 kB)\n",
            "\u001b[K     |████████████████████████████████| 41 kB 588 kB/s \n",
            "\u001b[?25hRequirement already satisfied: six>=1.9.0 in /usr/local/lib/python3.7/dist-packages (from anytree) (1.15.0)\n",
            "Installing collected packages: anytree\n",
            "Successfully installed anytree-2.8.0\n"
          ]
        }
      ]
    },
    {
      "cell_type": "code",
      "source": [
        "!pip install astpretty"
      ],
      "metadata": {
        "colab": {
          "base_uri": "https://localhost:8080/"
        },
        "id": "nrM67EaBSbP-",
        "outputId": "2b172fd0-c050-41b0-c690-a8efe8ada747"
      },
      "execution_count": null,
      "outputs": [
        {
          "output_type": "stream",
          "name": "stdout",
          "text": [
            "Looking in indexes: https://pypi.org/simple, https://us-python.pkg.dev/colab-wheels/public/simple/\n",
            "Collecting astpretty\n",
            "  Downloading astpretty-2.1.0-py2.py3-none-any.whl (5.3 kB)\n",
            "Installing collected packages: astpretty\n",
            "Successfully installed astpretty-2.1.0\n"
          ]
        }
      ]
    },
    {
      "cell_type": "code",
      "execution_count": null,
      "metadata": {
        "id": "QYpZz9b6zt1O"
      },
      "outputs": [],
      "source": [
        "import ast \n",
        "import re\n",
        "import random\n",
        "import anytree\n",
        "from anytree import Node\n",
        "#import astpretty #to print the ast in a more readable format"
      ]
    },
    {
      "cell_type": "markdown",
      "source": [
        "##Generating AST and visualizing it\n"
      ],
      "metadata": {
        "id": "hCt6CrkvGX1d"
      }
    },
    {
      "cell_type": "code",
      "source": [
        "def get_ast(filename):\n",
        "  with open(filename) as f:\n",
        "    code = f.read()\n",
        "  #print(code)\n",
        "  text = re.sub('\"\"\"[\\w\\W]*?\"\"\"', '', code , flags=re.S)\n",
        "  out = re.sub(\"'''[\\w\\W]*?'''\", '', text, flags=re.S)\n",
        "  #print(out)\n",
        "  ast_py = ast.parse(out)\n",
        "  return ast_py"
      ],
      "metadata": {
        "id": "06LuePhuz_P3"
      },
      "execution_count": null,
      "outputs": []
    },
    {
      "cell_type": "code",
      "source": [
        "#filename = '/content/on3_4.py'\n",
        "#ast_py = get_ast(filename)"
      ],
      "metadata": {
        "id": "nAFIf5HMNMYI"
      },
      "execution_count": null,
      "outputs": []
    },
    {
      "cell_type": "code",
      "source": [
        "#print(type(ast_py))"
      ],
      "metadata": {
        "colab": {
          "base_uri": "https://localhost:8080/"
        },
        "id": "mj23Jv0RNWB-",
        "outputId": "8cd59e78-cac5-4ca9-9e03-92d40ce4daed"
      },
      "execution_count": null,
      "outputs": [
        {
          "output_type": "stream",
          "name": "stdout",
          "text": [
            "<class '_ast.Module'>\n"
          ]
        }
      ]
    },
    {
      "cell_type": "code",
      "source": [
        "#print(ast.dump(ast_py))"
      ],
      "metadata": {
        "colab": {
          "base_uri": "https://localhost:8080/"
        },
        "id": "ngei0CMRNXz7",
        "outputId": "dc6210e6-1a5a-4cf5-bd4f-06bb10e3214e"
      },
      "execution_count": null,
      "outputs": [
        {
          "output_type": "stream",
          "name": "stdout",
          "text": [
            "Module(body=[FunctionDef(name='binarySearch', args=arguments(args=[arg(arg='arr', annotation=None), arg(arg='l', annotation=None), arg(arg='r', annotation=None), arg(arg='x', annotation=None)], vararg=None, kwonlyargs=[], kw_defaults=[], kwarg=None, defaults=[]), body=[If(test=Compare(left=Name(id='r', ctx=Load()), ops=[GtE()], comparators=[Name(id='l', ctx=Load())]), body=[Assign(targets=[Name(id='mid', ctx=Store())], value=BinOp(left=Name(id='l', ctx=Load()), op=Add(), right=BinOp(left=BinOp(left=Name(id='r', ctx=Load()), op=Sub(), right=Name(id='l', ctx=Load())), op=FloorDiv(), right=Num(n=2)))), If(test=Compare(left=Subscript(value=Name(id='arr', ctx=Load()), slice=Index(value=Name(id='mid', ctx=Load())), ctx=Load()), ops=[Eq()], comparators=[Name(id='x', ctx=Load())]), body=[Return(value=Name(id='mid', ctx=Load()))], orelse=[If(test=Compare(left=Subscript(value=Name(id='arr', ctx=Load()), slice=Index(value=Name(id='mid', ctx=Load())), ctx=Load()), ops=[Gt()], comparators=[Name(id='x', ctx=Load())]), body=[Return(value=Call(func=Name(id='binarySearch', ctx=Load()), args=[Name(id='arr', ctx=Load()), Name(id='l', ctx=Load()), BinOp(left=Name(id='mid', ctx=Load()), op=Sub(), right=Num(n=1)), Name(id='x', ctx=Load())], keywords=[]))], orelse=[Return(value=Call(func=Name(id='binarySearch', ctx=Load()), args=[Name(id='arr', ctx=Load()), BinOp(left=Name(id='mid', ctx=Load()), op=Add(), right=Num(n=1)), Name(id='r', ctx=Load()), Name(id='x', ctx=Load())], keywords=[]))])])], orelse=[Return(value=UnaryOp(op=USub(), operand=Num(n=1)))])], decorator_list=[], returns=None), Assign(targets=[Name(id='arr', ctx=Store())], value=List(elts=[Num(n=2), Num(n=3), Num(n=4), Num(n=10), Num(n=40)], ctx=Load())), Assign(targets=[Name(id='x', ctx=Store())], value=Num(n=10)), Assign(targets=[Name(id='result', ctx=Store())], value=Call(func=Name(id='binarySearch', ctx=Load()), args=[Name(id='arr', ctx=Load()), Num(n=0), BinOp(left=Call(func=Name(id='len', ctx=Load()), args=[Name(id='arr', ctx=Load())], keywords=[]), op=Sub(), right=Num(n=1)), Name(id='x', ctx=Load())], keywords=[])), If(test=Compare(left=Name(id='result', ctx=Load()), ops=[NotEq()], comparators=[UnaryOp(op=USub(), operand=Num(n=1))]), body=[Expr(value=Call(func=Name(id='print', ctx=Load()), args=[BinOp(left=Str(s='Element is present at index % d'), op=Mod(), right=Name(id='result', ctx=Load()))], keywords=[]))], orelse=[Expr(value=Call(func=Name(id='print', ctx=Load()), args=[Str(s='Element is not present in array')], keywords=[]))])])\n"
          ]
        }
      ]
    },
    {
      "cell_type": "code",
      "source": [
        "#for i in ast_py.body:\n",
        " # print(\"-----------------\")\n",
        " # astpretty.pprint(i)"
      ],
      "metadata": {
        "id": "3xlT5XiXOhx7"
      },
      "execution_count": null,
      "outputs": []
    },
    {
      "cell_type": "code",
      "source": [
        "'''\n",
        "children = list(ast.iter_child_nodes(ast_py))\n",
        "print(ast_py.__class__.__name__)\n",
        "print(type(ast_py))\n",
        "for i in children:\n",
        "  print(\"-------------------\")\n",
        "  print(i.__class__.__name__)\n",
        "  sub_child=list(ast.iter_child_nodes(i))\n",
        "  print(sub_child)\n",
        "  \n",
        "  print(type(i))\n",
        "  print(i._fields)\n",
        "\n",
        "'''"
      ],
      "metadata": {
        "colab": {
          "base_uri": "https://localhost:8080/",
          "height": 70
        },
        "id": "8VWNolQopqLq",
        "outputId": "7839900e-c971-4f54-a37c-4d3575766ca2"
      },
      "execution_count": null,
      "outputs": [
        {
          "output_type": "execute_result",
          "data": {
            "text/plain": [
              "'\\nchildren = list(ast.iter_child_nodes(ast_py))\\nprint(ast_py.__class__.__name__)\\nprint(type(ast_py))\\nfor i in children:\\n  print(\"-------------------\")\\n  print(i.__class__.__name__)\\n  sub_child=list(ast.iter_child_nodes(i))\\n  print(sub_child)\\n  \\n  print(type(i))\\n  print(i._fields)\\n\\n'"
            ],
            "application/vnd.google.colaboratory.intrinsic+json": {
              "type": "string"
            }
          },
          "metadata": {},
          "execution_count": 9
        }
      ]
    },
    {
      "cell_type": "code",
      "source": [
        "'''\n",
        "print(children)\n",
        "'''"
      ],
      "metadata": {
        "colab": {
          "base_uri": "https://localhost:8080/"
        },
        "id": "WpsA0iSkwvO3",
        "outputId": "a92b5952-6add-42d0-f8d2-248a22e8c3fb"
      },
      "execution_count": null,
      "outputs": [
        {
          "output_type": "stream",
          "name": "stdout",
          "text": [
            "[<_ast.FunctionDef object at 0x7f31248d0f10>, <_ast.Assign object at 0x7f312499d390>, <_ast.Assign object at 0x7f31248f0410>, <_ast.Assign object at 0x7f31248f0150>, <_ast.If object at 0x7f31248f0890>]\n"
          ]
        }
      ]
    },
    {
      "cell_type": "code",
      "source": [
        "\"\"\"\n",
        "#validating the number of nodes from inbuilt generic visit and custom function\n",
        "count=0\n",
        "class Visitor(ast.NodeVisitor):\n",
        "  def __init__(self,count,addr):\n",
        "    self.count=0\n",
        "    self.addr = dict()\n",
        "  '''\n",
        "  def address(self,node:ast.AST):\n",
        "    if(isinstance(node,ast.Name)):\n",
        "      print(hex(id(node)))\n",
        "      self.addr[hex(id(node))] = node.id\n",
        "      print(self.addr)\n",
        "    if(isinstance(node,ast.FunctionDef)):\n",
        "      #if(not(hex(id(node))) in addr): \n",
        "      #  self.addr[hex(id(node))] = \"\"\n",
        "      print(self.addr)\n",
        "      self.addr[hex(id(node))] = node.name\n",
        "      #print(self.addr)\n",
        "    self.generic_visit(node)\n",
        "  '''\n",
        "  def visit(self,node:ast.AST):\n",
        "    #if(isinstance(node,ast.arg)):\n",
        "      #print(node.arg)\n",
        "    if(isinstance(node,ast.Name)):\n",
        "      #print(hex(id(node)))\n",
        "      self.addr[hex(id(node))] = node.id\n",
        "      #print(self.addr)\n",
        "    if(isinstance(node,ast.FunctionDef)):\n",
        "      #if(not(hex(id(node))) in addr): \n",
        "      #  self.addr[hex(id(node))] = \"\"\n",
        "      #print(self.addr)\n",
        "      self.addr[hex(id(node))] = node.name\n",
        "    #print(node.__class__.__name__)\n",
        "    #print(\"Children: \",list(ast.iter_child_nodes(node)))\n",
        "    #fields = list(ast.iter_fields(node))\n",
        "    #print(fields)\n",
        "    self.count+=1\n",
        "    #print(\"--------------------\")\n",
        "    self.generic_visit(node)\n",
        "\n",
        "    #if(isinstance(node,ast.Name)):\n",
        "      #print(hex(id(node)))\n",
        "      #self.addr[hex(id(node))] = node.id\n",
        "      #print(self.addr)\n",
        "    #if(isinstance(node,ast.FunctionDef)):\n",
        "      #if(not(hex(id(node))) in addr): \n",
        "      #  self.addr[hex(id(node))] = \"\"\n",
        "      #print(self.addr)\n",
        "      #self.addr[hex(id(node))] = node.name\n",
        "      #print(self.addr)\n",
        "    #if(isinstance(node,ast.Call)):\n",
        "        #print(self.addr)\n",
        "     #   print(addr[str(hex(id(node.func)))])\n",
        "  \n",
        "  def print_(self):\n",
        "    print(self.count)\n",
        "    return self.addr\n",
        "\"\"\""
      ],
      "metadata": {
        "id": "VgAaDEjKS8AX"
      },
      "execution_count": null,
      "outputs": []
    },
    {
      "cell_type": "code",
      "source": [
        "\"\"\"\n",
        "count=0\n",
        "addr = dict()\n",
        "a = Visitor(count,addr)\n",
        "#a.address(ast_py)\n",
        "a.visit(ast_py)\n",
        "addr = a.print_()\n",
        "\"\"\""
      ],
      "metadata": {
        "colab": {
          "base_uri": "https://localhost:8080/"
        },
        "id": "J7pJIGVTadUN",
        "outputId": "478bf8ad-59a6-4559-dfc7-332993ca7b50"
      },
      "execution_count": null,
      "outputs": [
        {
          "output_type": "stream",
          "name": "stdout",
          "text": [
            "143\n"
          ]
        }
      ]
    },
    {
      "cell_type": "code",
      "source": [
        "#addr"
      ],
      "metadata": {
        "id": "ThdXh3_e5qp4"
      },
      "execution_count": null,
      "outputs": []
    },
    {
      "cell_type": "code",
      "source": [
        "def get_token(node):\n",
        "  token = node.__class__.__name__\n",
        "  if(isinstance(node,ast.arg)):\n",
        "    token = node.arg\n",
        "    return token\n",
        "  if(isinstance(node,ast.Name)):\n",
        "    token= node.id\n",
        "    return token\n",
        "  if(isinstance(node,ast.Num)):\n",
        "    token = node.n\n",
        "    return token\n",
        "  if(isinstance(node,ast.FunctionDef)):\n",
        "    token += \":\"+str(node.name)\n",
        "    return token\n",
        "  #if(isinstance(node,ast.Call)):\n",
        "   # token += \": \"+ str(node.func)\n",
        "   # return token\n",
        "  if(isinstance(node,ast.Str)):\n",
        "    token = node.s\n",
        "    return token\n",
        "  return token"
      ],
      "metadata": {
        "id": "UEaGLmaoMZns"
      },
      "execution_count": null,
      "outputs": []
    },
    {
      "cell_type": "markdown",
      "source": [
        "##Custom function to extract the nodes from the ast\n"
      ],
      "metadata": {
        "id": "-HtCXe4VHSUl"
      }
    },
    {
      "cell_type": "code",
      "source": [
        "from anytree import Node\n",
        "\n",
        "def get_children(root):\n",
        "    children = list(ast.iter_child_nodes(root))\n",
        "    '''\n",
        "    if isinstance(root, ast.AST):\n",
        "        children = ast.iter_children()\n",
        "    elif isinstance(root[1], pycparser.c_ast.Node):\n",
        "        children = root[1].children()\n",
        "    elif isinstance(root, set):\n",
        "        children = list(root)\n",
        "    else:\n",
        "        children = []\n",
        "    '''\n",
        "    \n",
        "    def expand(nested_list):\n",
        "        for item in nested_list:\n",
        "            if isinstance(item, list):\n",
        "                for sub_item in expand(item):\n",
        "                    yield sub_item\n",
        "            elif item:\n",
        "                yield item\n",
        "    \n",
        "    return list(expand(children))\n",
        "\n",
        "def get_trees(current_node, parent_node, order,nodes):\n",
        "    #print(current_node)\n",
        "    #fields = list(ast.iter_fields(current_node))\n",
        "    #print(fields)\n",
        "    token, children = get_token(current_node), get_children(current_node)\n",
        "    node = Node([order,token], parent=parent_node, order=order)\n",
        "    #print(parent_node)\n",
        "    #if(parent_node.name=='')\n",
        "    p = str(parent_node.name[0])+\"--\"+str(parent_node.name[1])\n",
        "    c = str(order)+\"--\"+str(token)\n",
        "    nodes.append((p,c))\n",
        "    #print(nodes)\n",
        "    for child_order in range(len(children)):\n",
        "        get_trees(children[child_order], node, order+str(random.randint(1,100000)+1),nodes)"
      ],
      "metadata": {
        "id": "sp3lhjZ03Ntr"
      },
      "execution_count": null,
      "outputs": []
    },
    {
      "cell_type": "code",
      "source": [
        "from anytree import Node\n",
        "\n",
        "def get_python_nodes(filename):\n",
        "  ast_py=get_ast(filename)\n",
        "  # Initialize head node of the code.\n",
        "  head = Node([\"1\",ast_py.__class__.__name__])\n",
        "  # Recursively construct AST tree.\n",
        "  nodes = []\n",
        "  #nodes.append((None,str(head.name[1])+str(head.name[0])))\n",
        "  for child_order in range(len(get_children(ast_py))):\n",
        "      get_trees(get_children(ast_py)[child_order], head, \"1\"+str(int(child_order)+1),nodes)\n",
        "\n",
        "  return nodes"
      ],
      "metadata": {
        "id": "iE9ekO1-3RNc"
      },
      "execution_count": null,
      "outputs": []
    },
    {
      "cell_type": "code",
      "source": [
        "filename = '/content/comments.py'\n",
        "nodes = get_python_nodes(filename)"
      ],
      "metadata": {
        "id": "-NbbUveCDHTh"
      },
      "execution_count": null,
      "outputs": []
    },
    {
      "cell_type": "code",
      "source": [
        "nodes"
      ],
      "metadata": {
        "colab": {
          "base_uri": "https://localhost:8080/"
        },
        "id": "yJ9EhK0t3-lb",
        "outputId": "98922ce5-8c67-4f04-b154-923faa29ff64"
      },
      "execution_count": null,
      "outputs": [
        {
          "output_type": "execute_result",
          "data": {
            "text/plain": [
              "[('0--Module', '11--Expr'),\n",
              " ('11--Expr', '1194253--Call'),\n",
              " ('1194253--Call', '119425319103--print'),\n",
              " ('119425319103--print', '1194253191038685--Load'),\n",
              " ('1194253--Call', '119425397711--Mathematics')]"
            ]
          },
          "metadata": {},
          "execution_count": 52
        }
      ]
    },
    {
      "cell_type": "code",
      "source": [
        "def rem_newline(item):\n",
        "    item = item.replace('\\n',\"\")\n",
        "    item = item.replace('\\t',\"\")\n",
        "    return item"
      ],
      "metadata": {
        "id": "6y0-bVko88Z_"
      },
      "execution_count": null,
      "outputs": []
    },
    {
      "cell_type": "code",
      "source": [
        "with open('python_nodes1.txt', 'w') as fp:\n",
        "    for item in nodes:\n",
        "        # write each item on a new line\n",
        "        #print(item[0],item[1])\n",
        "        item0=rem_newline(item[0])\n",
        "        item1=rem_newline(item[1])\n",
        "        print(item0,item1)\n",
        "        fp.write(str(item0)+\",\"+str(item1)+\"\\n\")\n",
        "    print('Done')"
      ],
      "metadata": {
        "id": "lh-LQkNAd1z2",
        "colab": {
          "base_uri": "https://localhost:8080/"
        },
        "outputId": "52ef5eec-4150-42e8-a344-9439a38d6c99"
      },
      "execution_count": null,
      "outputs": [
        {
          "output_type": "stream",
          "name": "stdout",
          "text": [
            "0--Module 11--FunctionDef:find3Numbers\n",
            "11--FunctionDef:find3Numbers 111--arguments\n",
            "111--arguments 1111--A\n",
            "111--arguments 1112--arr_size\n",
            "111--arguments 1113--sum\n",
            "11--FunctionDef:find3Numbers 112--For\n",
            "112--For 1121--i\n",
            "1121--i 11211--Store\n",
            "112--For 1122--Call\n",
            "1122--Call 11221--range\n",
            "11221--range 112211--Load\n",
            "1122--Call 11222--0\n",
            "1122--Call 11223--BinOp\n",
            "11223--BinOp 112231--arr_size\n",
            "112231--arr_size 1122311--Load\n",
            "11223--BinOp 112232--Sub\n",
            "11223--BinOp 112233--2\n",
            "112--For 1123--For\n",
            "1123--For 11231--j\n",
            "11231--j 112311--Store\n",
            "1123--For 11232--Call\n",
            "11232--Call 112321--range\n",
            "112321--range 1123211--Load\n",
            "11232--Call 112322--BinOp\n",
            "112322--BinOp 1123221--i\n",
            "1123221--i 11232211--Load\n",
            "112322--BinOp 1123222--Add\n",
            "112322--BinOp 1123223--1\n",
            "11232--Call 112323--BinOp\n",
            "112323--BinOp 1123231--arr_size\n",
            "1123231--arr_size 11232311--Load\n",
            "112323--BinOp 1123232--Sub\n",
            "112323--BinOp 1123233--1\n",
            "1123--For 11233--For\n",
            "11233--For 112331--k\n",
            "112331--k 1123311--Store\n",
            "11233--For 112332--Call\n",
            "112332--Call 1123321--range\n",
            "1123321--range 11233211--Load\n",
            "112332--Call 1123322--BinOp\n",
            "1123322--BinOp 11233221--j\n",
            "11233221--j 112332211--Load\n",
            "1123322--BinOp 11233222--Add\n",
            "1123322--BinOp 11233223--1\n",
            "112332--Call 1123323--arr_size\n",
            "1123323--arr_size 11233231--Load\n",
            "11233--For 112333--If\n",
            "112333--If 1123331--Compare\n",
            "1123331--Compare 11233311--BinOp\n",
            "11233311--BinOp 112333111--BinOp\n",
            "112333111--BinOp 1123331111--Subscript\n",
            "1123331111--Subscript 11233311111--A\n",
            "11233311111--A 112333111111--Load\n",
            "1123331111--Subscript 11233311112--Index\n",
            "11233311112--Index 112333111121--i\n",
            "112333111121--i 1123331111211--Load\n",
            "1123331111--Subscript 11233311113--Load\n",
            "112333111--BinOp 1123331112--Add\n",
            "112333111--BinOp 1123331113--Subscript\n",
            "1123331113--Subscript 11233311131--A\n",
            "11233311131--A 112333111311--Load\n",
            "1123331113--Subscript 11233311132--Index\n",
            "11233311132--Index 112333111321--j\n",
            "112333111321--j 1123331113211--Load\n",
            "1123331113--Subscript 11233311133--Load\n",
            "11233311--BinOp 112333112--Add\n",
            "11233311--BinOp 112333113--Subscript\n",
            "112333113--Subscript 1123331131--A\n",
            "1123331131--A 11233311311--Load\n",
            "112333113--Subscript 1123331132--Index\n",
            "1123331132--Index 11233311321--k\n",
            "11233311321--k 112333113211--Load\n",
            "112333113--Subscript 1123331133--Load\n",
            "1123331--Compare 11233312--Eq\n",
            "1123331--Compare 11233313--sum\n",
            "11233313--sum 112333131--Load\n",
            "112333--If 1123332--Expr\n",
            "1123332--Expr 11233321--Call\n",
            "11233321--Call 112333211--print\n",
            "112333211--print 1123332111--Load\n",
            "11233321--Call 112333212-- Triplet is\n",
            "11233321--Call 112333213--Subscript\n",
            "112333213--Subscript 1123332131--A\n",
            "1123332131--A 11233321311--Load\n",
            "112333213--Subscript 1123332132--Index\n",
            "1123332132--Index 11233321321--i\n",
            "11233321321--i 112333213211--Load\n",
            "112333213--Subscript 1123332133--Load\n",
            "11233321--Call 112333214--, \n",
            "11233321--Call 112333215--Subscript\n",
            "112333215--Subscript 1123332151--A\n",
            "1123332151--A 11233321511--Load\n",
            "112333215--Subscript 1123332152--Index\n",
            "1123332152--Index 11233321521--j\n",
            "11233321521--j 112333215211--Load\n",
            "112333215--Subscript 1123332153--Load\n",
            "11233321--Call 112333216--, \n",
            "11233321--Call 112333217--Subscript\n",
            "112333217--Subscript 1123332171--A\n",
            "1123332171--A 11233321711--Load\n",
            "112333217--Subscript 1123332172--Index\n",
            "1123332172--Index 11233321721--k\n",
            "11233321721--k 112333217211--Load\n",
            "112333217--Subscript 1123332173--Load\n",
            "112333--If 1123333--Return\n",
            "1123333--Return 11233331--NameConstant\n",
            "11--FunctionDef:find3Numbers 113--Return\n",
            "113--Return 1131--NameConstant\n",
            "0--Module 12--Assign\n",
            "12--Assign 121--A\n",
            "121--A 1211--Store\n",
            "12--Assign 122--List\n",
            "122--List 1221--1\n",
            "122--List 1222--4\n",
            "122--List 1223--45\n",
            "122--List 1224--6\n",
            "122--List 1225--10\n",
            "122--List 1226--8\n",
            "122--List 1227--Load\n",
            "0--Module 13--Assign\n",
            "13--Assign 131--sum\n",
            "131--sum 1311--Store\n",
            "13--Assign 132--22\n",
            "0--Module 14--Assign\n",
            "14--Assign 141--arr_size\n",
            "141--arr_size 1411--Store\n",
            "14--Assign 142--Call\n",
            "142--Call 1421--len\n",
            "1421--len 14211--Load\n",
            "142--Call 1422--A\n",
            "1422--A 14221--Load\n",
            "0--Module 15--Expr\n",
            "15--Expr 151--Call\n",
            "151--Call 1511--find3Numbers\n",
            "1511--find3Numbers 15111--Load\n",
            "151--Call 1512--A\n",
            "1512--A 15121--Load\n",
            "151--Call 1513--arr_size\n",
            "1513--arr_size 15131--Load\n",
            "151--Call 1514--sum\n",
            "1514--sum 15141--Load\n",
            "Done\n"
          ]
        }
      ]
    },
    {
      "cell_type": "code",
      "source": [
        "parents=[]\n",
        "children=[]\n",
        "for i in nodes:\n",
        "  parents.append(i[0])\n",
        "  children.append(i[1])"
      ],
      "metadata": {
        "id": "tZwkK42Crc2u"
      },
      "execution_count": null,
      "outputs": []
    },
    {
      "cell_type": "code",
      "source": [
        "for i in range(len(parents)):\n",
        "  if('112333216-' == parents[i] or '112333216-' == children[i]):#or '11711--static' == parents[i] or '11711--static' ==children[i] ):\n",
        "    print(parents[i])\n",
        "    print(children[i])\n",
        "    print(\"------------\")"
      ],
      "metadata": {
        "id": "mtNc3wD_jFue"
      },
      "execution_count": null,
      "outputs": []
    },
    {
      "cell_type": "code",
      "source": [
        "for i in range(len(parents)):\n",
        "  print(parents[i],children[i])"
      ],
      "metadata": {
        "colab": {
          "base_uri": "https://localhost:8080/"
        },
        "id": "08Py45XijNe8",
        "outputId": "0b88dc9e-7fdc-4914-bd18-af66b9ed4012"
      },
      "execution_count": null,
      "outputs": [
        {
          "output_type": "stream",
          "name": "stdout",
          "text": [
            "1--Module 11--FunctionDef:find3Numbers\n",
            "11--FunctionDef:find3Numbers 111--arguments\n",
            "111--arguments 1111--A\n",
            "111--arguments 1112--arr_size\n",
            "111--arguments 1113--sum\n",
            "11--FunctionDef:find3Numbers 112--For\n",
            "112--For 1121--i\n",
            "1121--i 11211--Store\n",
            "112--For 1122--Call\n",
            "1122--Call 11221--range\n",
            "11221--range 112211--Load\n",
            "1122--Call 11222--0\n",
            "1122--Call 11223--BinOp\n",
            "11223--BinOp 112231--arr_size\n",
            "112231--arr_size 1122311--Load\n",
            "11223--BinOp 112232--Sub\n",
            "11223--BinOp 112233--2\n",
            "112--For 1123--For\n",
            "1123--For 11231--j\n",
            "11231--j 112311--Store\n",
            "1123--For 11232--Call\n",
            "11232--Call 112321--range\n",
            "112321--range 1123211--Load\n",
            "11232--Call 112322--BinOp\n",
            "112322--BinOp 1123221--i\n",
            "1123221--i 11232211--Load\n",
            "112322--BinOp 1123222--Add\n",
            "112322--BinOp 1123223--1\n",
            "11232--Call 112323--BinOp\n",
            "112323--BinOp 1123231--arr_size\n",
            "1123231--arr_size 11232311--Load\n",
            "112323--BinOp 1123232--Sub\n",
            "112323--BinOp 1123233--1\n",
            "1123--For 11233--For\n",
            "11233--For 112331--k\n",
            "112331--k 1123311--Store\n",
            "11233--For 112332--Call\n",
            "112332--Call 1123321--range\n",
            "1123321--range 11233211--Load\n",
            "112332--Call 1123322--BinOp\n",
            "1123322--BinOp 11233221--j\n",
            "11233221--j 112332211--Load\n",
            "1123322--BinOp 11233222--Add\n",
            "1123322--BinOp 11233223--1\n",
            "112332--Call 1123323--arr_size\n",
            "1123323--arr_size 11233231--Load\n",
            "11233--For 112333--If\n",
            "112333--If 1123331--Compare\n",
            "1123331--Compare 11233311--BinOp\n",
            "11233311--BinOp 112333111--BinOp\n",
            "112333111--BinOp 1123331111--Subscript\n",
            "1123331111--Subscript 11233311111--A\n",
            "11233311111--A 112333111111--Load\n",
            "1123331111--Subscript 11233311112--Index\n",
            "11233311112--Index 112333111121--i\n",
            "112333111121--i 1123331111211--Load\n",
            "1123331111--Subscript 11233311113--Load\n",
            "112333111--BinOp 1123331112--Add\n",
            "112333111--BinOp 1123331113--Subscript\n",
            "1123331113--Subscript 11233311131--A\n",
            "11233311131--A 112333111311--Load\n",
            "1123331113--Subscript 11233311132--Index\n",
            "11233311132--Index 112333111321--j\n",
            "112333111321--j 1123331113211--Load\n",
            "1123331113--Subscript 11233311133--Load\n",
            "11233311--BinOp 112333112--Add\n",
            "11233311--BinOp 112333113--Subscript\n",
            "112333113--Subscript 1123331131--A\n",
            "1123331131--A 11233311311--Load\n",
            "112333113--Subscript 1123331132--Index\n",
            "1123331132--Index 11233311321--k\n",
            "11233311321--k 112333113211--Load\n",
            "112333113--Subscript 1123331133--Load\n",
            "1123331--Compare 11233312--Eq\n",
            "1123331--Compare 11233313--sum\n",
            "11233313--sum 112333131--Load\n",
            "112333--If 1123332--Expr\n",
            "1123332--Expr 11233321--Call\n",
            "11233321--Call 112333211--print\n",
            "112333211--print 1123332111--Load\n",
            "11233321--Call 112333212--Triplet is\n",
            "11233321--Call 112333213--Subscript\n",
            "112333213--Subscript 1123332131--A\n",
            "1123332131--A 11233321311--Load\n",
            "112333213--Subscript 1123332132--Index\n",
            "1123332132--Index 11233321321--i\n",
            "11233321321--i 112333213211--Load\n",
            "112333213--Subscript 1123332133--Load\n",
            "11233321--Call 112333214--, \n",
            "11233321--Call 112333215--Subscript\n",
            "112333215--Subscript 1123332151--A\n",
            "1123332151--A 11233321511--Load\n",
            "112333215--Subscript 1123332152--Index\n",
            "1123332152--Index 11233321521--j\n",
            "11233321521--j 112333215211--Load\n",
            "112333215--Subscript 1123332153--Load\n",
            "11233321--Call 112333216--, \n",
            "11233321--Call 112333217--Subscript\n",
            "112333217--Subscript 1123332171--A\n",
            "1123332171--A 11233321711--Load\n",
            "112333217--Subscript 1123332172--Index\n",
            "1123332172--Index 11233321721--k\n",
            "11233321721--k 112333217211--Load\n",
            "112333217--Subscript 1123332173--Load\n",
            "112333--If 1123333--Return\n",
            "1123333--Return 11233331--NameConstant\n",
            "11--FunctionDef:find3Numbers 113--Return\n",
            "113--Return 1131--NameConstant\n",
            "1--Module 12--Assign\n",
            "12--Assign 121--A\n",
            "121--A 1211--Store\n",
            "12--Assign 122--List\n",
            "122--List 1221--1\n",
            "122--List 1222--4\n",
            "122--List 1223--45\n",
            "122--List 1224--6\n",
            "122--List 1225--10\n",
            "122--List 1226--8\n",
            "122--List 1227--Load\n",
            "1--Module 13--Assign\n",
            "13--Assign 131--sum\n",
            "131--sum 1311--Store\n",
            "13--Assign 132--22\n",
            "1--Module 14--Assign\n",
            "14--Assign 141--arr_size\n",
            "141--arr_size 1411--Store\n",
            "14--Assign 142--Call\n",
            "142--Call 1421--len\n",
            "1421--len 14211--Load\n",
            "142--Call 1422--A\n",
            "1422--A 14221--Load\n",
            "1--Module 15--Expr\n",
            "15--Expr 151--Call\n",
            "151--Call 1511--find3Numbers\n",
            "1511--find3Numbers 15111--Load\n",
            "151--Call 1512--A\n",
            "1512--A 15121--Load\n",
            "151--Call 1513--arr_size\n",
            "1513--arr_size 15131--Load\n",
            "151--Call 1514--sum\n",
            "1514--sum 15141--Load\n"
          ]
        }
      ]
    },
    {
      "cell_type": "code",
      "source": [
        "nodes = list(set(set(parents).union(set(children))))"
      ],
      "metadata": {
        "id": "_74tXlbijcIf"
      },
      "execution_count": null,
      "outputs": []
    },
    {
      "cell_type": "code",
      "source": [
        "for i in nodes:\n",
        "  if(i=='112333216-'):\n",
        "    print(\"yes\")"
      ],
      "metadata": {
        "id": "_qyytQ7UjtjS"
      },
      "execution_count": null,
      "outputs": []
    },
    {
      "cell_type": "code",
      "source": [
        "112333216-"
      ],
      "metadata": {
        "id": "dyym5JAzjuZL"
      },
      "execution_count": null,
      "outputs": []
    }
  ]
}