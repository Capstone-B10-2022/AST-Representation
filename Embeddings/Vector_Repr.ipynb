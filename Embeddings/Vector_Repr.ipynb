{
  "nbformat": 4,
  "nbformat_minor": 0,
  "metadata": {
    "colab": {
      "provenance": [],
      "collapsed_sections": []
    },
    "kernelspec": {
      "name": "python3",
      "display_name": "Python 3"
    },
    "language_info": {
      "name": "python"
    }
  },
  "cells": [
    {
      "cell_type": "markdown",
      "source": [
        "Installing and importing the required libraries"
      ],
      "metadata": {
        "id": "OBzroT7yYWxW"
      }
    },
    {
      "cell_type": "code",
      "source": [
        "#!pip install networkx"
      ],
      "metadata": {
        "id": "G_AJQKPbE2e9"
      },
      "execution_count": null,
      "outputs": []
    },
    {
      "cell_type": "code",
      "source": [
        "!pip install karateclub"
      ],
      "metadata": {
        "colab": {
          "base_uri": "https://localhost:8080/"
        },
        "id": "vhQz5-xOE5aP",
        "outputId": "a23215f9-659d-4612-a3d5-80b1053ee86d"
      },
      "execution_count": null,
      "outputs": [
        {
          "output_type": "stream",
          "name": "stdout",
          "text": [
            "Looking in indexes: https://pypi.org/simple, https://us-python.pkg.dev/colab-wheels/public/simple/\n",
            "Collecting karateclub\n",
            "  Downloading karateclub-1.3.2.tar.gz (62 kB)\n",
            "\u001b[K     |████████████████████████████████| 62 kB 987 kB/s \n",
            "\u001b[?25hRequirement already satisfied: numpy<1.23.0 in /usr/local/lib/python3.7/dist-packages (from karateclub) (1.21.6)\n",
            "Requirement already satisfied: networkx<2.7 in /usr/local/lib/python3.7/dist-packages (from karateclub) (2.6.3)\n",
            "Requirement already satisfied: decorator==4.4.2 in /usr/local/lib/python3.7/dist-packages (from karateclub) (4.4.2)\n",
            "Requirement already satisfied: tqdm in /usr/local/lib/python3.7/dist-packages (from karateclub) (4.64.1)\n",
            "Requirement already satisfied: python-louvain in /usr/local/lib/python3.7/dist-packages (from karateclub) (0.16)\n",
            "Requirement already satisfied: scikit-learn in /usr/local/lib/python3.7/dist-packages (from karateclub) (1.0.2)\n",
            "Requirement already satisfied: scipy in /usr/local/lib/python3.7/dist-packages (from karateclub) (1.7.3)\n",
            "Collecting pygsp\n",
            "  Downloading PyGSP-0.5.1-py2.py3-none-any.whl (1.8 MB)\n",
            "\u001b[K     |████████████████████████████████| 1.8 MB 3.0 MB/s \n",
            "\u001b[?25hCollecting gensim>=4.0.0\n",
            "  Downloading gensim-4.2.0-cp37-cp37m-manylinux_2_12_x86_64.manylinux2010_x86_64.whl (24.1 MB)\n",
            "\u001b[K     |████████████████████████████████| 24.1 MB 2.5 MB/s \n",
            "\u001b[?25hRequirement already satisfied: pandas<=1.3.5 in /usr/local/lib/python3.7/dist-packages (from karateclub) (1.3.5)\n",
            "Requirement already satisfied: six in /usr/local/lib/python3.7/dist-packages (from karateclub) (1.15.0)\n",
            "Collecting python-Levenshtein\n",
            "  Downloading python_Levenshtein-0.20.5-py3-none-any.whl (9.4 kB)\n",
            "Requirement already satisfied: smart-open>=1.8.1 in /usr/local/lib/python3.7/dist-packages (from gensim>=4.0.0->karateclub) (5.2.1)\n",
            "Requirement already satisfied: pytz>=2017.3 in /usr/local/lib/python3.7/dist-packages (from pandas<=1.3.5->karateclub) (2022.2.1)\n",
            "Requirement already satisfied: python-dateutil>=2.7.3 in /usr/local/lib/python3.7/dist-packages (from pandas<=1.3.5->karateclub) (2.8.2)\n",
            "Collecting Levenshtein==0.20.5\n",
            "  Downloading Levenshtein-0.20.5-cp37-cp37m-manylinux_2_17_x86_64.manylinux2014_x86_64.whl (170 kB)\n",
            "\u001b[K     |████████████████████████████████| 170 kB 57.6 MB/s \n",
            "\u001b[?25hCollecting rapidfuzz<3.0.0,>=2.3.0\n",
            "  Downloading rapidfuzz-2.10.3-cp37-cp37m-manylinux_2_17_x86_64.manylinux2014_x86_64.whl (1.7 MB)\n",
            "\u001b[K     |████████████████████████████████| 1.7 MB 43.1 MB/s \n",
            "\u001b[?25hCollecting jarowinkler<2.0.0,>=1.2.2\n",
            "  Downloading jarowinkler-1.2.3-cp37-cp37m-manylinux_2_17_x86_64.manylinux2014_x86_64.whl (113 kB)\n",
            "\u001b[K     |████████████████████████████████| 113 kB 59.5 MB/s \n",
            "\u001b[?25hRequirement already satisfied: threadpoolctl>=2.0.0 in /usr/local/lib/python3.7/dist-packages (from scikit-learn->karateclub) (3.1.0)\n",
            "Requirement already satisfied: joblib>=0.11 in /usr/local/lib/python3.7/dist-packages (from scikit-learn->karateclub) (1.1.0)\n",
            "Building wheels for collected packages: karateclub\n",
            "  Building wheel for karateclub (setup.py) ... \u001b[?25l\u001b[?25hdone\n",
            "  Created wheel for karateclub: filename=karateclub-1.3.2-py3-none-any.whl size=99091 sha256=aaab1032d76446fddb7950648924fa7da1368f924a66e49b59d0b1abd1e36799\n",
            "  Stored in directory: /root/.cache/pip/wheels/6c/56/60/90b1d642c510370d800bb81d4883e92023c45e3b7ca19cf1af\n",
            "Successfully built karateclub\n",
            "Installing collected packages: jarowinkler, rapidfuzz, Levenshtein, python-Levenshtein, pygsp, gensim, karateclub\n",
            "  Attempting uninstall: gensim\n",
            "    Found existing installation: gensim 3.6.0\n",
            "    Uninstalling gensim-3.6.0:\n",
            "      Successfully uninstalled gensim-3.6.0\n",
            "Successfully installed Levenshtein-0.20.5 gensim-4.2.0 jarowinkler-1.2.3 karateclub-1.3.2 pygsp-0.5.1 python-Levenshtein-0.20.5 rapidfuzz-2.10.3\n"
          ]
        }
      ]
    },
    {
      "cell_type": "code",
      "source": [
        "#!sudo apt-get install python-dev graphviz libgraphviz-dev pkg-config"
      ],
      "metadata": {
        "id": "WnsjP63FUqWG"
      },
      "execution_count": null,
      "outputs": []
    },
    {
      "cell_type": "code",
      "source": [
        "#!sudo pip install pygraphviz"
      ],
      "metadata": {
        "id": "CP863HbTWejs"
      },
      "execution_count": null,
      "outputs": []
    },
    {
      "cell_type": "code",
      "source": [
        "import networkx as nx\n",
        "import matplotlib.pyplot as plt\n",
        "\n",
        "from karateclub.graph_embedding import Graph2Vec\n",
        "\n",
        "import numpy as np"
      ],
      "metadata": {
        "id": "2s4UnFJmNm4i"
      },
      "execution_count": null,
      "outputs": []
    },
    {
      "cell_type": "markdown",
      "source": [
        "Getting the nodes and the (parent, child)  pair from the files"
      ],
      "metadata": {
        "id": "BV1Cj0E-YeGo"
      }
    },
    {
      "cell_type": "code",
      "execution_count": null,
      "metadata": {
        "id": "mUcfi87rtN1U"
      },
      "outputs": [],
      "source": [
        "def get_nodes(filename):\n",
        "  \n",
        "  #lists to get the parents and the children\n",
        "  parents=[]\n",
        "  children=[]\n",
        "  \n",
        "  f = open(filename, \"r\")\n",
        "  \n",
        "  for x in f:\n",
        "    \n",
        "    #print(x)\n",
        "    #print(x.split(\",\"))\n",
        "    #print(x)\n",
        "    #the first node is the parent and the second one is the child\n",
        "    x1 = x.split(\",\",1)\n",
        "    #print(x1)\n",
        "    parent,child=x1[0],x1[1]\n",
        "    \n",
        "    #appending the nodes to the respective list\n",
        "    parents.append(parent)\n",
        "    print(child[-1])\n",
        "    '''\n",
        "    if(not child[-1]=='\\n'):\n",
        "      print(x)\n",
        "      \n",
        "      print(child[-1])\n",
        "      print(\"---------\")\n",
        "    '''\n",
        "    print(parent,\":\",child[:-1])\n",
        "    children.append(child[:-1])\n",
        "  \n",
        "  #\n",
        "  nodes = list(set(set(parents).union(set(children))))\n",
        "  #nodes1=[]\n",
        "  #nodes1 = parents\n",
        "  #print(nodes1)\n",
        "  #nodes1.extend(children)\n",
        "  #print(nodes1)\n",
        "  #nodes1 = list(set(nodes1))\n",
        "  #print(set(nodes1)-set(nodes))\n",
        "  #for i,j in zip(nodes,nodes1):\n",
        "   # print(i)\n",
        "   # print(j)\n",
        "   # print(\"---------------\")\n",
        "  return [parents,children,nodes]\n"
      ]
    },
    {
      "cell_type": "markdown",
      "source": [
        "Getting the node labels for each node"
      ],
      "metadata": {
        "id": "q0Pks9zWYkCZ"
      }
    },
    {
      "cell_type": "code",
      "source": [
        "#write a function to handle duplicate nodes"
      ],
      "metadata": {
        "id": "5syPdA8IMyK3"
      },
      "execution_count": null,
      "outputs": []
    },
    {
      "cell_type": "code",
      "source": [
        "\n",
        "def get_node_labels(nodes,parents,children):\n",
        "  \n",
        "  label_count=dict()\n",
        "  labels_list=list()\n",
        "  for i in nodes:\n",
        "    #print(i)\n",
        "    i1 = i.split(\"--\")[0]\n",
        "    #print(i1)\n",
        "    labels_list.append(int(i1))\n",
        "\n",
        "    '''\n",
        "    if (not(i1) in label_count):\n",
        "      label_count[(i1)]=[]\n",
        "    label_count[(i1)].append(i)\n",
        "    if(len(label_count[(i1)])>1):\n",
        "      print(i1)\n",
        "      print((i1))\n",
        "      print(label_count[(i1)])\n",
        "      #print(i1)\n",
        "    #print(int(i1))\n",
        "      print(\"----------\")\n",
        "    '''\n",
        "  labels_list.sort()\n",
        "  #print(label_count)\n",
        "  label_keys=dict()\n",
        "  \n",
        "  for i in range(len(labels_list)):\n",
        "    #print(i,labels_list[i])\n",
        "    label_keys[labels_list[i]]=i\n",
        "\n",
        "  labels=dict()\n",
        "\n",
        "  for i in nodes:\n",
        "    i1=i.split(\"--\")\n",
        "    key=label_keys[int(i1[0])]\n",
        "    labels[key]=i1[1]\n",
        "\n",
        "  sorted_labels = sorted(labels.items(), key=lambda x: x[0])\n",
        "  \n",
        "  edges = []\n",
        "  for i,j in zip(parents,children):\n",
        "    parent=i.split(\"--\")[0]\n",
        "    child=j.split(\"--\")[0]\n",
        "    edges.append((label_keys[int(parent)],label_keys[int(child)]))\n",
        "  edges.sort()\n",
        "\n",
        "  label=dict()\n",
        "  for i in sorted_labels:\n",
        "    label[i[0]]=i[1]\n",
        "  #print(label)\n",
        "  #print(edges)\n",
        "  #for i in edges:\n",
        "   # print(i)\n",
        "  #for i in labels_list:\n",
        "  #  print(i)\n",
        "  #for i in label_keys:\n",
        "  #  print(i, label_keys[i])\n",
        "  return [label,edges]"
      ],
      "metadata": {
        "id": "E2ZTrq-8KLws"
      },
      "execution_count": null,
      "outputs": []
    },
    {
      "cell_type": "code",
      "source": [
        "'''\n",
        "def get_edges(parents,children,label_keys):\n",
        "  edges = []\n",
        "  for i,j in zip(parents,children):\n",
        "    parent=i.split(\"--\")[0]\n",
        "    child=j.split(\"--\")[0]\n",
        "    edges.append((label_keys[int(parent)],label_keys[int(child)]))\n",
        "  edges.sort()\n",
        "  return edges\n",
        "'''"
      ],
      "metadata": {
        "id": "F6xWhi-rJwa3",
        "colab": {
          "base_uri": "https://localhost:8080/",
          "height": 53
        },
        "outputId": "de36d23e-e98e-4897-c96e-01dcb7b5b2be"
      },
      "execution_count": null,
      "outputs": [
        {
          "output_type": "execute_result",
          "data": {
            "text/plain": [
              "'\\ndef get_edges(parents,children,label_keys):\\n  edges = []\\n  for i,j in zip(parents,children):\\n    parent=i.split(\"--\")[0]\\n    child=j.split(\"--\")[0]\\n    edges.append((label_keys[int(parent)],label_keys[int(child)]))\\n  edges.sort()\\n  return edges\\n'"
            ],
            "application/vnd.google.colaboratory.intrinsic+json": {
              "type": "string"
            }
          },
          "metadata": {},
          "execution_count": 6
        }
      ]
    },
    {
      "cell_type": "markdown",
      "source": [
        "#Getting the edges and the labels for creating the graph\n"
      ],
      "metadata": {
        "id": "01bWgqfkj0Qq"
      }
    },
    {
      "cell_type": "code",
      "source": [
        "def graph(edges,label):\n",
        "  #print(len(edges))\n",
        "  #print(edges)\n",
        "  tree2graph = nx.DiGraph()\n",
        "  tree2graph.add_edges_from(edges)\n",
        "  for node in tree2graph.nodes():\n",
        "      tree2graph.nodes[node]['feature'] = label[node]\n",
        "  return tree2graph"
      ],
      "metadata": {
        "id": "mS2i3ZSNoV6l"
      },
      "execution_count": null,
      "outputs": []
    },
    {
      "cell_type": "markdown",
      "source": [
        "##Obtaining the graph for the given file"
      ],
      "metadata": {
        "id": "qrFlQkmfj9aA"
      }
    },
    {
      "cell_type": "code",
      "source": [
        "def get_graph(file):\n",
        "  l=get_nodes(file)\n",
        "  parents,children,nodes = l[0],l[1],l[2]\n",
        "  \n",
        "  l=get_node_labels(nodes,parents,children)\n",
        "  #print(l)\n",
        "  label,edges=l[0],l[1]\n",
        "  \n",
        "  g=graph(edges,label)\n",
        "  return g"
      ],
      "metadata": {
        "id": "mkPD5Hr0u4ym"
      },
      "execution_count": null,
      "outputs": []
    },
    {
      "cell_type": "markdown",
      "source": [
        "#obtaining the embedding of a given graph"
      ],
      "metadata": {
        "id": "pTMjE7DmkB86"
      }
    },
    {
      "cell_type": "code",
      "source": [
        "# Graph2Vec attributed example\n",
        "def get_embedding(graphs):\n",
        "\n",
        "  model = Graph2Vec(attributed=True)\n",
        "  \n",
        "  model.fit(graphs)\n",
        "\n",
        "  embed = model.get_embedding()\n",
        "\n",
        "  return embed"
      ],
      "metadata": {
        "id": "wIzgwfGdWnAp"
      },
      "execution_count": null,
      "outputs": []
    },
    {
      "cell_type": "code",
      "source": [
        "graphs=[]\n",
        "embeddings=[]\n",
        "#files=[\"/content/python_nodes.txt\",\"/content/java_nodes.txt\",\"/content/c_nodes.txt\"]\n",
        "files=[\"/content/python_nodes1 (1).txt\"]\n",
        "\n",
        "for i in files:\n",
        "  g=get_graph(i)\n",
        "  graphs.append(g)"
      ],
      "metadata": {
        "id": "z3Qkt7aYwIGi",
        "colab": {
          "base_uri": "https://localhost:8080/"
        },
        "outputId": "d330e0cb-7a1c-4440-a45c-b6865a49eed4"
      },
      "execution_count": null,
      "outputs": [
        {
          "output_type": "stream",
          "name": "stdout",
          "text": [
            "\n",
            "\n",
            "1--Module : 11--FunctionDef:find3Numbers\n",
            "\n",
            "\n",
            "11--FunctionDef:find3Numbers : 111--arguments\n",
            "\n",
            "\n",
            "111--arguments : 1111--A\n",
            "\n",
            "\n",
            "111--arguments : 1112--arr_size\n",
            "\n",
            "\n",
            "111--arguments : 1113--sum\n",
            "\n",
            "\n",
            "11--FunctionDef:find3Numbers : 112--For\n",
            "\n",
            "\n",
            "112--For : 1121--i\n",
            "\n",
            "\n",
            "1121--i : 11211--Store\n",
            "\n",
            "\n",
            "112--For : 1122--Call\n",
            "\n",
            "\n",
            "1122--Call : 11221--range\n",
            "\n",
            "\n",
            "11221--range : 112211--Load\n",
            "\n",
            "\n",
            "1122--Call : 11222--0\n",
            "\n",
            "\n",
            "1122--Call : 11223--BinOp\n",
            "\n",
            "\n",
            "11223--BinOp : 112231--arr_size\n",
            "\n",
            "\n",
            "112231--arr_size : 1122311--Load\n",
            "\n",
            "\n",
            "11223--BinOp : 112232--Sub\n",
            "\n",
            "\n",
            "11223--BinOp : 112233--2\n",
            "\n",
            "\n",
            "112--For : 1123--For\n",
            "\n",
            "\n",
            "1123--For : 11231--j\n",
            "\n",
            "\n",
            "11231--j : 112311--Store\n",
            "\n",
            "\n",
            "1123--For : 11232--Call\n",
            "\n",
            "\n",
            "11232--Call : 112321--range\n",
            "\n",
            "\n",
            "112321--range : 1123211--Load\n",
            "\n",
            "\n",
            "11232--Call : 112322--BinOp\n",
            "\n",
            "\n",
            "112322--BinOp : 1123221--i\n",
            "\n",
            "\n",
            "1123221--i : 11232211--Load\n",
            "\n",
            "\n",
            "112322--BinOp : 1123222--Add\n",
            "\n",
            "\n",
            "112322--BinOp : 1123223--1\n",
            "\n",
            "\n",
            "11232--Call : 112323--BinOp\n",
            "\n",
            "\n",
            "112323--BinOp : 1123231--arr_size\n",
            "\n",
            "\n",
            "1123231--arr_size : 11232311--Load\n",
            "\n",
            "\n",
            "112323--BinOp : 1123232--Sub\n",
            "\n",
            "\n",
            "112323--BinOp : 1123233--1\n",
            "\n",
            "\n",
            "1123--For : 11233--For\n",
            "\n",
            "\n",
            "11233--For : 112331--k\n",
            "\n",
            "\n",
            "112331--k : 1123311--Store\n",
            "\n",
            "\n",
            "11233--For : 112332--Call\n",
            "\n",
            "\n",
            "112332--Call : 1123321--range\n",
            "\n",
            "\n",
            "1123321--range : 11233211--Load\n",
            "\n",
            "\n",
            "112332--Call : 1123322--BinOp\n",
            "\n",
            "\n",
            "1123322--BinOp : 11233221--j\n",
            "\n",
            "\n",
            "11233221--j : 112332211--Load\n",
            "\n",
            "\n",
            "1123322--BinOp : 11233222--Add\n",
            "\n",
            "\n",
            "1123322--BinOp : 11233223--1\n",
            "\n",
            "\n",
            "112332--Call : 1123323--arr_size\n",
            "\n",
            "\n",
            "1123323--arr_size : 11233231--Load\n",
            "\n",
            "\n",
            "11233--For : 112333--If\n",
            "\n",
            "\n",
            "112333--If : 1123331--Compare\n",
            "\n",
            "\n",
            "1123331--Compare : 11233311--BinOp\n",
            "\n",
            "\n",
            "11233311--BinOp : 112333111--BinOp\n",
            "\n",
            "\n",
            "112333111--BinOp : 1123331111--Subscript\n",
            "\n",
            "\n",
            "1123331111--Subscript : 11233311111--A\n",
            "\n",
            "\n",
            "11233311111--A : 112333111111--Load\n",
            "\n",
            "\n",
            "1123331111--Subscript : 11233311112--Index\n",
            "\n",
            "\n",
            "11233311112--Index : 112333111121--i\n",
            "\n",
            "\n",
            "112333111121--i : 1123331111211--Load\n",
            "\n",
            "\n",
            "1123331111--Subscript : 11233311113--Load\n",
            "\n",
            "\n",
            "112333111--BinOp : 1123331112--Add\n",
            "\n",
            "\n",
            "112333111--BinOp : 1123331113--Subscript\n",
            "\n",
            "\n",
            "1123331113--Subscript : 11233311131--A\n",
            "\n",
            "\n",
            "11233311131--A : 112333111311--Load\n",
            "\n",
            "\n",
            "1123331113--Subscript : 11233311132--Index\n",
            "\n",
            "\n",
            "11233311132--Index : 112333111321--j\n",
            "\n",
            "\n",
            "112333111321--j : 1123331113211--Load\n",
            "\n",
            "\n",
            "1123331113--Subscript : 11233311133--Load\n",
            "\n",
            "\n",
            "11233311--BinOp : 112333112--Add\n",
            "\n",
            "\n",
            "11233311--BinOp : 112333113--Subscript\n",
            "\n",
            "\n",
            "112333113--Subscript : 1123331131--A\n",
            "\n",
            "\n",
            "1123331131--A : 11233311311--Load\n",
            "\n",
            "\n",
            "112333113--Subscript : 1123331132--Index\n",
            "\n",
            "\n",
            "1123331132--Index : 11233311321--k\n",
            "\n",
            "\n",
            "11233311321--k : 112333113211--Load\n",
            "\n",
            "\n",
            "112333113--Subscript : 1123331133--Load\n",
            "\n",
            "\n",
            "1123331--Compare : 11233312--Eq\n",
            "\n",
            "\n",
            "1123331--Compare : 11233313--sum\n",
            "\n",
            "\n",
            "11233313--sum : 112333131--Load\n",
            "\n",
            "\n",
            "112333--If : 1123332--Expr\n",
            "\n",
            "\n",
            "1123332--Expr : 11233321--Call\n",
            "\n",
            "\n",
            "11233321--Call : 112333211--print\n",
            "\n",
            "\n",
            "112333211--print : 1123332111--Load\n",
            "\n",
            "\n",
            "11233321--Call : 112333212--Triplet is\n",
            "\n",
            "\n",
            "11233321--Call : 112333213--Subscript\n",
            "\n",
            "\n",
            "112333213--Subscript : 1123332131--A\n",
            "\n",
            "\n",
            "1123332131--A : 11233321311--Load\n",
            "\n",
            "\n",
            "112333213--Subscript : 1123332132--Index\n",
            "\n",
            "\n",
            "1123332132--Index : 11233321321--i\n",
            "\n",
            "\n",
            "11233321321--i : 112333213211--Load\n",
            "\n",
            "\n",
            "112333213--Subscript : 1123332133--Load\n",
            "\n",
            "\n",
            "11233321--Call : 112333214--, \n",
            "\n",
            "\n",
            "11233321--Call : 112333215--Subscript\n",
            "\n",
            "\n",
            "112333215--Subscript : 1123332151--A\n",
            "\n",
            "\n",
            "1123332151--A : 11233321511--Load\n",
            "\n",
            "\n",
            "112333215--Subscript : 1123332152--Index\n",
            "\n",
            "\n",
            "1123332152--Index : 11233321521--j\n",
            "\n",
            "\n",
            "11233321521--j : 112333215211--Load\n",
            "\n",
            "\n",
            "112333215--Subscript : 1123332153--Load\n",
            "\n",
            "\n",
            "11233321--Call : 112333216--, \n",
            "\n",
            "\n",
            "11233321--Call : 112333217--Subscript\n",
            "\n",
            "\n",
            "112333217--Subscript : 1123332171--A\n",
            "\n",
            "\n",
            "1123332171--A : 11233321711--Load\n",
            "\n",
            "\n",
            "112333217--Subscript : 1123332172--Index\n",
            "\n",
            "\n",
            "1123332172--Index : 11233321721--k\n",
            "\n",
            "\n",
            "11233321721--k : 112333217211--Load\n",
            "\n",
            "\n",
            "112333217--Subscript : 1123332173--Load\n",
            "\n",
            "\n",
            "112333--If : 1123333--Return\n",
            "\n",
            "\n",
            "1123333--Return : 11233331--NameConstant\n",
            "\n",
            "\n",
            "11--FunctionDef:find3Numbers : 113--Return\n",
            "\n",
            "\n",
            "113--Return : 1131--NameConstant\n",
            "\n",
            "\n",
            "1--Module : 12--Assign\n",
            "\n",
            "\n",
            "12--Assign : 121--A\n",
            "\n",
            "\n",
            "121--A : 1211--Store\n",
            "\n",
            "\n",
            "12--Assign : 122--List\n",
            "\n",
            "\n",
            "122--List : 1221--1\n",
            "\n",
            "\n",
            "122--List : 1222--4\n",
            "\n",
            "\n",
            "122--List : 1223--45\n",
            "\n",
            "\n",
            "122--List : 1224--6\n",
            "\n",
            "\n",
            "122--List : 1225--10\n",
            "\n",
            "\n",
            "122--List : 1226--8\n",
            "\n",
            "\n",
            "122--List : 1227--Load\n",
            "\n",
            "\n",
            "1--Module : 13--Assign\n",
            "\n",
            "\n",
            "13--Assign : 131--sum\n",
            "\n",
            "\n",
            "131--sum : 1311--Store\n",
            "\n",
            "\n",
            "13--Assign : 132--22\n",
            "\n",
            "\n",
            "1--Module : 14--Assign\n",
            "\n",
            "\n",
            "14--Assign : 141--arr_size\n",
            "\n",
            "\n",
            "141--arr_size : 1411--Store\n",
            "\n",
            "\n",
            "14--Assign : 142--Call\n",
            "\n",
            "\n",
            "142--Call : 1421--len\n",
            "\n",
            "\n",
            "1421--len : 14211--Load\n",
            "\n",
            "\n",
            "142--Call : 1422--A\n",
            "\n",
            "\n",
            "1422--A : 14221--Load\n",
            "\n",
            "\n",
            "1--Module : 15--Expr\n",
            "\n",
            "\n",
            "15--Expr : 151--Call\n",
            "\n",
            "\n",
            "151--Call : 1511--find3Numbers\n",
            "\n",
            "\n",
            "1511--find3Numbers : 15111--Load\n",
            "\n",
            "\n",
            "151--Call : 1512--A\n",
            "\n",
            "\n",
            "1512--A : 15121--Load\n",
            "\n",
            "\n",
            "151--Call : 1513--arr_size\n",
            "\n",
            "\n",
            "1513--arr_size : 15131--Load\n",
            "\n",
            "\n",
            "151--Call : 1514--sum\n",
            "\n",
            "\n",
            "1514--sum : 15141--Load\n"
          ]
        }
      ]
    },
    {
      "cell_type": "code",
      "source": [
        "graphs[0].nodes"
      ],
      "metadata": {
        "colab": {
          "base_uri": "https://localhost:8080/"
        },
        "id": "_qRoiLOYoHsy",
        "outputId": "021e6dea-7504-43e1-a410-7ab4bce5e772"
      },
      "execution_count": null,
      "outputs": [
        {
          "output_type": "execute_result",
          "data": {
            "text/plain": [
              "NodeView((0, 1, 2, 3, 4, 5, 6, 7, 8, 9, 10, 11, 12, 13, 14, 15, 16, 17, 18, 19, 20, 21, 22, 23, 24, 25, 26, 27, 28, 29, 30, 31, 32, 33, 34, 35, 36, 37, 38, 39, 40, 41, 42, 43, 44, 45, 46, 47, 48, 49, 50, 51, 52, 53, 54, 55, 56, 57, 58, 59, 60, 61, 62, 63, 64, 65, 66, 67, 68, 69, 70, 71, 72, 73, 74, 75, 76, 77, 78, 79, 80, 81, 82, 83, 84, 85, 86, 87, 88, 89, 90, 91, 92, 93, 94, 95, 96, 97, 98, 99, 100, 101, 102, 103, 104, 105, 106, 107, 108, 109, 110, 111, 112, 113, 114, 115, 116, 117, 118, 119, 120, 121, 122, 123, 124, 125, 126, 127, 128, 129, 130, 131, 132, 133, 134, 135, 136, 137, 138, 139, 140, 141))"
            ]
          },
          "metadata": {},
          "execution_count": 28
        }
      ]
    },
    {
      "cell_type": "code",
      "source": [
        "#to check if consecutive numbers are present in the list or not\n",
        "for i in range (len(list(graphs[0].nodes))):\n",
        "  if not(i in list(graphs[0].nodes)):\n",
        "      print(i,list(graphs[0].nodes)[i])\n",
        "      #print('no')"
      ],
      "metadata": {
        "id": "PmDg3i54nAsD"
      },
      "execution_count": null,
      "outputs": []
    },
    {
      "cell_type": "code",
      "source": [
        "#nx.get_node_attributes(graphs[0], \"feature\")"
      ],
      "metadata": {
        "id": "G-rgcuInkxM4"
      },
      "execution_count": null,
      "outputs": []
    },
    {
      "cell_type": "code",
      "source": [
        "embeddings=get_embedding(graphs)"
      ],
      "metadata": {
        "id": "YkAT_2DBWtZ2"
      },
      "execution_count": null,
      "outputs": []
    },
    {
      "cell_type": "code",
      "source": [
        "print(graphs)"
      ],
      "metadata": {
        "id": "eQQLLzvqJQpK",
        "colab": {
          "base_uri": "https://localhost:8080/"
        },
        "outputId": "a058826c-ef7f-41d8-cb6f-bd9356c3af80"
      },
      "execution_count": null,
      "outputs": [
        {
          "output_type": "stream",
          "name": "stdout",
          "text": [
            "[<networkx.classes.digraph.DiGraph object at 0x7f8c3e5f9850>, <networkx.classes.digraph.DiGraph object at 0x7f8c3e5b7990>]\n"
          ]
        }
      ]
    },
    {
      "cell_type": "code",
      "source": [
        "print(embeddings.shape)"
      ],
      "metadata": {
        "colab": {
          "base_uri": "https://localhost:8080/"
        },
        "id": "rGpiPKmJUf6E",
        "outputId": "005a4c6b-ac49-4143-dd45-1717a58b9bc8"
      },
      "execution_count": null,
      "outputs": [
        {
          "output_type": "stream",
          "name": "stdout",
          "text": [
            "(1, 128)\n"
          ]
        }
      ]
    },
    {
      "cell_type": "code",
      "source": [
        "for i in graphs:\n",
        "  print(i.nodes.data())"
      ],
      "metadata": {
        "colab": {
          "base_uri": "https://localhost:8080/"
        },
        "id": "6mhNB4lRAlo9",
        "outputId": "ba1cce13-33ce-40c9-8fc0-d193a87d6be9"
      },
      "execution_count": null,
      "outputs": [
        {
          "output_type": "stream",
          "name": "stdout",
          "text": [
            "[(0, {'feature': 'Module'}), (1, {'feature': 'FunctionDef:binary_search'}), (2, {'feature': 'Assign'}), (3, {'feature': 'Assign'}), (4, {'feature': 'Assign'}), (5, {'feature': 'If'}), (6, {'feature': 'arguments'}), (7, {'feature': 'If'}), (8, {'feature': 'arr'}), (9, {'feature': 'List'}), (10, {'feature': 'x'}), (11, {'feature': '10'}), (12, {'feature': 'result'}), (13, {'feature': 'Call'}), (14, {'feature': 'Compare'}), (15, {'feature': 'Expr'}), (16, {'feature': 'Expr'}), (17, {'feature': 'arr'}), (18, {'feature': 'low'}), (19, {'feature': 'high'}), (20, {'feature': 'x'}), (21, {'feature': 'Compare'}), (22, {'feature': 'Assign'}), (23, {'feature': 'If'}), (24, {'feature': 'Return'}), (25, {'feature': 'Store'}), (26, {'feature': '2'}), (27, {'feature': '3'}), (28, {'feature': '4'}), (29, {'feature': '10'}), (30, {'feature': '40'}), (31, {'feature': 'Load'}), (32, {'feature': 'Store'}), (33, {'feature': 'Store'}), (34, {'feature': 'binary_search'}), (35, {'feature': 'arr'}), (36, {'feature': '0'}), (37, {'feature': 'BinOp'}), (38, {'feature': 'x'}), (39, {'feature': 'result'}), (40, {'feature': 'NotEq'}), (41, {'feature': 'UnaryOp'}), (42, {'feature': 'Call'}), (43, {'feature': 'Call'}), (44, {'feature': 'high'}), (45, {'feature': 'GtE'}), (46, {'feature': 'low'}), (47, {'feature': 'mid'}), (48, {'feature': 'BinOp'}), (49, {'feature': 'Compare'}), (50, {'feature': 'Return'}), (51, {'feature': 'If'}), (52, {'feature': 'UnaryOp'}), (53, {'feature': 'Load'}), (54, {'feature': 'Load'}), (55, {'feature': 'Call'}), (56, {'feature': 'Sub'}), (57, {'feature': '1'}), (58, {'feature': 'Load'}), (59, {'feature': 'Load'}), (60, {'feature': 'USub'}), (61, {'feature': '1'}), (62, {'feature': 'print'}), (63, {'feature': 'Element is present at index'}), (64, {'feature': 'Call'}), (65, {'feature': 'print'}), (66, {'feature': 'Element is not present in array'}), (67, {'feature': 'Load'}), (68, {'feature': 'Load'}), (69, {'feature': 'Store'}), (70, {'feature': 'BinOp'}), (71, {'feature': 'FloorDiv'}), (72, {'feature': '2'}), (73, {'feature': 'Subscript'}), (74, {'feature': 'Eq'}), (75, {'feature': 'x'}), (76, {'feature': 'mid'}), (77, {'feature': 'Compare'}), (78, {'feature': 'Return'}), (79, {'feature': 'Return'}), (80, {'feature': 'USub'}), (81, {'feature': '1'}), (82, {'feature': 'len'}), (83, {'feature': 'arr'}), (84, {'feature': 'Load'}), (85, {'feature': 'str'}), (86, {'feature': 'result'}), (87, {'feature': 'Load'}), (88, {'feature': 'high'}), (89, {'feature': 'Add'}), (90, {'feature': 'low'}), (91, {'feature': 'arr'}), (92, {'feature': 'Index'}), (93, {'feature': 'Load'}), (94, {'feature': 'Load'}), (95, {'feature': 'Load'}), (96, {'feature': 'Subscript'}), (97, {'feature': 'Gt'}), (98, {'feature': 'x'}), (99, {'feature': 'Call'}), (100, {'feature': 'Call'}), (101, {'feature': 'Load'}), (102, {'feature': 'Load'}), (103, {'feature': 'Load'}), (104, {'feature': 'Load'}), (105, {'feature': 'Load'}), (106, {'feature': 'Load'}), (107, {'feature': 'Load'}), (108, {'feature': 'mid'}), (109, {'feature': 'arr'}), (110, {'feature': 'Index'}), (111, {'feature': 'Load'}), (112, {'feature': 'Load'}), (113, {'feature': 'binary_search'}), (114, {'feature': 'arr'}), (115, {'feature': 'low'}), (116, {'feature': 'BinOp'}), (117, {'feature': 'x'}), (118, {'feature': 'binary_search'}), (119, {'feature': 'arr'}), (120, {'feature': 'BinOp'}), (121, {'feature': 'high'}), (122, {'feature': 'x'}), (123, {'feature': 'Load'}), (124, {'feature': 'Load'}), (125, {'feature': 'mid'}), (126, {'feature': 'Load'}), (127, {'feature': 'Load'}), (128, {'feature': 'Load'}), (129, {'feature': 'mid'}), (130, {'feature': 'Sub'}), (131, {'feature': '1'}), (132, {'feature': 'Load'}), (133, {'feature': 'Load'}), (134, {'feature': 'Load'}), (135, {'feature': 'mid'}), (136, {'feature': 'Add'}), (137, {'feature': '1'}), (138, {'feature': 'Load'}), (139, {'feature': 'Load'}), (140, {'feature': 'Load'}), (141, {'feature': 'Load'}), (142, {'feature': 'Load'})]\n",
            "[(0, {'feature': 'CompilationUnit'}), (1, {'feature': 'Import'}), (2, {'feature': 'ClassDeclaration'}), (3, {'feature': 'java.util'}), (4, {'feature': 'bool'}), (5, {'feature': 'GFG'}), (6, {'feature': 'MethodDeclaration'}), (7, {'feature': 'MethodDeclaration'}), (8, {'feature': 'BasicType'}), (9, {'feature': 'binarySearch'}), (10, {'feature': 'FormalParameter'}), (11, {'feature': 'FormalParameter'}), (12, {'feature': 'FormalParameter'}), (13, {'feature': 'FormalParameter'}), (14, {'feature': 'IfStatement'}), (15, {'feature': 'ReturnStatement'}), (16, {'feature': 'set'}), (17, {'feature': 'main'}), (18, {'feature': 'FormalParameter'}), (19, {'feature': 'LocalVariableDeclaration'}), (20, {'feature': 'LocalVariableDeclaration'}), (21, {'feature': 'LocalVariableDeclaration'}), (22, {'feature': 'LocalVariableDeclaration'}), (23, {'feature': 'LocalVariableDeclaration'}), (24, {'feature': 'IfStatement'}), (25, {'feature': 'int'}), (26, {'feature': 'BasicType'}), (27, {'feature': 'arr'}), (28, {'feature': 'BasicType'}), (29, {'feature': 'l'}), (30, {'feature': 'BasicType'}), (31, {'feature': 'r'}), (32, {'feature': 'BasicType'}), (33, {'feature': 'x'}), (34, {'feature': 'BinaryOperation'}), (35, {'feature': 'BlockStatement'}), (36, {'feature': 'Literal'}), (37, {'feature': 'public'}), (38, {'feature': 'static'}), (39, {'feature': 'ReferenceType'}), (40, {'feature': 'args'}), (41, {'feature': 'ReferenceType'}), (42, {'feature': 'VariableDeclarator'}), (43, {'feature': 'BasicType'}), (44, {'feature': 'VariableDeclarator'}), (45, {'feature': 'BasicType'}), (46, {'feature': 'VariableDeclarator'}), (47, {'feature': 'BasicType'}), (48, {'feature': 'VariableDeclarator'}), (49, {'feature': 'BasicType'}), (50, {'feature': 'VariableDeclarator'}), (51, {'feature': 'BinaryOperation'}), (52, {'feature': 'StatementExpression'}), (53, {'feature': 'StatementExpression'}), (54, {'feature': 'int'}), (55, {'feature': 'int'}), (56, {'feature': 'int'}), (57, {'feature': 'int'}), (58, {'feature': '&&'}), (59, {'feature': 'BinaryOperation'}), (60, {'feature': 'BinaryOperation'}), (61, {'feature': 'LocalVariableDeclaration'}), (62, {'feature': 'IfStatement'}), (63, {'feature': 'IfStatement'}), (64, {'feature': 'ReturnStatement'}), (65, {'feature': '-'}), (66, {'feature': '1'}), (67, {'feature': 'String'}), (68, {'feature': 'GFG'}), (69, {'feature': 'ob'}), (70, {'feature': 'ClassCreator'}), (71, {'feature': 'int'}), (72, {'feature': 'arr'}), (73, {'feature': 'ArrayInitializer'}), (74, {'feature': 'int'}), (75, {'feature': 'n'}), (76, {'feature': 'MemberReference'}), (77, {'feature': 'int'}), (78, {'feature': 'x'}), (79, {'feature': 'Literal'}), (80, {'feature': 'int'}), (81, {'feature': 'result'}), (82, {'feature': 'MethodInvocation'}), (83, {'feature': '=='}), (84, {'feature': 'MemberReference'}), (85, {'feature': 'Literal'}), (86, {'feature': 'MethodInvocation'}), (87, {'feature': 'MethodInvocation'}), (88, {'feature': '>='}), (89, {'feature': 'MemberReference'}), (90, {'feature': 'MemberReference'}), (91, {'feature': '<='}), (92, {'feature': 'MemberReference'}), (93, {'feature': 'BinaryOperation'}), (94, {'feature': 'BasicType'}), (95, {'feature': 'VariableDeclarator'}), (96, {'feature': 'BinaryOperation'}), (97, {'feature': 'ReturnStatement'}), (98, {'feature': 'BinaryOperation'}), (99, {'feature': 'ReturnStatement'}), (100, {'feature': 'MethodInvocation'}), (101, {'feature': 'ReferenceType'}), (102, {'feature': 'Literal'}), (103, {'feature': 'Literal'}), (104, {'feature': 'Literal'}), (105, {'feature': 'Literal'}), (106, {'feature': 'Literal'}), (107, {'feature': 'arr'}), (108, {'feature': 'length'}), (109, {'feature': '10'}), (110, {'feature': 'ob'}), (111, {'feature': 'MemberReference'}), (112, {'feature': 'Literal'}), (113, {'feature': 'BinaryOperation'}), (114, {'feature': 'MemberReference'}), (115, {'feature': 'binarySearch'}), (116, {'feature': 'result'}), (117, {'feature': '-'}), (118, {'feature': '1'}), (119, {'feature': 'System.out'}), (120, {'feature': 'Literal'}), (121, {'feature': 'println'}), (122, {'feature': 'System.out'}), (123, {'feature': 'BinaryOperation'}), (124, {'feature': 'println'}), (125, {'feature': 'r'}), (126, {'feature': 'l'}), (127, {'feature': 'l'}), (128, {'feature': '-'}), (129, {'feature': 'MemberReference'}), (130, {'feature': 'Literal'}), (131, {'feature': 'int'}), (132, {'feature': 'mid'}), (133, {'feature': 'BinaryOperation'}), (134, {'feature': '=='}), (135, {'feature': 'MemberReference'}), (136, {'feature': 'MemberReference'}), (137, {'feature': 'MemberReference'}), (138, {'feature': '>'}), (139, {'feature': 'MemberReference'}), (140, {'feature': 'MemberReference'}), (141, {'feature': 'MethodInvocation'}), (142, {'feature': 'MemberReference'}), (143, {'feature': 'BinaryOperation'}), (144, {'feature': 'MemberReference'}), (145, {'feature': 'MemberReference'}), (146, {'feature': 'binarySearch'}), (147, {'feature': 'GFG'}), (148, {'feature': '2'}), (149, {'feature': '3'}), (150, {'feature': '4'}), (151, {'feature': '10'}), (152, {'feature': '40'}), (153, {'feature': 'arr'}), (154, {'feature': '0'}), (155, {'feature': '-'}), (156, {'feature': 'MemberReference'}), (157, {'feature': 'Literal'}), (158, {'feature': 'x'}), (159, {'feature': '\"Element not present\"'}), (160, {'feature': '+'}), (161, {'feature': 'Literal'}), (162, {'feature': 'MemberReference'}), (163, {'feature': 'arr'}), (164, {'feature': 'length'}), (165, {'feature': '1'}), (166, {'feature': '+'}), (167, {'feature': 'MemberReference'}), (168, {'feature': 'BinaryOperation'}), (169, {'feature': 'ArraySelector'}), (170, {'feature': 'arr'}), (171, {'feature': 'x'}), (172, {'feature': 'mid'}), (173, {'feature': 'ArraySelector'}), (174, {'feature': 'arr'}), (175, {'feature': 'x'}), (176, {'feature': 'MemberReference'}), (177, {'feature': 'MemberReference'}), (178, {'feature': 'BinaryOperation'}), (179, {'feature': 'MemberReference'}), (180, {'feature': 'binarySearch'}), (181, {'feature': 'arr'}), (182, {'feature': '+'}), (183, {'feature': 'MemberReference'}), (184, {'feature': 'Literal'}), (185, {'feature': 'r'}), (186, {'feature': 'x'}), (187, {'feature': 'n'}), (188, {'feature': '1'}), (189, {'feature': '\"Element found at index \"'}), (190, {'feature': 'result'}), (191, {'feature': 'l'}), (192, {'feature': '/'}), (193, {'feature': 'BinaryOperation'}), (194, {'feature': 'Literal'}), (195, {'feature': 'MemberReference'}), (196, {'feature': 'MemberReference'}), (197, {'feature': 'arr'}), (198, {'feature': 'l'}), (199, {'feature': '-'}), (200, {'feature': 'MemberReference'}), (201, {'feature': 'Literal'}), (202, {'feature': 'x'}), (203, {'feature': 'mid'}), (204, {'feature': '1'}), (205, {'feature': '-'}), (206, {'feature': 'MemberReference'}), (207, {'feature': 'MemberReference'}), (208, {'feature': '2'}), (209, {'feature': 'mid'}), (210, {'feature': 'mid'}), (211, {'feature': 'mid'}), (212, {'feature': '1'}), (213, {'feature': 'r'}), (214, {'feature': 'l'})]\n",
            "[(0, {'feature': 'FileAST'}), (1, {'feature': 'FuncDef'}), (2, {'feature': 'FuncDef'}), (3, {'feature': 'Decl'}), (4, {'feature': 'Compound'}), (5, {'feature': 'Decl'}), (6, {'feature': 'Compound'}), (7, {'feature': 'FuncDecl'}), (8, {'feature': 'If'}), (9, {'feature': 'Return'}), (10, {'feature': 'FuncDecl'}), (11, {'feature': 'Decl'}), (12, {'feature': 'Decl'}), (13, {'feature': 'Decl'}), (14, {'feature': 'Decl'}), (15, {'feature': 'TernaryOp'}), (16, {'feature': 'Return'}), (17, {'feature': 'ParamList'}), (18, {'feature': 'binarySearch'}), (19, {'feature': '>='}), (20, {'feature': 'Compound'}), (21, {'feature': '-'}), (22, {'feature': 'ParamList'}), (23, {'feature': 'main'}), (24, {'feature': 'ArrayDecl'}), (25, {'feature': 'InitList'}), (26, {'feature': 'n'}), (27, {'feature': '/'}), (28, {'feature': 'x'}), (29, {'feature': '10'}), (30, {'feature': 'result'}), (31, {'feature': 'FuncCall'}), (32, {'feature': '=='}), (33, {'feature': 'FuncCall'}), (34, {'feature': 'FuncCall'}), (35, {'feature': '0'}), (36, {'feature': 'Decl'}), (37, {'feature': 'Decl'}), (38, {'feature': 'Decl'}), (39, {'feature': 'Decl'}), (40, {'feature': 'int'}), (41, {'feature': 'r'}), (42, {'feature': 'l'}), (43, {'feature': 'Decl'}), (44, {'feature': 'If'}), (45, {'feature': 'If'}), (46, {'feature': 'Return'}), (47, {'feature': '1'}), (48, {'feature': 'Typename'}), (49, {'feature': 'int'}), (50, {'feature': 'arr'}), (51, {'feature': '2'}), (52, {'feature': '3'}), (53, {'feature': '4'}), (54, {'feature': '10'}), (55, {'feature': '40'}), (56, {'feature': 'int'}), (57, {'feature': 'sizeof'}), (58, {'feature': 'sizeof'}), (59, {'feature': 'int'}), (60, {'feature': 'int'}), (61, {'feature': 'binarySearch'}), (62, {'feature': 'ExprList'}), (63, {'feature': 'result'}), (64, {'feature': '-'}), (65, {'feature': 'printf'}), (66, {'feature': 'ExprList'}), (67, {'feature': 'printf'}), (68, {'feature': 'ExprList'}), (69, {'feature': 'ArrayDecl'}), (70, {'feature': 'l'}), (71, {'feature': 'r'}), (72, {'feature': 'x'}), (73, {'feature': 'mid'}), (74, {'feature': '+'}), (75, {'feature': '=='}), (76, {'feature': 'Return'}), (77, {'feature': '>'}), (78, {'feature': 'Return'}), (79, {'feature': 'FuncCall'}), (80, {'feature': 'None'}), (81, {'feature': 'int'}), (82, {'feature': 'arr'}), (83, {'feature': 'ArrayRef'}), (84, {'feature': 'arr'}), (85, {'feature': '0'}), (86, {'feature': '-'}), (87, {'feature': 'x'}), (88, {'feature': '1'}), (89, {'feature': '\"Element is not present in array\"'}), (90, {'feature': '\"Element is present at index %d\"'}), (91, {'feature': 'result'}), (92, {'feature': 'arr'}), (93, {'feature': 'int'}), (94, {'feature': 'int'}), (95, {'feature': 'int'}), (96, {'feature': 'int'}), (97, {'feature': 'l'}), (98, {'feature': '/'}), (99, {'feature': 'ArrayRef'}), (100, {'feature': 'x'}), (101, {'feature': 'mid'}), (102, {'feature': 'ArrayRef'}), (103, {'feature': 'x'}), (104, {'feature': 'FuncCall'}), (105, {'feature': 'binarySearch'}), (106, {'feature': 'ExprList'}), (107, {'feature': 'void'}), (108, {'feature': 'arr'}), (109, {'feature': '0'}), (110, {'feature': 'n'}), (111, {'feature': '1'}), (112, {'feature': 'int'}), (113, {'feature': '-'}), (114, {'feature': '2'}), (115, {'feature': 'arr'}), (116, {'feature': 'mid'}), (117, {'feature': 'arr'}), (118, {'feature': 'mid'}), (119, {'feature': 'binarySearch'}), (120, {'feature': 'ExprList'}), (121, {'feature': 'arr'}), (122, {'feature': '+'}), (123, {'feature': 'r'}), (124, {'feature': 'x'}), (125, {'feature': 'r'}), (126, {'feature': 'l'}), (127, {'feature': 'arr'}), (128, {'feature': 'l'}), (129, {'feature': '-'}), (130, {'feature': 'x'}), (131, {'feature': 'mid'}), (132, {'feature': '1'}), (133, {'feature': 'mid'}), (134, {'feature': '1'})]\n"
          ]
        }
      ]
    },
    {
      "cell_type": "code",
      "source": [
        "for i in graphs[0].nodes.data():\n",
        "  print(i)"
      ],
      "metadata": {
        "colab": {
          "base_uri": "https://localhost:8080/"
        },
        "id": "Ra5vvcplt1Il",
        "outputId": "554799d6-8ef2-4dc1-c252-be8f8b1addba"
      },
      "execution_count": null,
      "outputs": [
        {
          "output_type": "stream",
          "name": "stdout",
          "text": [
            "(0, {'feature': 'CompilationUnit'})\n",
            "(1, {'feature': 'ClassDeclaration'})\n",
            "(2, {'feature': 'log3'})\n",
            "(3, {'feature': 'MethodDeclaration'})\n",
            "(4, {'feature': 'MethodDeclaration'})\n",
            "(5, {'feature': 'MethodDeclaration'})\n",
            "(6, {'feature': 'MethodDeclaration'})\n",
            "(7, {'feature': 'set'})\n",
            "(8, {'feature': 'BasicType'})\n",
            "(9, {'feature': 'pivotedBinarySearch'})\n",
            "(10, {'feature': 'FormalParameter'})\n",
            "(11, {'feature': 'FormalParameter'})\n",
            "(12, {'feature': 'FormalParameter'})\n",
            "(13, {'feature': 'LocalVariableDeclaration'})\n",
            "(14, {'feature': 'IfStatement'})\n",
            "(15, {'feature': 'IfStatement'})\n",
            "(41, {'feature': 'IfStatement'})\n",
            "(43, {'feature': 'static'})\n",
            "(16, {'feature': 'set'})\n",
            "(17, {'feature': 'BasicType'})\n",
            "(18, {'feature': 'findPivot'})\n",
            "(19, {'feature': 'FormalParameter'})\n",
            "(20, {'feature': 'FormalParameter'})\n",
            "(21, {'feature': 'FormalParameter'})\n",
            "(22, {'feature': 'IfStatement'})\n",
            "(23, {'feature': 'IfStatement'})\n",
            "(24, {'feature': 'LocalVariableDeclaration'})\n",
            "(57, {'feature': 'IfStatement'})\n",
            "(59, {'feature': 'IfStatement'})\n",
            "(60, {'feature': 'IfStatement'})\n",
            "(61, {'feature': 'ReturnStatement'})\n",
            "(25, {'feature': 'set'})\n",
            "(26, {'feature': 'BasicType'})\n",
            "(27, {'feature': 'binarySearch'})\n",
            "(28, {'feature': 'FormalParameter'})\n",
            "(29, {'feature': 'FormalParameter'})\n",
            "(30, {'feature': 'FormalParameter'})\n",
            "(31, {'feature': 'FormalParameter'})\n",
            "(32, {'feature': 'IfStatement'})\n",
            "(33, {'feature': 'LocalVariableDeclaration'})\n",
            "(75, {'feature': 'IfStatement'})\n",
            "(77, {'feature': 'static'})\n",
            "(78, {'feature': 'ReturnStatement'})\n",
            "(34, {'feature': 'set'})\n",
            "(35, {'feature': 'main'})\n",
            "(36, {'feature': 'FormalParameter'})\n",
            "(37, {'feature': 'LocalVariableDeclaration'})\n",
            "(38, {'feature': 'LocalVariableDeclaration'})\n",
            "(39, {'feature': 'LocalVariableDeclaration'})\n",
            "(40, {'feature': 'StatementExpression'})\n",
            "(44, {'feature': 'int'})\n",
            "(45, {'feature': 'BasicType'})\n",
            "(46, {'feature': 'arr'})\n",
            "(47, {'feature': 'BasicType'})\n",
            "(48, {'feature': 'n'})\n",
            "(49, {'feature': 'BasicType'})\n",
            "(50, {'feature': 'key'})\n",
            "(51, {'feature': 'BasicType'})\n",
            "(52, {'feature': 'VariableDeclarator'})\n",
            "(53, {'feature': 'BinaryOperation'})\n",
            "(54, {'feature': 'ReturnStatement'})\n",
            "(55, {'feature': 'BinaryOperation'})\n",
            "(56, {'feature': 'ReturnStatement'})\n",
            "(62, {'feature': 'int'})\n",
            "(63, {'feature': 'BasicType'})\n",
            "(64, {'feature': 'arr'})\n",
            "(65, {'feature': 'BasicType'})\n",
            "(66, {'feature': 'low'})\n",
            "(67, {'feature': 'BasicType'})\n",
            "(68, {'feature': 'high'})\n",
            "(69, {'feature': 'BinaryOperation'})\n",
            "(70, {'feature': 'ReturnStatement'})\n",
            "(71, {'feature': 'BinaryOperation'})\n",
            "(72, {'feature': 'ReturnStatement'})\n",
            "(73, {'feature': 'BasicType'})\n",
            "(74, {'feature': 'VariableDeclarator'})\n",
            "(79, {'feature': 'int'})\n",
            "(80, {'feature': 'BasicType'})\n",
            "(81, {'feature': 'arr'})\n",
            "(82, {'feature': 'BasicType'})\n",
            "(83, {'feature': 'low'})\n",
            "(84, {'feature': 'BasicType'})\n",
            "(85, {'feature': 'high'})\n",
            "(86, {'feature': 'BasicType'})\n",
            "(87, {'feature': 'key'})\n",
            "(88, {'feature': 'BinaryOperation'})\n",
            "(89, {'feature': 'ReturnStatement'})\n",
            "(90, {'feature': 'BasicType'})\n",
            "(91, {'feature': 'VariableDeclarator'})\n",
            "(92, {'feature': 'static'})\n",
            "(93, {'feature': 'public'})\n",
            "(94, {'feature': 'ReferenceType'})\n",
            "(95, {'feature': 'args'})\n",
            "(96, {'feature': 'BasicType'})\n",
            "(97, {'feature': 'VariableDeclarator'})\n",
            "(98, {'feature': 'BasicType'})\n",
            "(99, {'feature': 'VariableDeclarator'})\n",
            "(100, {'feature': 'BasicType'})\n",
            "(101, {'feature': 'VariableDeclarator'})\n",
            "(102, {'feature': 'MethodInvocation'})\n",
            "(103, {'feature': 'BinaryOperation'})\n",
            "(104, {'feature': 'ReturnStatement'})\n",
            "(105, {'feature': 'MethodInvocation'})\n",
            "(106, {'feature': 'int'})\n",
            "(107, {'feature': 'int'})\n",
            "(108, {'feature': 'int'})\n",
            "(109, {'feature': 'int'})\n",
            "(110, {'feature': 'pivot'})\n",
            "(111, {'feature': 'MethodInvocation'})\n",
            "(112, {'feature': '=='})\n",
            "(113, {'feature': 'MemberReference'})\n",
            "(114, {'feature': 'Literal'})\n",
            "(115, {'feature': 'MethodInvocation'})\n",
            "(116, {'feature': '=='})\n",
            "(117, {'feature': 'MemberReference'})\n",
            "(118, {'feature': 'MemberReference'})\n",
            "(119, {'feature': 'MemberReference'})\n",
            "(120, {'feature': 'BinaryOperation'})\n",
            "(121, {'feature': 'ReturnStatement'})\n",
            "(122, {'feature': 'BinaryOperation'})\n",
            "(123, {'feature': 'ReturnStatement'})\n",
            "(124, {'feature': 'BinaryOperation'})\n",
            "(125, {'feature': 'ReturnStatement'})\n",
            "(126, {'feature': 'MethodInvocation'})\n",
            "(127, {'feature': 'int'})\n",
            "(128, {'feature': 'int'})\n",
            "(129, {'feature': 'int'})\n",
            "(130, {'feature': '<'})\n",
            "(131, {'feature': 'MemberReference'})\n",
            "(132, {'feature': 'MemberReference'})\n",
            "(133, {'feature': 'Literal'})\n",
            "(134, {'feature': '=='})\n",
            "(135, {'feature': 'MemberReference'})\n",
            "(136, {'feature': 'MemberReference'})\n",
            "(137, {'feature': 'MemberReference'})\n",
            "(138, {'feature': 'int'})\n",
            "(139, {'feature': 'mid'})\n",
            "(140, {'feature': 'BinaryOperation'})\n",
            "(141, {'feature': 'BinaryOperation'})\n",
            "(142, {'feature': 'ReturnStatement'})\n",
            "(143, {'feature': 'BinaryOperation'})\n",
            "(144, {'feature': 'ReturnStatement'})\n",
            "(145, {'feature': 'MethodInvocation'})\n",
            "(146, {'feature': 'int'})\n",
            "(147, {'feature': 'int'})\n",
            "(148, {'feature': 'int'})\n",
            "(149, {'feature': 'int'})\n",
            "(150, {'feature': '<'})\n",
            "(151, {'feature': 'MemberReference'})\n",
            "(152, {'feature': 'MemberReference'})\n",
            "(153, {'feature': 'Literal'})\n",
            "(154, {'feature': 'int'})\n",
            "(155, {'feature': 'mid'})\n",
            "(156, {'feature': 'BinaryOperation'})\n",
            "(157, {'feature': 'String'})\n",
            "(158, {'feature': 'int'})\n",
            "(159, {'feature': 'arr1'})\n",
            "(160, {'feature': 'ArrayInitializer'})\n",
            "(161, {'feature': 'int'})\n",
            "(162, {'feature': 'n'})\n",
            "(163, {'feature': 'MemberReference'})\n",
            "(164, {'feature': 'int'})\n",
            "(165, {'feature': 'key'})\n",
            "(166, {'feature': 'Literal'})\n",
            "(167, {'feature': 'System.out'})\n",
            "(168, {'feature': 'BinaryOperation'})\n",
            "(169, {'feature': 'println'})\n",
            "(170, {'feature': '<='})\n",
            "(171, {'feature': 'MemberReference'})\n",
            "(172, {'feature': 'MemberReference'})\n",
            "(173, {'feature': 'MethodInvocation'})\n",
            "(174, {'feature': 'MemberReference'})\n",
            "(175, {'feature': 'BinaryOperation'})\n",
            "(176, {'feature': 'BinaryOperation'})\n",
            "(177, {'feature': 'MemberReference'})\n",
            "(178, {'feature': 'binarySearch'})\n",
            "(179, {'feature': 'MemberReference'})\n",
            "(180, {'feature': 'Literal'})\n",
            "(181, {'feature': 'BinaryOperation'})\n",
            "(182, {'feature': 'findPivot'})\n",
            "(183, {'feature': 'pivot'})\n",
            "(184, {'feature': '-'})\n",
            "(185, {'feature': '1'})\n",
            "(186, {'feature': 'MemberReference'})\n",
            "(187, {'feature': 'Literal'})\n",
            "(188, {'feature': 'BinaryOperation'})\n",
            "(189, {'feature': 'MemberReference'})\n",
            "(190, {'feature': 'binarySearch'})\n",
            "(191, {'feature': 'ArraySelector'})\n",
            "(192, {'feature': 'arr'})\n",
            "(193, {'feature': 'key'})\n",
            "(194, {'feature': 'pivot'})\n",
            "(195, {'feature': '&&'})\n",
            "(196, {'feature': 'BinaryOperation'})\n",
            "(197, {'feature': 'BinaryOperation'})\n",
            "(198, {'feature': 'MemberReference'})\n",
            "(199, {'feature': '&&'})\n",
            "(200, {'feature': 'BinaryOperation'})\n",
            "(201, {'feature': 'BinaryOperation'})\n",
            "(202, {'feature': 'BinaryOperation'})\n",
            "(203, {'feature': '>='})\n",
            "(204, {'feature': 'MemberReference'})\n",
            "(205, {'feature': 'MemberReference'})\n",
            "(206, {'feature': 'MethodInvocation'})\n",
            "(207, {'feature': 'MemberReference'})\n",
            "(208, {'feature': 'BinaryOperation'})\n",
            "(209, {'feature': 'MemberReference'})\n",
            "(210, {'feature': 'findPivot'})\n",
            "(211, {'feature': 'high'})\n",
            "(212, {'feature': 'low'})\n",
            "(213, {'feature': '-'})\n",
            "(214, {'feature': '1'})\n",
            "(215, {'feature': 'high'})\n",
            "(216, {'feature': 'low'})\n",
            "(217, {'feature': 'low'})\n",
            "(218, {'feature': '/'})\n",
            "(219, {'feature': 'BinaryOperation'})\n",
            "(220, {'feature': 'Literal'})\n",
            "(221, {'feature': '=='})\n",
            "(222, {'feature': 'MemberReference'})\n",
            "(223, {'feature': 'MemberReference'})\n",
            "(224, {'feature': 'MemberReference'})\n",
            "(225, {'feature': '>'})\n",
            "(226, {'feature': 'MemberReference'})\n",
            "(227, {'feature': 'MemberReference'})\n",
            "(228, {'feature': 'MethodInvocation'})\n",
            "(229, {'feature': 'MemberReference'})\n",
            "(230, {'feature': 'MemberReference'})\n",
            "(231, {'feature': 'BinaryOperation'})\n",
            "(232, {'feature': 'MemberReference'})\n",
            "(233, {'feature': 'binarySearch'})\n",
            "(234, {'feature': 'high'})\n",
            "(235, {'feature': 'low'})\n",
            "(236, {'feature': '-'})\n",
            "(237, {'feature': '1'})\n",
            "(238, {'feature': '/'})\n",
            "(239, {'feature': 'BinaryOperation'})\n",
            "(240, {'feature': 'Literal'})\n",
            "(241, {'feature': 'Literal'})\n",
            "(242, {'feature': 'Literal'})\n",
            "(243, {'feature': 'Literal'})\n",
            "(244, {'feature': 'Literal'})\n",
            "(245, {'feature': 'Literal'})\n",
            "(246, {'feature': 'Literal'})\n",
            "(247, {'feature': 'Literal'})\n",
            "(248, {'feature': 'Literal'})\n",
            "(249, {'feature': 'Literal'})\n",
            "(250, {'feature': 'arr1'})\n",
            "(251, {'feature': 'length'})\n",
            "(252, {'feature': '3'})\n",
            "(253, {'feature': '+'})\n",
            "(254, {'feature': 'Literal'})\n",
            "(255, {'feature': 'MethodInvocation'})\n",
            "(256, {'feature': 'ArraySelector'})\n",
            "(257, {'feature': 'arr'})\n",
            "(258, {'feature': 'key'})\n",
            "(259, {'feature': 'MemberReference'})\n",
            "(260, {'feature': 'Literal'})\n",
            "(261, {'feature': 'BinaryOperation'})\n",
            "(262, {'feature': 'MemberReference'})\n",
            "(263, {'feature': 'binarySearch'})\n",
            "(264, {'feature': 'arr'})\n",
            "(265, {'feature': '+'})\n",
            "(266, {'feature': 'MemberReference'})\n",
            "(267, {'feature': 'Literal'})\n",
            "(268, {'feature': '-'})\n",
            "(269, {'feature': 'MemberReference'})\n",
            "(270, {'feature': 'Literal'})\n",
            "(271, {'feature': 'key'})\n",
            "(272, {'feature': 'arr'})\n",
            "(273, {'feature': '0'})\n",
            "(274, {'feature': '-'})\n",
            "(275, {'feature': 'MemberReference'})\n",
            "(276, {'feature': 'Literal'})\n",
            "(277, {'feature': 'arr'})\n",
            "(278, {'feature': '0'})\n",
            "(279, {'feature': '-'})\n",
            "(280, {'feature': 'MemberReference'})\n",
            "(281, {'feature': 'Literal'})\n",
            "(282, {'feature': 'key'})\n",
            "(283, {'feature': 'MemberReference'})\n",
            "(284, {'feature': '<'})\n",
            "(285, {'feature': 'MemberReference'})\n",
            "(286, {'feature': 'MemberReference'})\n",
            "(287, {'feature': '>'})\n",
            "(288, {'feature': 'MemberReference'})\n",
            "(289, {'feature': 'MemberReference'})\n",
            "(290, {'feature': 'mid'})\n",
            "(291, {'feature': '>'})\n",
            "(292, {'feature': 'MemberReference'})\n",
            "(293, {'feature': 'MemberReference'})\n",
            "(294, {'feature': '<'})\n",
            "(295, {'feature': 'MemberReference'})\n",
            "(296, {'feature': 'MemberReference'})\n",
            "(297, {'feature': '-'})\n",
            "(298, {'feature': 'MemberReference'})\n",
            "(299, {'feature': 'Literal'})\n",
            "(300, {'feature': 'ArraySelector'})\n",
            "(301, {'feature': 'arr'})\n",
            "(302, {'feature': 'ArraySelector'})\n",
            "(303, {'feature': 'arr'})\n",
            "(304, {'feature': 'MemberReference'})\n",
            "(305, {'feature': 'MemberReference'})\n",
            "(306, {'feature': 'BinaryOperation'})\n",
            "(307, {'feature': 'findPivot'})\n",
            "(308, {'feature': 'arr'})\n",
            "(309, {'feature': '+'})\n",
            "(310, {'feature': 'MemberReference'})\n",
            "(311, {'feature': 'Literal'})\n",
            "(312, {'feature': 'high'})\n",
            "(313, {'feature': '+'})\n",
            "(314, {'feature': 'MemberReference'})\n",
            "(315, {'feature': 'MemberReference'})\n",
            "(316, {'feature': '2'})\n",
            "(317, {'feature': 'key'})\n",
            "(318, {'feature': 'ArraySelector'})\n",
            "(319, {'feature': 'arr'})\n",
            "(320, {'feature': 'mid'})\n",
            "(321, {'feature': 'key'})\n",
            "(322, {'feature': 'ArraySelector'})\n",
            "(323, {'feature': 'arr'})\n",
            "(324, {'feature': 'MemberReference'})\n",
            "(325, {'feature': 'BinaryOperation'})\n",
            "(326, {'feature': 'MemberReference'})\n",
            "(327, {'feature': 'MemberReference'})\n",
            "(328, {'feature': 'binarySearch'})\n",
            "(329, {'feature': 'arr'})\n",
            "(330, {'feature': 'low'})\n",
            "(331, {'feature': '-'})\n",
            "(332, {'feature': 'MemberReference'})\n",
            "(333, {'feature': 'Literal'})\n",
            "(334, {'feature': 'key'})\n",
            "(335, {'feature': '+'})\n",
            "(336, {'feature': 'MemberReference'})\n",
            "(337, {'feature': 'MemberReference'})\n",
            "(338, {'feature': '2'})\n",
            "(339, {'feature': '5'})\n",
            "(340, {'feature': '6'})\n",
            "(341, {'feature': '7'})\n",
            "(342, {'feature': '8'})\n",
            "(343, {'feature': '9'})\n",
            "(344, {'feature': '10'})\n",
            "(345, {'feature': '1'})\n",
            "(346, {'feature': '2'})\n",
            "(347, {'feature': '3'})\n",
            "(348, {'feature': '\"Index of the element is : \"'})\n",
            "(349, {'feature': 'MemberReference'})\n",
            "(350, {'feature': 'MemberReference'})\n",
            "(351, {'feature': 'MemberReference'})\n",
            "(352, {'feature': 'pivotedBinarySearch'})\n",
            "(353, {'feature': 'Literal'})\n",
            "(354, {'feature': 'arr'})\n",
            "(355, {'feature': '0'})\n",
            "(356, {'feature': '-'})\n",
            "(357, {'feature': 'MemberReference'})\n",
            "(358, {'feature': 'Literal'})\n",
            "(359, {'feature': 'key'})\n",
            "(360, {'feature': 'pivot'})\n",
            "(361, {'feature': '1'})\n",
            "(362, {'feature': 'n'})\n",
            "(363, {'feature': '1'})\n",
            "(364, {'feature': 'n'})\n",
            "(365, {'feature': '1'})\n",
            "(366, {'feature': 'n'})\n",
            "(367, {'feature': '1'})\n",
            "(368, {'feature': 'pivot'})\n",
            "(369, {'feature': 'mid'})\n",
            "(370, {'feature': 'high'})\n",
            "(371, {'feature': 'ArraySelector'})\n",
            "(372, {'feature': 'arr'})\n",
            "(373, {'feature': 'ArraySelector'})\n",
            "(374, {'feature': 'arr'})\n",
            "(375, {'feature': 'mid'})\n",
            "(376, {'feature': 'low'})\n",
            "(377, {'feature': 'ArraySelector'})\n",
            "(378, {'feature': 'arr'})\n",
            "(379, {'feature': 'ArraySelector'})\n",
            "(380, {'feature': 'arr'})\n",
            "(381, {'feature': 'mid'})\n",
            "(382, {'feature': '1'})\n",
            "(383, {'feature': 'MemberReference'})\n",
            "(384, {'feature': 'MemberReference'})\n",
            "(385, {'feature': 'arr'})\n",
            "(386, {'feature': 'low'})\n",
            "(387, {'feature': '-'})\n",
            "(388, {'feature': 'MemberReference'})\n",
            "(389, {'feature': 'Literal'})\n",
            "(390, {'feature': 'mid'})\n",
            "(391, {'feature': '1'})\n",
            "(392, {'feature': 'low'})\n",
            "(393, {'feature': 'high'})\n",
            "(394, {'feature': 'MemberReference'})\n",
            "(395, {'feature': 'MemberReference'})\n",
            "(396, {'feature': 'arr'})\n",
            "(397, {'feature': '+'})\n",
            "(398, {'feature': 'MemberReference'})\n",
            "(399, {'feature': 'Literal'})\n",
            "(400, {'feature': 'high'})\n",
            "(401, {'feature': 'key'})\n",
            "(402, {'feature': 'mid'})\n",
            "(403, {'feature': '1'})\n",
            "(404, {'feature': 'low'})\n",
            "(405, {'feature': 'high'})\n",
            "(406, {'feature': 'arr1'})\n",
            "(407, {'feature': 'n'})\n",
            "(408, {'feature': 'key'})\n",
            "(409, {'feature': '0'})\n",
            "(410, {'feature': 'pivot'})\n",
            "(411, {'feature': '1'})\n",
            "(412, {'feature': 'MemberReference'})\n",
            "(413, {'feature': 'BinaryOperation'})\n",
            "(414, {'feature': 'MemberReference'})\n",
            "(415, {'feature': 'BinaryOperation'})\n",
            "(416, {'feature': 'low'})\n",
            "(417, {'feature': 'mid'})\n",
            "(418, {'feature': 'mid'})\n",
            "(419, {'feature': '1'})\n",
            "(420, {'feature': 'mid'})\n",
            "(421, {'feature': 'mid'})\n",
            "(422, {'feature': 'mid'})\n",
            "(423, {'feature': '1'})\n",
            "(424, {'feature': 'mid'})\n",
            "(425, {'feature': '+'})\n",
            "(426, {'feature': 'MemberReference'})\n",
            "(427, {'feature': 'Literal'})\n",
            "(428, {'feature': 'mid'})\n",
            "(429, {'feature': '-'})\n",
            "(430, {'feature': 'MemberReference'})\n",
            "(431, {'feature': 'Literal'})\n",
            "(432, {'feature': 'mid'})\n",
            "(433, {'feature': '1'})\n",
            "(434, {'feature': 'mid'})\n",
            "(435, {'feature': '1'})\n"
          ]
        }
      ]
    },
    {
      "cell_type": "code",
      "source": [
        "#tree2graph.nodes()"
      ],
      "metadata": {
        "id": "BLJ0kn0uPEnS"
      },
      "execution_count": null,
      "outputs": []
    },
    {
      "cell_type": "code",
      "source": [
        "'''\n",
        "print(tree2graph.number_of_nodes())\n",
        "print(tree2graph.number_of_edges())\n",
        "'''"
      ],
      "metadata": {
        "colab": {
          "base_uri": "https://localhost:8080/",
          "height": 36
        },
        "id": "lmKkkO-oZurB",
        "outputId": "3e81e539-5773-4c32-d85c-2e4f8de4aee3"
      },
      "execution_count": null,
      "outputs": [
        {
          "output_type": "execute_result",
          "data": {
            "text/plain": [
              "'\\nprint(tree2graph.number_of_nodes())\\nprint(tree2graph.number_of_edges())\\n'"
            ],
            "application/vnd.google.colaboratory.intrinsic+json": {
              "type": "string"
            }
          },
          "metadata": {},
          "execution_count": 15
        }
      ]
    },
    {
      "cell_type": "markdown",
      "source": [
        "Displaying the graph"
      ],
      "metadata": {
        "id": "5nShk0bEETHY"
      }
    },
    {
      "cell_type": "code",
      "source": [
        "#Need to resize the image \n",
        "'''\n",
        "pos = nx.nx_agraph.graphviz_layout(graphs[0], prog='dot')\n",
        "nx.draw_networkx(graphs[0], pos=pos, arrows= True, with_labels=True, labels=label,node_size=1,font_size=8,font_weight='normal')\n",
        "plt.figure(1,figsize=(200, 80), dpi=60) \n",
        "plt.show()\n",
        "\n",
        "'''"
      ],
      "metadata": {
        "colab": {
          "base_uri": "https://localhost:8080/",
          "height": 53
        },
        "id": "KuD8tvgwMLNV",
        "outputId": "7af34284-9f6d-4624-89ee-3c801e35b8ea"
      },
      "execution_count": null,
      "outputs": [
        {
          "output_type": "execute_result",
          "data": {
            "text/plain": [
              "\"\\npos = nx.nx_agraph.graphviz_layout(graphs[0], prog='dot')\\nnx.draw_networkx(graphs[0], pos=pos, arrows= True, with_labels=True, labels=label,node_size=1,font_size=8,font_weight='normal')\\nplt.figure(1,figsize=(200, 80), dpi=60) \\nplt.show()\\n\\n\""
            ],
            "application/vnd.google.colaboratory.intrinsic+json": {
              "type": "string"
            }
          },
          "metadata": {},
          "execution_count": 26
        }
      ]
    },
    {
      "cell_type": "markdown",
      "source": [
        "Embedding"
      ],
      "metadata": {
        "id": "yDK9mWFhEYhv"
      }
    },
    {
      "cell_type": "code",
      "source": [
        "import numpy as np"
      ],
      "metadata": {
        "id": "j33AumxOJemF"
      },
      "execution_count": null,
      "outputs": []
    },
    {
      "cell_type": "code",
      "source": [
        "dim1, dim2 = embeddings.shape[0],embeddings.shape[1]"
      ],
      "metadata": {
        "id": "UmUTfGqn-vjD"
      },
      "execution_count": null,
      "outputs": []
    },
    {
      "cell_type": "code",
      "source": [
        "print(dim1)\n",
        "print(dim2)"
      ],
      "metadata": {
        "colab": {
          "base_uri": "https://localhost:8080/"
        },
        "id": "6nHTWjb4XkIc",
        "outputId": "162ff77a-11bf-41a3-ef1a-6bb20fe891fe"
      },
      "execution_count": null,
      "outputs": [
        {
          "output_type": "stream",
          "name": "stdout",
          "text": [
            "3\n",
            "128\n"
          ]
        }
      ]
    },
    {
      "cell_type": "code",
      "source": [
        "embeddings = np.reshape(embeddings,(dim1,dim2,1))"
      ],
      "metadata": {
        "id": "5UqCYcpq-zlh"
      },
      "execution_count": null,
      "outputs": []
    },
    {
      "cell_type": "code",
      "source": [
        "embeddings.shape"
      ],
      "metadata": {
        "colab": {
          "base_uri": "https://localhost:8080/"
        },
        "id": "p-Ur8eU0-0wx",
        "outputId": "cba1775a-e203-40fa-8d0c-ab843c1acdbc"
      },
      "execution_count": null,
      "outputs": [
        {
          "output_type": "execute_result",
          "data": {
            "text/plain": [
              "(3, 128, 1)"
            ]
          },
          "metadata": {},
          "execution_count": 33
        }
      ]
    },
    {
      "cell_type": "code",
      "source": [],
      "metadata": {
        "id": "wCuMNPSW_A5G"
      },
      "execution_count": null,
      "outputs": []
    },
    {
      "cell_type": "code",
      "source": [],
      "metadata": {
        "id": "bmZRPDz6mH-R"
      },
      "execution_count": null,
      "outputs": []
    }
  ]
}