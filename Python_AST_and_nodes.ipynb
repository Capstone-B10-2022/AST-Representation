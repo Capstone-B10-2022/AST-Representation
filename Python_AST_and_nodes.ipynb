{
  "nbformat": 4,
  "nbformat_minor": 0,
  "metadata": {
    "colab": {
      "name": "Capstone_Python_AST.ipynb",
      "provenance": [],
      "collapsed_sections": []
    },
    "kernelspec": {
      "name": "python3",
      "display_name": "Python 3"
    },
    "language_info": {
      "name": "python"
    }
  },
  "cells": [
    {
      "cell_type": "markdown",
      "source": [
        "##Installing the required packages"
      ],
      "metadata": {
        "id": "9PmX-5h6GLtF"
      }
    },
    {
      "cell_type": "code",
      "source": [
        "!pip install anytree"
      ],
      "metadata": {
        "colab": {
          "base_uri": "https://localhost:8080/"
        },
        "id": "gM8h3YyDdNp4",
        "outputId": "f4dd2b6d-9203-40ac-b9de-07bc057959dc"
      },
      "execution_count": null,
      "outputs": [
        {
          "output_type": "stream",
          "name": "stdout",
          "text": [
            "Looking in indexes: https://pypi.org/simple, https://us-python.pkg.dev/colab-wheels/public/simple/\n",
            "Collecting anytree\n",
            "  Downloading anytree-2.8.0-py2.py3-none-any.whl (41 kB)\n",
            "\u001b[K     |████████████████████████████████| 41 kB 653 kB/s \n",
            "\u001b[?25hRequirement already satisfied: six>=1.9.0 in /usr/local/lib/python3.7/dist-packages (from anytree) (1.15.0)\n",
            "Installing collected packages: anytree\n",
            "Successfully installed anytree-2.8.0\n"
          ]
        }
      ]
    },
    {
      "cell_type": "code",
      "source": [
        "!pip install astpretty"
      ],
      "metadata": {
        "colab": {
          "base_uri": "https://localhost:8080/"
        },
        "id": "nrM67EaBSbP-",
        "outputId": "14371cdb-cff8-4683-c4ac-84f0eb5b8436"
      },
      "execution_count": null,
      "outputs": [
        {
          "output_type": "stream",
          "name": "stdout",
          "text": [
            "Looking in indexes: https://pypi.org/simple, https://us-python.pkg.dev/colab-wheels/public/simple/\n",
            "Collecting astpretty\n",
            "  Downloading astpretty-2.1.0-py2.py3-none-any.whl (5.3 kB)\n",
            "Installing collected packages: astpretty\n",
            "Successfully installed astpretty-2.1.0\n"
          ]
        }
      ]
    },
    {
      "cell_type": "code",
      "execution_count": null,
      "metadata": {
        "id": "QYpZz9b6zt1O"
      },
      "outputs": [],
      "source": [
        "import ast \n",
        "import astpretty #to print the ast in a more readable format"
      ]
    },
    {
      "cell_type": "markdown",
      "source": [
        "##Generating AST and visualizing it\n"
      ],
      "metadata": {
        "id": "hCt6CrkvGX1d"
      }
    },
    {
      "cell_type": "code",
      "source": [
        "def gen_ast(filename):\n",
        "  with open(filename) as f:\n",
        "    code = f.read()\n",
        "  \n",
        "  ast_py = ast.parse(code)\n",
        "  return ast_py"
      ],
      "metadata": {
        "id": "06LuePhuz_P3"
      },
      "execution_count": null,
      "outputs": []
    },
    {
      "cell_type": "code",
      "source": [
        "filename = '/content/logn.py'\n",
        "ast_py = gen_ast(filename)"
      ],
      "metadata": {
        "id": "nAFIf5HMNMYI"
      },
      "execution_count": null,
      "outputs": []
    },
    {
      "cell_type": "code",
      "source": [
        "#print(type(ast_py))"
      ],
      "metadata": {
        "colab": {
          "base_uri": "https://localhost:8080/"
        },
        "id": "mj23Jv0RNWB-",
        "outputId": "8cd59e78-cac5-4ca9-9e03-92d40ce4daed"
      },
      "execution_count": null,
      "outputs": [
        {
          "output_type": "stream",
          "name": "stdout",
          "text": [
            "<class '_ast.Module'>\n"
          ]
        }
      ]
    },
    {
      "cell_type": "code",
      "source": [
        "#print(ast.dump(ast_py))"
      ],
      "metadata": {
        "colab": {
          "base_uri": "https://localhost:8080/"
        },
        "id": "ngei0CMRNXz7",
        "outputId": "dc6210e6-1a5a-4cf5-bd4f-06bb10e3214e"
      },
      "execution_count": null,
      "outputs": [
        {
          "output_type": "stream",
          "name": "stdout",
          "text": [
            "Module(body=[FunctionDef(name='binarySearch', args=arguments(args=[arg(arg='arr', annotation=None), arg(arg='l', annotation=None), arg(arg='r', annotation=None), arg(arg='x', annotation=None)], vararg=None, kwonlyargs=[], kw_defaults=[], kwarg=None, defaults=[]), body=[If(test=Compare(left=Name(id='r', ctx=Load()), ops=[GtE()], comparators=[Name(id='l', ctx=Load())]), body=[Assign(targets=[Name(id='mid', ctx=Store())], value=BinOp(left=Name(id='l', ctx=Load()), op=Add(), right=BinOp(left=BinOp(left=Name(id='r', ctx=Load()), op=Sub(), right=Name(id='l', ctx=Load())), op=FloorDiv(), right=Num(n=2)))), If(test=Compare(left=Subscript(value=Name(id='arr', ctx=Load()), slice=Index(value=Name(id='mid', ctx=Load())), ctx=Load()), ops=[Eq()], comparators=[Name(id='x', ctx=Load())]), body=[Return(value=Name(id='mid', ctx=Load()))], orelse=[If(test=Compare(left=Subscript(value=Name(id='arr', ctx=Load()), slice=Index(value=Name(id='mid', ctx=Load())), ctx=Load()), ops=[Gt()], comparators=[Name(id='x', ctx=Load())]), body=[Return(value=Call(func=Name(id='binarySearch', ctx=Load()), args=[Name(id='arr', ctx=Load()), Name(id='l', ctx=Load()), BinOp(left=Name(id='mid', ctx=Load()), op=Sub(), right=Num(n=1)), Name(id='x', ctx=Load())], keywords=[]))], orelse=[Return(value=Call(func=Name(id='binarySearch', ctx=Load()), args=[Name(id='arr', ctx=Load()), BinOp(left=Name(id='mid', ctx=Load()), op=Add(), right=Num(n=1)), Name(id='r', ctx=Load()), Name(id='x', ctx=Load())], keywords=[]))])])], orelse=[Return(value=UnaryOp(op=USub(), operand=Num(n=1)))])], decorator_list=[], returns=None), Assign(targets=[Name(id='arr', ctx=Store())], value=List(elts=[Num(n=2), Num(n=3), Num(n=4), Num(n=10), Num(n=40)], ctx=Load())), Assign(targets=[Name(id='x', ctx=Store())], value=Num(n=10)), Assign(targets=[Name(id='result', ctx=Store())], value=Call(func=Name(id='binarySearch', ctx=Load()), args=[Name(id='arr', ctx=Load()), Num(n=0), BinOp(left=Call(func=Name(id='len', ctx=Load()), args=[Name(id='arr', ctx=Load())], keywords=[]), op=Sub(), right=Num(n=1)), Name(id='x', ctx=Load())], keywords=[])), If(test=Compare(left=Name(id='result', ctx=Load()), ops=[NotEq()], comparators=[UnaryOp(op=USub(), operand=Num(n=1))]), body=[Expr(value=Call(func=Name(id='print', ctx=Load()), args=[BinOp(left=Str(s='Element is present at index % d'), op=Mod(), right=Name(id='result', ctx=Load()))], keywords=[]))], orelse=[Expr(value=Call(func=Name(id='print', ctx=Load()), args=[Str(s='Element is not present in array')], keywords=[]))])])\n"
          ]
        }
      ]
    },
    {
      "cell_type": "code",
      "source": [
        "for i in ast_py.body:\n",
        "  print(\"-----------------\")\n",
        "  astpretty.pprint(i)"
      ],
      "metadata": {
        "colab": {
          "base_uri": "https://localhost:8080/"
        },
        "id": "3xlT5XiXOhx7",
        "outputId": "0daa5a3f-5dc0-4a19-d504-bba810b7074c"
      },
      "execution_count": null,
      "outputs": [
        {
          "output_type": "stream",
          "name": "stdout",
          "text": [
            "-----------------\n",
            "FunctionDef(\n",
            "    lineno=6,\n",
            "    col_offset=0,\n",
            "    name='binarySearch',\n",
            "    args=arguments(\n",
            "        args=[\n",
            "            arg(lineno=6, col_offset=17, arg='arr', annotation=None),\n",
            "            arg(lineno=6, col_offset=22, arg='l', annotation=None),\n",
            "            arg(lineno=6, col_offset=25, arg='r', annotation=None),\n",
            "            arg(lineno=6, col_offset=28, arg='x', annotation=None),\n",
            "        ],\n",
            "        vararg=None,\n",
            "        kwonlyargs=[],\n",
            "        kw_defaults=[],\n",
            "        kwarg=None,\n",
            "        defaults=[],\n",
            "    ),\n",
            "    body=[\n",
            "        If(\n",
            "            lineno=9,\n",
            "            col_offset=1,\n",
            "            test=Compare(\n",
            "                lineno=9,\n",
            "                col_offset=4,\n",
            "                left=Name(lineno=9, col_offset=4, id='r', ctx=Load()),\n",
            "                ops=[GtE()],\n",
            "                comparators=[Name(lineno=9, col_offset=9, id='l', ctx=Load())],\n",
            "            ),\n",
            "            body=[\n",
            "                Assign(\n",
            "                    lineno=11,\n",
            "                    col_offset=2,\n",
            "                    targets=[Name(lineno=11, col_offset=2, id='mid', ctx=Store())],\n",
            "                    value=BinOp(\n",
            "                        lineno=11,\n",
            "                        col_offset=8,\n",
            "                        left=Name(lineno=11, col_offset=8, id='l', ctx=Load()),\n",
            "                        op=Add(),\n",
            "                        right=BinOp(\n",
            "                            lineno=11,\n",
            "                            col_offset=12,\n",
            "                            left=BinOp(\n",
            "                                lineno=11,\n",
            "                                col_offset=13,\n",
            "                                left=Name(lineno=11, col_offset=13, id='r', ctx=Load()),\n",
            "                                op=Sub(),\n",
            "                                right=Name(lineno=11, col_offset=17, id='l', ctx=Load()),\n",
            "                            ),\n",
            "                            op=FloorDiv(),\n",
            "                            right=Num(lineno=11, col_offset=23, n=2),\n",
            "                        ),\n",
            "                    ),\n",
            "                ),\n",
            "                If(\n",
            "                    lineno=14,\n",
            "                    col_offset=2,\n",
            "                    test=Compare(\n",
            "                        lineno=14,\n",
            "                        col_offset=5,\n",
            "                        left=Subscript(\n",
            "                            lineno=14,\n",
            "                            col_offset=5,\n",
            "                            value=Name(lineno=14, col_offset=5, id='arr', ctx=Load()),\n",
            "                            slice=Index(\n",
            "                                value=Name(lineno=14, col_offset=9, id='mid', ctx=Load()),\n",
            "                            ),\n",
            "                            ctx=Load(),\n",
            "                        ),\n",
            "                        ops=[Eq()],\n",
            "                        comparators=[Name(lineno=14, col_offset=17, id='x', ctx=Load())],\n",
            "                    ),\n",
            "                    body=[\n",
            "                        Return(\n",
            "                            lineno=15,\n",
            "                            col_offset=3,\n",
            "                            value=Name(lineno=15, col_offset=10, id='mid', ctx=Load()),\n",
            "                        ),\n",
            "                    ],\n",
            "                    orelse=[\n",
            "                        If(\n",
            "                            lineno=19,\n",
            "                            col_offset=2,\n",
            "                            test=Compare(\n",
            "                                lineno=19,\n",
            "                                col_offset=7,\n",
            "                                left=Subscript(\n",
            "                                    lineno=19,\n",
            "                                    col_offset=7,\n",
            "                                    value=Name(lineno=19, col_offset=7, id='arr', ctx=Load()),\n",
            "                                    slice=Index(\n",
            "                                        value=Name(lineno=19, col_offset=11, id='mid', ctx=Load()),\n",
            "                                    ),\n",
            "                                    ctx=Load(),\n",
            "                                ),\n",
            "                                ops=[Gt()],\n",
            "                                comparators=[Name(lineno=19, col_offset=18, id='x', ctx=Load())],\n",
            "                            ),\n",
            "                            body=[\n",
            "                                Return(\n",
            "                                    lineno=20,\n",
            "                                    col_offset=3,\n",
            "                                    value=Call(\n",
            "                                        lineno=20,\n",
            "                                        col_offset=10,\n",
            "                                        func=Name(lineno=20, col_offset=10, id='binarySearch', ctx=Load()),\n",
            "                                        args=[\n",
            "                                            Name(lineno=20, col_offset=23, id='arr', ctx=Load()),\n",
            "                                            Name(lineno=20, col_offset=28, id='l', ctx=Load()),\n",
            "                                            BinOp(\n",
            "                                                lineno=20,\n",
            "                                                col_offset=31,\n",
            "                                                left=Name(lineno=20, col_offset=31, id='mid', ctx=Load()),\n",
            "                                                op=Sub(),\n",
            "                                                right=Num(lineno=20, col_offset=35, n=1),\n",
            "                                            ),\n",
            "                                            Name(lineno=20, col_offset=38, id='x', ctx=Load()),\n",
            "                                        ],\n",
            "                                        keywords=[],\n",
            "                                    ),\n",
            "                                ),\n",
            "                            ],\n",
            "                            orelse=[\n",
            "                                Return(\n",
            "                                    lineno=25,\n",
            "                                    col_offset=3,\n",
            "                                    value=Call(\n",
            "                                        lineno=25,\n",
            "                                        col_offset=10,\n",
            "                                        func=Name(lineno=25, col_offset=10, id='binarySearch', ctx=Load()),\n",
            "                                        args=[\n",
            "                                            Name(lineno=25, col_offset=23, id='arr', ctx=Load()),\n",
            "                                            BinOp(\n",
            "                                                lineno=25,\n",
            "                                                col_offset=28,\n",
            "                                                left=Name(lineno=25, col_offset=28, id='mid', ctx=Load()),\n",
            "                                                op=Add(),\n",
            "                                                right=Num(lineno=25, col_offset=34, n=1),\n",
            "                                            ),\n",
            "                                            Name(lineno=25, col_offset=37, id='r', ctx=Load()),\n",
            "                                            Name(lineno=25, col_offset=40, id='x', ctx=Load()),\n",
            "                                        ],\n",
            "                                        keywords=[],\n",
            "                                    ),\n",
            "                                ),\n",
            "                            ],\n",
            "                        ),\n",
            "                    ],\n",
            "                ),\n",
            "            ],\n",
            "            orelse=[\n",
            "                Return(\n",
            "                    lineno=29,\n",
            "                    col_offset=2,\n",
            "                    value=UnaryOp(\n",
            "                        lineno=29,\n",
            "                        col_offset=9,\n",
            "                        op=USub(),\n",
            "                        operand=Num(lineno=29, col_offset=10, n=1),\n",
            "                    ),\n",
            "                ),\n",
            "            ],\n",
            "        ),\n",
            "    ],\n",
            "    decorator_list=[],\n",
            "    returns=None,\n",
            ")\n",
            "-----------------\n",
            "Assign(\n",
            "    lineno=33,\n",
            "    col_offset=0,\n",
            "    targets=[Name(lineno=33, col_offset=0, id='arr', ctx=Store())],\n",
            "    value=List(\n",
            "        lineno=33,\n",
            "        col_offset=6,\n",
            "        elts=[\n",
            "            Num(lineno=33, col_offset=7, n=2),\n",
            "            Num(lineno=33, col_offset=10, n=3),\n",
            "            Num(lineno=33, col_offset=13, n=4),\n",
            "            Num(lineno=33, col_offset=16, n=10),\n",
            "            Num(lineno=33, col_offset=20, n=40),\n",
            "        ],\n",
            "        ctx=Load(),\n",
            "    ),\n",
            ")\n",
            "-----------------\n",
            "Assign(\n",
            "    lineno=34,\n",
            "    col_offset=0,\n",
            "    targets=[Name(lineno=34, col_offset=0, id='x', ctx=Store())],\n",
            "    value=Num(lineno=34, col_offset=4, n=10),\n",
            ")\n",
            "-----------------\n",
            "Assign(\n",
            "    lineno=37,\n",
            "    col_offset=0,\n",
            "    targets=[Name(lineno=37, col_offset=0, id='result', ctx=Store())],\n",
            "    value=Call(\n",
            "        lineno=37,\n",
            "        col_offset=9,\n",
            "        func=Name(lineno=37, col_offset=9, id='binarySearch', ctx=Load()),\n",
            "        args=[\n",
            "            Name(lineno=37, col_offset=22, id='arr', ctx=Load()),\n",
            "            Num(lineno=37, col_offset=27, n=0),\n",
            "            BinOp(\n",
            "                lineno=37,\n",
            "                col_offset=30,\n",
            "                left=Call(\n",
            "                    lineno=37,\n",
            "                    col_offset=30,\n",
            "                    func=Name(lineno=37, col_offset=30, id='len', ctx=Load()),\n",
            "                    args=[Name(lineno=37, col_offset=34, id='arr', ctx=Load())],\n",
            "                    keywords=[],\n",
            "                ),\n",
            "                op=Sub(),\n",
            "                right=Num(lineno=37, col_offset=39, n=1),\n",
            "            ),\n",
            "            Name(lineno=37, col_offset=42, id='x', ctx=Load()),\n",
            "        ],\n",
            "        keywords=[],\n",
            "    ),\n",
            ")\n",
            "-----------------\n",
            "If(\n",
            "    lineno=39,\n",
            "    col_offset=0,\n",
            "    test=Compare(\n",
            "        lineno=39,\n",
            "        col_offset=3,\n",
            "        left=Name(lineno=39, col_offset=3, id='result', ctx=Load()),\n",
            "        ops=[NotEq()],\n",
            "        comparators=[\n",
            "            UnaryOp(\n",
            "                lineno=39,\n",
            "                col_offset=13,\n",
            "                op=USub(),\n",
            "                operand=Num(lineno=39, col_offset=14, n=1),\n",
            "            ),\n",
            "        ],\n",
            "    ),\n",
            "    body=[\n",
            "        Expr(\n",
            "            lineno=40,\n",
            "            col_offset=1,\n",
            "            value=Call(\n",
            "                lineno=40,\n",
            "                col_offset=1,\n",
            "                func=Name(lineno=40, col_offset=1, id='print', ctx=Load()),\n",
            "                args=[\n",
            "                    BinOp(\n",
            "                        lineno=40,\n",
            "                        col_offset=7,\n",
            "                        left=Str(lineno=40, col_offset=7, s='Element is present at index % d'),\n",
            "                        op=Mod(),\n",
            "                        right=Name(lineno=40, col_offset=43, id='result', ctx=Load()),\n",
            "                    ),\n",
            "                ],\n",
            "                keywords=[],\n",
            "            ),\n",
            "        ),\n",
            "    ],\n",
            "    orelse=[\n",
            "        Expr(\n",
            "            lineno=42,\n",
            "            col_offset=1,\n",
            "            value=Call(\n",
            "                lineno=42,\n",
            "                col_offset=1,\n",
            "                func=Name(lineno=42, col_offset=1, id='print', ctx=Load()),\n",
            "                args=[Str(lineno=42, col_offset=7, s='Element is not present in array')],\n",
            "                keywords=[],\n",
            "            ),\n",
            "        ),\n",
            "    ],\n",
            ")\n"
          ]
        }
      ]
    },
    {
      "cell_type": "code",
      "source": [
        "'''\n",
        "children = list(ast.iter_child_nodes(ast_py))\n",
        "print(ast_py.__class__.__name__)\n",
        "print(type(ast_py))\n",
        "for i in children:\n",
        "  print(\"-------------------\")\n",
        "  print(i.__class__.__name__)\n",
        "  sub_child=list(ast.iter_child_nodes(i))\n",
        "  print(sub_child)\n",
        "  \n",
        "  print(type(i))\n",
        "  print(i._fields)\n",
        "\n",
        "'''"
      ],
      "metadata": {
        "colab": {
          "base_uri": "https://localhost:8080/"
        },
        "id": "8VWNolQopqLq",
        "outputId": "61b6e890-5d71-41f8-9ab2-2e66f82a3047"
      },
      "execution_count": null,
      "outputs": [
        {
          "output_type": "stream",
          "name": "stdout",
          "text": [
            "Module\n",
            "<class '_ast.Module'>\n",
            "-------------------\n",
            "FunctionDef\n",
            "[<_ast.arguments object at 0x7f31248d0d90>, <_ast.If object at 0x7f31248d0850>]\n",
            "<class '_ast.FunctionDef'>\n",
            "('name', 'args', 'body', 'decorator_list', 'returns')\n",
            "-------------------\n",
            "Assign\n",
            "[<_ast.Name object at 0x7f312499d3d0>, <_ast.List object at 0x7f31248f0290>]\n",
            "<class '_ast.Assign'>\n",
            "('targets', 'value')\n",
            "-------------------\n",
            "Assign\n",
            "[<_ast.Name object at 0x7f31248f0910>, <_ast.Num object at 0x7f31248f0790>]\n",
            "<class '_ast.Assign'>\n",
            "('targets', 'value')\n",
            "-------------------\n",
            "Assign\n",
            "[<_ast.Name object at 0x7f31248f0110>, <_ast.Call object at 0x7f31248f0850>]\n",
            "<class '_ast.Assign'>\n",
            "('targets', 'value')\n",
            "-------------------\n",
            "If\n",
            "[<_ast.Compare object at 0x7f31248f03d0>, <_ast.Expr object at 0x7f31248f0c90>, <_ast.Expr object at 0x7f31248f0e50>]\n",
            "<class '_ast.If'>\n",
            "('test', 'body', 'orelse')\n"
          ]
        }
      ]
    },
    {
      "cell_type": "code",
      "source": [
        "'''\n",
        "print(children)\n",
        "'''"
      ],
      "metadata": {
        "colab": {
          "base_uri": "https://localhost:8080/"
        },
        "id": "WpsA0iSkwvO3",
        "outputId": "a92b5952-6add-42d0-f8d2-248a22e8c3fb"
      },
      "execution_count": null,
      "outputs": [
        {
          "output_type": "stream",
          "name": "stdout",
          "text": [
            "[<_ast.FunctionDef object at 0x7f31248d0f10>, <_ast.Assign object at 0x7f312499d390>, <_ast.Assign object at 0x7f31248f0410>, <_ast.Assign object at 0x7f31248f0150>, <_ast.If object at 0x7f31248f0890>]\n"
          ]
        }
      ]
    },
    {
      "cell_type": "code",
      "source": [
        "\"\"\"\n",
        "#validating the number of nodes from inbuilt generic visit and custom function\n",
        "count=0\n",
        "class Visitor(ast.NodeVisitor):\n",
        "  def __init__(self,count,addr):\n",
        "    self.count=0\n",
        "    self.addr = dict()\n",
        "  '''\n",
        "  def address(self,node:ast.AST):\n",
        "    if(isinstance(node,ast.Name)):\n",
        "      print(hex(id(node)))\n",
        "      self.addr[hex(id(node))] = node.id\n",
        "      print(self.addr)\n",
        "    if(isinstance(node,ast.FunctionDef)):\n",
        "      #if(not(hex(id(node))) in addr): \n",
        "      #  self.addr[hex(id(node))] = \"\"\n",
        "      print(self.addr)\n",
        "      self.addr[hex(id(node))] = node.name\n",
        "      #print(self.addr)\n",
        "    self.generic_visit(node)\n",
        "  '''\n",
        "  def visit(self,node:ast.AST):\n",
        "    #if(isinstance(node,ast.arg)):\n",
        "      #print(node.arg)\n",
        "    if(isinstance(node,ast.Name)):\n",
        "      #print(hex(id(node)))\n",
        "      self.addr[hex(id(node))] = node.id\n",
        "      #print(self.addr)\n",
        "    if(isinstance(node,ast.FunctionDef)):\n",
        "      #if(not(hex(id(node))) in addr): \n",
        "      #  self.addr[hex(id(node))] = \"\"\n",
        "      #print(self.addr)\n",
        "      self.addr[hex(id(node))] = node.name\n",
        "    #print(node.__class__.__name__)\n",
        "    #print(\"Children: \",list(ast.iter_child_nodes(node)))\n",
        "    #fields = list(ast.iter_fields(node))\n",
        "    #print(fields)\n",
        "    self.count+=1\n",
        "    #print(\"--------------------\")\n",
        "    self.generic_visit(node)\n",
        "\n",
        "    #if(isinstance(node,ast.Name)):\n",
        "      #print(hex(id(node)))\n",
        "      #self.addr[hex(id(node))] = node.id\n",
        "      #print(self.addr)\n",
        "    #if(isinstance(node,ast.FunctionDef)):\n",
        "      #if(not(hex(id(node))) in addr): \n",
        "      #  self.addr[hex(id(node))] = \"\"\n",
        "      #print(self.addr)\n",
        "      #self.addr[hex(id(node))] = node.name\n",
        "      #print(self.addr)\n",
        "    #if(isinstance(node,ast.Call)):\n",
        "        #print(self.addr)\n",
        "     #   print(addr[str(hex(id(node.func)))])\n",
        "  \n",
        "  def print_(self):\n",
        "    print(self.count)\n",
        "    return self.addr\n",
        "\"\"\""
      ],
      "metadata": {
        "id": "VgAaDEjKS8AX"
      },
      "execution_count": null,
      "outputs": []
    },
    {
      "cell_type": "code",
      "source": [
        "'''\n",
        "count=0\n",
        "addr = dict()\n",
        "a = Visitor(count,addr)\n",
        "#a.address(ast_py)\n",
        "a.visit(ast_py)\n",
        "addr = a.print_()\n",
        "'''"
      ],
      "metadata": {
        "colab": {
          "base_uri": "https://localhost:8080/"
        },
        "id": "J7pJIGVTadUN",
        "outputId": "9f3dce2a-f73d-48dc-810a-292224a06771"
      },
      "execution_count": null,
      "outputs": [
        {
          "output_type": "stream",
          "name": "stdout",
          "text": [
            "146\n"
          ]
        }
      ]
    },
    {
      "cell_type": "code",
      "source": [
        "#addr"
      ],
      "metadata": {
        "colab": {
          "base_uri": "https://localhost:8080/"
        },
        "id": "ThdXh3_e5qp4",
        "outputId": "142fcf75-e3e0-4509-dfb8-a1077900d569"
      },
      "execution_count": null,
      "outputs": [
        {
          "output_type": "execute_result",
          "data": {
            "text/plain": [
              "{'0x7fb9e9b85590': 'binarySearch',\n",
              " '0x7fb9e9b85790': 'r',\n",
              " '0x7fb9e9b857d0': 'l',\n",
              " '0x7fb9e9b85850': 'mid',\n",
              " '0x7fb9e9b858d0': 'l',\n",
              " '0x7fb9e9b85990': 'r',\n",
              " '0x7fb9e9b859d0': 'l',\n",
              " '0x7fb9e9b85b10': 'arr',\n",
              " '0x7fb9e9b85b90': 'mid',\n",
              " '0x7fb9e9b85bd0': 'x',\n",
              " '0x7fb9e9b85c50': 'mid',\n",
              " '0x7fb9e9b85d50': 'arr',\n",
              " '0x7fb9e9b85dd0': 'mid',\n",
              " '0x7fb9e9b85e10': 'x',\n",
              " '0x7fb9e9b85ed0': 'binarySearch',\n",
              " '0x7fb9e9b85f10': 'arr',\n",
              " '0x7fb9e9b85f50': 'l',\n",
              " '0x7fb9e9b85fd0': 'mid',\n",
              " '0x7fb9e9b87090': 'x',\n",
              " '0x7fb9e9b87150': 'binarySearch',\n",
              " '0x7fb9e9b87190': 'arr',\n",
              " '0x7fb9e9b87210': 'mid',\n",
              " '0x7fb9e9b87290': 'r',\n",
              " '0x7fb9e9b872d0': 'x',\n",
              " '0x7fb9e9b873d0': 'arr',\n",
              " '0x7fb9e9b875d0': 'x',\n",
              " '0x7fb9e9b87690': 'result',\n",
              " '0x7fb9e9b87710': 'binarySearch',\n",
              " '0x7fb9e9b87750': 'arr',\n",
              " '0x7fb9e9b87850': 'len',\n",
              " '0x7fb9e9b87890': 'arr',\n",
              " '0x7fb9e9b87910': 'x',\n",
              " '0x7fb9e9b879d0': 'result',\n",
              " '0x7fb9e9b87b10': 'print',\n",
              " '0x7fb9e9b87bd0': 'result',\n",
              " '0x7fb9e9b87c90': 'print'}"
            ]
          },
          "metadata": {},
          "execution_count": 69
        }
      ]
    },
    {
      "cell_type": "code",
      "source": [
        "def get_token(node):\n",
        "  token = node.__class__.__name__\n",
        "  if(isinstance(node,ast.arg)):\n",
        "    token = node.arg\n",
        "    return token\n",
        "  if(isinstance(node,ast.Name)):\n",
        "    token= node.id\n",
        "    return token\n",
        "  if(isinstance(node,ast.Num)):\n",
        "    token = node.n\n",
        "    return token\n",
        "  if(isinstance(node,ast.FunctionDef)):\n",
        "    token += \": \"+str(node.name)\n",
        "    return token\n",
        "  #if(isinstance(node,ast.Call)):\n",
        "   # token += \": \"+ str(node.func)\n",
        "   # return token\n",
        "  if(isinstance(node,ast.Str)):\n",
        "    token = node.s\n",
        "    return token\n",
        "  return token"
      ],
      "metadata": {
        "id": "UEaGLmaoMZns"
      },
      "execution_count": null,
      "outputs": []
    },
    {
      "cell_type": "markdown",
      "source": [
        "##Custom function to extract the nodes from the ast\n"
      ],
      "metadata": {
        "id": "-HtCXe4VHSUl"
      }
    },
    {
      "cell_type": "code",
      "source": [
        "from anytree import Node\n",
        "\n",
        "def get_children(root):\n",
        "    children = list(ast.iter_child_nodes(root))\n",
        "    '''\n",
        "    if isinstance(root, ast.AST):\n",
        "        children = ast.iter_children()\n",
        "    elif isinstance(root[1], pycparser.c_ast.Node):\n",
        "        children = root[1].children()\n",
        "    elif isinstance(root, set):\n",
        "        children = list(root)\n",
        "    else:\n",
        "        children = []\n",
        "    '''\n",
        "    \n",
        "    def expand(nested_list):\n",
        "        for item in nested_list:\n",
        "            if isinstance(item, list):\n",
        "                for sub_item in expand(item):\n",
        "                    yield sub_item\n",
        "            elif item:\n",
        "                yield item\n",
        "    \n",
        "    return list(expand(children))\n",
        "\n",
        "def get_trees(current_node, parent_node, order):\n",
        "    #print(current_node)\n",
        "    fields = list(ast.iter_fields(current_node))\n",
        "    #print(fields)\n",
        "    token, children = get_token(current_node), get_children(current_node)\n",
        "    node = Node([order,token], parent=parent_node, order=order)\n",
        "    #print(parent_node)\n",
        "    #if(parent_node.name=='')\n",
        "    p = str(parent_node.name[0])+\"--\"+str(parent_node.name[1])\n",
        "    c = str(order)+\"--\"+str(token)\n",
        "    nodes.append((p,c))\n",
        "    #print(nodes)\n",
        "    for child_order in range(len(children)):\n",
        "        get_trees(children[child_order], node, order+str(int(child_order)+1))"
      ],
      "metadata": {
        "id": "sp3lhjZ03Ntr"
      },
      "execution_count": null,
      "outputs": []
    },
    {
      "cell_type": "code",
      "source": [
        "from anytree import Node\n",
        "# Initialize head node of the code.\n",
        "head = Node([\"1\",ast_py.__class__.__name__])\n",
        "# Recursively construct AST tree.\n",
        "nodes = []\n",
        "nodes.append((None,str(head.name[1])+str(head.name[0])))\n",
        "for child_order in range(len(get_children(ast_py))):\n",
        "    get_trees(get_children(ast_py)[child_order], head, \"1\"+str(int(child_order)+1))"
      ],
      "metadata": {
        "id": "iE9ekO1-3RNc"
      },
      "execution_count": null,
      "outputs": []
    },
    {
      "cell_type": "code",
      "source": [
        "len(nodes)"
      ],
      "metadata": {
        "colab": {
          "base_uri": "https://localhost:8080/"
        },
        "id": "yJ9EhK0t3-lb",
        "outputId": "4467191b-5ed0-49bb-e01e-5792275388eb"
      },
      "execution_count": null,
      "outputs": [
        {
          "output_type": "execute_result",
          "data": {
            "text/plain": [
              "146"
            ]
          },
          "metadata": {},
          "execution_count": 11
        }
      ]
    },
    {
      "cell_type": "code",
      "source": [
        "nodes"
      ],
      "metadata": {
        "colab": {
          "base_uri": "https://localhost:8080/"
        },
        "id": "NKdkDD7Q3YU-",
        "outputId": "dadfabfa-c73a-4370-a237-f61ee350e9f7"
      },
      "execution_count": null,
      "outputs": [
        {
          "output_type": "execute_result",
          "data": {
            "text/plain": [
              "[(None, 'Module1'),\n",
              " ('1--Module', '11--FunctionDef: binarySearch'),\n",
              " ('11--FunctionDef: binarySearch', '111--arguments'),\n",
              " ('111--arguments', '1111--arr'),\n",
              " ('111--arguments', '1112--l'),\n",
              " ('111--arguments', '1113--r'),\n",
              " ('111--arguments', '1114--x'),\n",
              " ('11--FunctionDef: binarySearch', '112--If'),\n",
              " ('112--If', '1121--Compare'),\n",
              " ('1121--Compare', '11211--r'),\n",
              " ('11211--r', '112111--Load'),\n",
              " ('1121--Compare', '11212--GtE'),\n",
              " ('1121--Compare', '11213--l'),\n",
              " ('11213--l', '112131--Load'),\n",
              " ('112--If', '1122--Assign'),\n",
              " ('1122--Assign', '11221--mid'),\n",
              " ('11221--mid', '112211--Store'),\n",
              " ('1122--Assign', '11222--BinOp'),\n",
              " ('11222--BinOp', '112221--l'),\n",
              " ('112221--l', '1122211--Load'),\n",
              " ('11222--BinOp', '112222--Add'),\n",
              " ('11222--BinOp', '112223--BinOp'),\n",
              " ('112223--BinOp', '1122231--BinOp'),\n",
              " ('1122231--BinOp', '11222311--r'),\n",
              " ('11222311--r', '112223111--Load'),\n",
              " ('1122231--BinOp', '11222312--Sub'),\n",
              " ('1122231--BinOp', '11222313--l'),\n",
              " ('11222313--l', '112223131--Load'),\n",
              " ('112223--BinOp', '1122232--FloorDiv'),\n",
              " ('112223--BinOp', '1122233--2'),\n",
              " ('112--If', '1123--If'),\n",
              " ('1123--If', '11231--Compare'),\n",
              " ('11231--Compare', '112311--Subscript'),\n",
              " ('112311--Subscript', '1123111--arr'),\n",
              " ('1123111--arr', '11231111--Load'),\n",
              " ('112311--Subscript', '1123112--Index'),\n",
              " ('1123112--Index', '11231121--mid'),\n",
              " ('11231121--mid', '112311211--Load'),\n",
              " ('112311--Subscript', '1123113--Load'),\n",
              " ('11231--Compare', '112312--Eq'),\n",
              " ('11231--Compare', '112313--x'),\n",
              " ('112313--x', '1123131--Load'),\n",
              " ('1123--If', '11232--Return'),\n",
              " ('11232--Return', '112321--mid'),\n",
              " ('112321--mid', '1123211--Load'),\n",
              " ('1123--If', '11233--If'),\n",
              " ('11233--If', '112331--Compare'),\n",
              " ('112331--Compare', '1123311--Subscript'),\n",
              " ('1123311--Subscript', '11233111--arr'),\n",
              " ('11233111--arr', '112331111--Load'),\n",
              " ('1123311--Subscript', '11233112--Index'),\n",
              " ('11233112--Index', '112331121--mid'),\n",
              " ('112331121--mid', '1123311211--Load'),\n",
              " ('1123311--Subscript', '11233113--Load'),\n",
              " ('112331--Compare', '1123312--Gt'),\n",
              " ('112331--Compare', '1123313--x'),\n",
              " ('1123313--x', '11233131--Load'),\n",
              " ('11233--If', '112332--Return'),\n",
              " ('112332--Return', '1123321--Call'),\n",
              " ('1123321--Call', '11233211--binarySearch'),\n",
              " ('11233211--binarySearch', '112332111--Load'),\n",
              " ('1123321--Call', '11233212--arr'),\n",
              " ('11233212--arr', '112332121--Load'),\n",
              " ('1123321--Call', '11233213--l'),\n",
              " ('11233213--l', '112332131--Load'),\n",
              " ('1123321--Call', '11233214--BinOp'),\n",
              " ('11233214--BinOp', '112332141--mid'),\n",
              " ('112332141--mid', '1123321411--Load'),\n",
              " ('11233214--BinOp', '112332142--Sub'),\n",
              " ('11233214--BinOp', '112332143--1'),\n",
              " ('1123321--Call', '11233215--x'),\n",
              " ('11233215--x', '112332151--Load'),\n",
              " ('11233--If', '112333--Return'),\n",
              " ('112333--Return', '1123331--Call'),\n",
              " ('1123331--Call', '11233311--binarySearch'),\n",
              " ('11233311--binarySearch', '112333111--Load'),\n",
              " ('1123331--Call', '11233312--arr'),\n",
              " ('11233312--arr', '112333121--Load'),\n",
              " ('1123331--Call', '11233313--BinOp'),\n",
              " ('11233313--BinOp', '112333131--mid'),\n",
              " ('112333131--mid', '1123331311--Load'),\n",
              " ('11233313--BinOp', '112333132--Add'),\n",
              " ('11233313--BinOp', '112333133--1'),\n",
              " ('1123331--Call', '11233314--r'),\n",
              " ('11233314--r', '112333141--Load'),\n",
              " ('1123331--Call', '11233315--x'),\n",
              " ('11233315--x', '112333151--Load'),\n",
              " ('112--If', '1124--Return'),\n",
              " ('1124--Return', '11241--UnaryOp'),\n",
              " ('11241--UnaryOp', '112411--USub'),\n",
              " ('11241--UnaryOp', '112412--1'),\n",
              " ('1--Module', '12--Assign'),\n",
              " ('12--Assign', '121--arr'),\n",
              " ('121--arr', '1211--Store'),\n",
              " ('12--Assign', '122--List'),\n",
              " ('122--List', '1221--2'),\n",
              " ('122--List', '1222--3'),\n",
              " ('122--List', '1223--4'),\n",
              " ('122--List', '1224--10'),\n",
              " ('122--List', '1225--40'),\n",
              " ('122--List', '1226--Load'),\n",
              " ('1--Module', '13--Assign'),\n",
              " ('13--Assign', '131--x'),\n",
              " ('131--x', '1311--Store'),\n",
              " ('13--Assign', '132--10'),\n",
              " ('1--Module', '14--Assign'),\n",
              " ('14--Assign', '141--result'),\n",
              " ('141--result', '1411--Store'),\n",
              " ('14--Assign', '142--Call'),\n",
              " ('142--Call', '1421--binarySearch'),\n",
              " ('1421--binarySearch', '14211--Load'),\n",
              " ('142--Call', '1422--arr'),\n",
              " ('1422--arr', '14221--Load'),\n",
              " ('142--Call', '1423--0'),\n",
              " ('142--Call', '1424--BinOp'),\n",
              " ('1424--BinOp', '14241--Call'),\n",
              " ('14241--Call', '142411--len'),\n",
              " ('142411--len', '1424111--Load'),\n",
              " ('14241--Call', '142412--arr'),\n",
              " ('142412--arr', '1424121--Load'),\n",
              " ('1424--BinOp', '14242--Sub'),\n",
              " ('1424--BinOp', '14243--1'),\n",
              " ('142--Call', '1425--x'),\n",
              " ('1425--x', '14251--Load'),\n",
              " ('1--Module', '15--If'),\n",
              " ('15--If', '151--Compare'),\n",
              " ('151--Compare', '1511--result'),\n",
              " ('1511--result', '15111--Load'),\n",
              " ('151--Compare', '1512--NotEq'),\n",
              " ('151--Compare', '1513--UnaryOp'),\n",
              " ('1513--UnaryOp', '15131--USub'),\n",
              " ('1513--UnaryOp', '15132--1'),\n",
              " ('15--If', '152--Expr'),\n",
              " ('152--Expr', '1521--Call'),\n",
              " ('1521--Call', '15211--print'),\n",
              " ('15211--print', '152111--Load'),\n",
              " ('1521--Call', '15212--BinOp'),\n",
              " ('15212--BinOp', '152121--Element is present at index % d'),\n",
              " ('15212--BinOp', '152122--Mod'),\n",
              " ('15212--BinOp', '152123--result'),\n",
              " ('152123--result', '1521231--Load'),\n",
              " ('15--If', '153--Expr'),\n",
              " ('153--Expr', '1531--Call'),\n",
              " ('1531--Call', '15311--print'),\n",
              " ('15311--print', '153111--Load'),\n",
              " ('1531--Call', '15312--Element is not present in array')]"
            ]
          },
          "metadata": {},
          "execution_count": 16
        }
      ]
    },
    {
      "cell_type": "code",
      "source": [],
      "metadata": {
        "id": "lh-LQkNAd1z2"
      },
      "execution_count": null,
      "outputs": []
    }
  ]
}