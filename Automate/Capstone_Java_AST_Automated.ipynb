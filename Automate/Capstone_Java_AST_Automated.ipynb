{
  "nbformat": 4,
  "nbformat_minor": 0,
  "metadata": {
    "colab": {
      "provenance": [],
      "collapsed_sections": []
    },
    "kernelspec": {
      "name": "python3",
      "display_name": "Python 3"
    },
    "language_info": {
      "name": "python"
    }
  },
  "cells": [
    {
      "cell_type": "code",
      "execution_count": null,
      "metadata": {
        "colab": {
          "base_uri": "https://localhost:8080/"
        },
        "id": "cgCKBxbmF2dq",
        "outputId": "0c0166fa-bca8-4b47-ab16-c7eb1412578a"
      },
      "outputs": [
        {
          "output_type": "stream",
          "name": "stdout",
          "text": [
            "Looking in indexes: https://pypi.org/simple, https://us-python.pkg.dev/colab-wheels/public/simple/\n",
            "Requirement already satisfied: javalang in /usr/local/lib/python3.7/dist-packages (0.13.0)\n",
            "Requirement already satisfied: six in /usr/local/lib/python3.7/dist-packages (from javalang) (1.15.0)\n"
          ]
        }
      ],
      "source": [
        "!pip install javalang"
      ]
    },
    {
      "cell_type": "code",
      "source": [
        "!pip install anytree"
      ],
      "metadata": {
        "colab": {
          "base_uri": "https://localhost:8080/"
        },
        "id": "nD34F5L5Mrer",
        "outputId": "95cfb4f1-fa9e-4037-a862-4e955fa9b63c"
      },
      "execution_count": null,
      "outputs": [
        {
          "output_type": "stream",
          "name": "stdout",
          "text": [
            "Looking in indexes: https://pypi.org/simple, https://us-python.pkg.dev/colab-wheels/public/simple/\n",
            "Requirement already satisfied: anytree in /usr/local/lib/python3.7/dist-packages (2.8.0)\n",
            "Requirement already satisfied: six>=1.9.0 in /usr/local/lib/python3.7/dist-packages (from anytree) (1.15.0)\n"
          ]
        }
      ]
    },
    {
      "cell_type": "code",
      "source": [
        "import javalang\n",
        "import re\n",
        "import anytree\n",
        "import random"
      ],
      "metadata": {
        "id": "BLYHSnmqIP71"
      },
      "execution_count": null,
      "outputs": []
    },
    {
      "cell_type": "code",
      "source": [
        "import os\n",
        "from google.colab import drive\n",
        "drive.mount(\"/content/gdrive\")"
      ],
      "metadata": {
        "colab": {
          "base_uri": "https://localhost:8080/"
        },
        "id": "oHF1G41P9iBN",
        "outputId": "b3ad149f-bc05-42f4-b8b7-f7e58fba3950"
      },
      "execution_count": null,
      "outputs": [
        {
          "output_type": "stream",
          "name": "stdout",
          "text": [
            "Drive already mounted at /content/gdrive; to attempt to forcibly remount, call drive.mount(\"/content/gdrive\", force_remount=True).\n"
          ]
        }
      ]
    },
    {
      "cell_type": "code",
      "source": [
        "data ='/content/gdrive/My Drive/Capstone_Dataset-main'\n",
        "dcat=['/Java/']\n",
        "dir=['O(1)', 'O(logN)', 'O(N!)', 'O(N)','O(N2)','O(N3)','O(Nd)','O(NlogN)','O(sqrt(N))', 'O(2n)']"
      ],
      "metadata": {
        "id": "hHJg155t9mMO"
      },
      "execution_count": null,
      "outputs": []
    },
    {
      "cell_type": "code",
      "source": [
        "#tokens = javalang.tokenizer.tokenize(text)\n",
        "def gen_ast(filename):\n",
        "  f = open(filename, \"r\")\n",
        "  text = f.read()\n",
        "  out = re.sub('//.*?\\n|/\\*.*?\\*/', '', text, flags=re.S)\n",
        "  #print(out)\n",
        "  tree = javalang.parse.parse(out)\n",
        "  return tree\n",
        "#parser.parse_expression()"
      ],
      "metadata": {
        "id": "mgSEzbN_-nPv"
      },
      "execution_count": null,
      "outputs": []
    },
    {
      "cell_type": "code",
      "source": [
        "def create_dataset(directory,dataset):\n",
        "    for j in os.listdir(directory):\n",
        "        try:\n",
        "            filename = os.path.join(directory,j)\n",
        "            ast_py = gen_ast(filename)\n",
        "            dataset.append(ast_py)\n",
        "        except Exception as e:\n",
        "            pass"
      ],
      "metadata": {
        "id": "2hF8QiY3-yYt"
      },
      "execution_count": null,
      "outputs": []
    },
    {
      "cell_type": "code",
      "source": [
        "dataset0=[]\n",
        "dataset1=[]\n",
        "dataset2=[]\n",
        "dataset3=[]\n",
        "dataset4=[]\n",
        "dataset5=[]\n",
        "dataset6=[]\n",
        "dataset7=[]\n",
        "dataset8=[]\n",
        "dataset9=[]\n",
        "dataset=[dataset0,dataset1,dataset2,dataset3,dataset4,dataset5,dataset6,dataset7,dataset8,dataset9]\n",
        "for i in range(len(dataset)):\n",
        "    create_dataset(data+dcat[0]+dir[i],dataset[i])"
      ],
      "metadata": {
        "id": "VLWJBKBx-3gm"
      },
      "execution_count": null,
      "outputs": []
    },
    {
      "cell_type": "code",
      "source": [
        "for i in dataset:\n",
        "    print(len(i))"
      ],
      "metadata": {
        "colab": {
          "base_uri": "https://localhost:8080/"
        },
        "id": "LX6eKMhGARMB",
        "outputId": "24480397-4436-4f77-fc7c-561e353bb7c9"
      },
      "execution_count": null,
      "outputs": [
        {
          "output_type": "stream",
          "name": "stdout",
          "text": [
            "2\n",
            "10\n",
            "1\n",
            "165\n",
            "65\n",
            "11\n",
            "9\n",
            "47\n",
            "0\n",
            "3\n"
          ]
        }
      ]
    },
    {
      "cell_type": "code",
      "source": [
        "dataset0[0]"
      ],
      "metadata": {
        "colab": {
          "base_uri": "https://localhost:8080/"
        },
        "id": "xhgAPIzJ_E3C",
        "outputId": "22081ec4-46ef-4cb7-d39d-8b67deebe4c2"
      },
      "execution_count": null,
      "outputs": [
        {
          "output_type": "execute_result",
          "data": {
            "text/plain": [
              "CompilationUnit(imports=[], package=None, types=[ClassDeclaration(annotations=[], body=[MethodDeclaration(annotations=[], body=[StatementExpression(expression=Assignment(expressionl=MemberReference(member=K, postfix_operators=[], prefix_operators=[], qualifier=, selectors=[]), type=%=, value=MemberReference(member=N, postfix_operators=[], prefix_operators=[], qualifier=, selectors=[])), label=None), LocalVariableDeclaration(annotations=[], declarators=[VariableDeclarator(dimensions=[], initializer=None, name=index)], modifiers=set(), type=BasicType(dimensions=[], name=int)), IfStatement(condition=BinaryOperation(operandl=MemberReference(member=K, postfix_operators=[], prefix_operators=[], qualifier=, selectors=[]), operandr=MemberReference(member=M, postfix_operators=[], prefix_operators=[], qualifier=, selectors=[]), operator=>=), else_statement=StatementExpression(expression=Assignment(expressionl=MemberReference(member=index, postfix_operators=[], prefix_operators=[], qualifier=, selectors=[]), type==, value=BinaryOperation(operandl=BinaryOperation(operandl=MemberReference(member=M, postfix_operators=[], prefix_operators=[], qualifier=, selectors=[]), operandr=MemberReference(member=K, postfix_operators=[], prefix_operators=[], qualifier=, selectors=[]), operator=-), operandr=Literal(postfix_operators=[], prefix_operators=[], qualifier=None, selectors=[], value=1), operator=-)), label=None), label=None, then_statement=StatementExpression(expression=Assignment(expressionl=MemberReference(member=index, postfix_operators=[], prefix_operators=[], qualifier=, selectors=[]), type==, value=BinaryOperation(operandl=BinaryOperation(operandl=MemberReference(member=N, postfix_operators=[], prefix_operators=[], qualifier=, selectors=[]), operandr=MemberReference(member=K, postfix_operators=[], prefix_operators=[], qualifier=, selectors=[]), operator=-), operandr=BinaryOperation(operandl=MemberReference(member=M, postfix_operators=[], prefix_operators=[], qualifier=, selectors=[]), operandr=Literal(postfix_operators=[], prefix_operators=[], qualifier=None, selectors=[], value=1), operator=-), operator=+)), label=None)), LocalVariableDeclaration(annotations=[], declarators=[VariableDeclarator(dimensions=[], initializer=MemberReference(member=a, postfix_operators=[], prefix_operators=[], qualifier=, selectors=[ArraySelector(index=MemberReference(member=index, postfix_operators=[], prefix_operators=[], qualifier=, selectors=[]))]), name=result)], modifiers=set(), type=BasicType(dimensions=[], name=int)), ReturnStatement(expression=MemberReference(member=result, postfix_operators=[], prefix_operators=[], qualifier=, selectors=[]), label=None)], documentation=None, modifiers={'static'}, name=getFirstElement, parameters=[FormalParameter(annotations=[], modifiers=set(), name=a, type=BasicType(dimensions=[None], name=int), varargs=False), FormalParameter(annotations=[], modifiers=set(), name=N, type=BasicType(dimensions=[], name=int), varargs=False), FormalParameter(annotations=[], modifiers=set(), name=K, type=BasicType(dimensions=[], name=int), varargs=False), FormalParameter(annotations=[], modifiers=set(), name=M, type=BasicType(dimensions=[], name=int), varargs=False)], return_type=BasicType(dimensions=[], name=int), throws=None, type_parameters=None), MethodDeclaration(annotations=[], body=[LocalVariableDeclaration(annotations=[], declarators=[VariableDeclarator(dimensions=[None], initializer=ArrayInitializer(initializers=[Literal(postfix_operators=[], prefix_operators=[], qualifier=None, selectors=[], value=1), Literal(postfix_operators=[], prefix_operators=[], qualifier=None, selectors=[], value=2), Literal(postfix_operators=[], prefix_operators=[], qualifier=None, selectors=[], value=3), Literal(postfix_operators=[], prefix_operators=[], qualifier=None, selectors=[], value=4), Literal(postfix_operators=[], prefix_operators=[], qualifier=None, selectors=[], value=5)]), name=a)], modifiers=set(), type=BasicType(dimensions=[], name=int)), LocalVariableDeclaration(annotations=[], declarators=[VariableDeclarator(dimensions=[], initializer=Literal(postfix_operators=[], prefix_operators=[], qualifier=None, selectors=[], value=5), name=N)], modifiers=set(), type=BasicType(dimensions=[], name=int)), LocalVariableDeclaration(annotations=[], declarators=[VariableDeclarator(dimensions=[], initializer=Literal(postfix_operators=[], prefix_operators=[], qualifier=None, selectors=[], value=3), name=K), VariableDeclarator(dimensions=[], initializer=Literal(postfix_operators=[], prefix_operators=[], qualifier=None, selectors=[], value=2), name=M)], modifiers=set(), type=BasicType(dimensions=[], name=int)), StatementExpression(expression=MethodInvocation(arguments=[MethodInvocation(arguments=[MemberReference(member=a, postfix_operators=[], prefix_operators=[], qualifier=, selectors=[]), MemberReference(member=N, postfix_operators=[], prefix_operators=[], qualifier=, selectors=[]), MemberReference(member=K, postfix_operators=[], prefix_operators=[], qualifier=, selectors=[]), MemberReference(member=M, postfix_operators=[], prefix_operators=[], qualifier=, selectors=[])], member=getFirstElement, postfix_operators=[], prefix_operators=[], qualifier=, selectors=[], type_arguments=None)], member=println, postfix_operators=[], prefix_operators=[], qualifier=System.out, selectors=[], type_arguments=None), label=None)], documentation=None, modifiers={'public', 'static'}, name=main, parameters=[FormalParameter(annotations=[], modifiers=set(), name=args, type=ReferenceType(arguments=None, dimensions=[None], name=String, sub_type=None), varargs=False)], return_type=None, throws=None, type_parameters=None)], documentation=None, extends=None, implements=None, modifiers=set(), name=on1, type_parameters=None)])"
            ]
          },
          "metadata": {},
          "execution_count": 37
        }
      ]
    },
    {
      "cell_type": "code",
      "source": [
        "#javalang.ast.walk_tree(tree)"
      ],
      "metadata": {
        "id": "DDkFPvtWC7XC"
      },
      "execution_count": null,
      "outputs": []
    },
    {
      "cell_type": "code",
      "source": [
        "def get_token(root):\n",
        "  token=\"\"\n",
        "  if type(root)==str:\n",
        "    token=root\n",
        "    return token\n",
        "  else:\n",
        "    token = root.__class__.__name__\n",
        "    return token"
      ],
      "metadata": {
        "id": "SRqAAhAQXUKC"
      },
      "execution_count": null,
      "outputs": []
    },
    {
      "cell_type": "code",
      "source": [
        "from javalang.ast import Node\n",
        "def get_children(root):\n",
        "    if root.__class__.__name__=='CompilationUnit':\n",
        "        #print(root)\n",
        "        children = root.children\n",
        "    #elif root.__class__.__name__=='ReferenceType':\n",
        "        #print(root)\n",
        "    #    children = root.children\n",
        "    #elif ((root==None) or (type(root)==list and (len(root)==0 or root[0]==None))):\n",
        "    #  children=[]\n",
        "    elif isinstance(root, set):\n",
        "        children = list(root)\n",
        "    #elif type(root)==str:\n",
        "    #    children = list(root)\n",
        "    elif isinstance(root, javalang.ast.Node):\n",
        "         children = root.children\n",
        "    else:\n",
        "        #print(root)\n",
        "        children = []\n",
        "    #print(children)\n",
        "    \n",
        "    def expand(nested_list):\n",
        "        for item in nested_list:\n",
        "            if isinstance(item, list):\n",
        "                for sub_item in expand(item):\n",
        "                    yield sub_item\n",
        "            elif item:\n",
        "                yield item\n",
        "    #print(list(expand(children)))\n",
        "    return list(expand(children))\n",
        "    \n",
        "    #return children\n"
      ],
      "metadata": {
        "id": "xO4yiRoliqGU"
      },
      "execution_count": null,
      "outputs": []
    },
    {
      "cell_type": "code",
      "source": [
        "def get_trees(current_node, parent_node, order):\n",
        "    #print(current_node)\n",
        "    #fields = list(ast.iter_fields(current_node))\n",
        "    #print(fields)\n",
        "    token, children = get_token(current_node), get_children(current_node)\n",
        "    node = Node([order,token], parent=parent_node, order=order)\n",
        "    #print(parent_node)\n",
        "    #if(parent_node.name=='')\n",
        "    p = str(parent_node.name[0])+\"--\"+str(parent_node.name[1])\n",
        "    c = str(order)+\"--\"+str(token)\n",
        "    nodes.append((p,c))\n",
        "    #print(nodes)\n",
        "    #print(children)\n",
        "    for child_order in range(len(children)):\n",
        "        get_trees(children[child_order], node, order+str(random.randint(1,100000)+1))"
      ],
      "metadata": {
        "id": "DJgamp18k0i3"
      },
      "execution_count": null,
      "outputs": []
    },
    {
      "cell_type": "code",
      "source": [
        "from anytree import Node\n",
        "# Initialize head node of the code.\n",
        "java_nodes0=[]\n",
        "java_nodes1=[]\n",
        "java_nodes2=[]\n",
        "java_nodes3=[]\n",
        "java_nodes4=[]\n",
        "java_nodes5=[]\n",
        "java_nodes6=[]\n",
        "java_nodes7=[]\n",
        "java_nodes8=[]\n",
        "java_nodes9=[]\n",
        "java_nodes=[java_nodes0,java_nodes1,java_nodes2,java_nodes3,java_nodes4,java_nodes5,java_nodes6,java_nodes7,java_nodes8,java_nodes9]\n",
        "for i in range(len(dataset)):\n",
        "    for j in range(len(dataset[i])):\n",
        "        head = Node([\"1\",dataset[i][j].__class__.__name__])\n",
        "        # Recursively construct AST tree.\n",
        "        nodes = []\n",
        "        #nodes.append((None,str(head.name[1])+str(head.name[0])))\n",
        "        for child_order in range(len(get_children(dataset[i][j]))):\n",
        "            get_trees(get_children(dataset[i][j])[child_order], head, \"1\"+str(int(child_order)+1))\n",
        "        java_nodes[i].append(nodes)"
      ],
      "metadata": {
        "id": "Su77uMi6_Xv_"
      },
      "execution_count": null,
      "outputs": []
    },
    {
      "cell_type": "code",
      "source": [
        "java_nodes0"
      ],
      "metadata": {
        "id": "-B29I_WDlAn9",
        "colab": {
          "base_uri": "https://localhost:8080/"
        },
        "outputId": "f29cfa74-7b8a-475f-cbcb-bfa441c6b0d2"
      },
      "execution_count": null,
      "outputs": [
        {
          "output_type": "execute_result",
          "data": {
            "text/plain": [
              "[[('1--CompilationUnit', '11--ClassDeclaration'),\n",
              "  ('11--ClassDeclaration', '1178148--on1'),\n",
              "  ('11--ClassDeclaration', '1196598--MethodDeclaration'),\n",
              "  ('1196598--MethodDeclaration', '119659822493--set'),\n",
              "  ('119659822493--set', '11965982249349992--static'),\n",
              "  ('1196598--MethodDeclaration', '119659856351--BasicType'),\n",
              "  ('119659856351--BasicType', '11965985635164251--int'),\n",
              "  ('1196598--MethodDeclaration', '119659893448--getFirstElement'),\n",
              "  ('1196598--MethodDeclaration', '119659887264--FormalParameter'),\n",
              "  ('119659887264--FormalParameter', '11965988726426093--BasicType'),\n",
              "  ('11965988726426093--BasicType', '1196598872642609310895--int'),\n",
              "  ('119659887264--FormalParameter', '11965988726417446--a'),\n",
              "  ('1196598--MethodDeclaration', '119659868123--FormalParameter'),\n",
              "  ('119659868123--FormalParameter', '11965986812364979--BasicType'),\n",
              "  ('11965986812364979--BasicType', '1196598681236497977764--int'),\n",
              "  ('119659868123--FormalParameter', '11965986812318634--N'),\n",
              "  ('1196598--MethodDeclaration', '119659874176--FormalParameter'),\n",
              "  ('119659874176--FormalParameter', '11965987417638237--BasicType'),\n",
              "  ('11965987417638237--BasicType', '1196598741763823741637--int'),\n",
              "  ('119659874176--FormalParameter', '11965987417695412--K'),\n",
              "  ('1196598--MethodDeclaration', '119659893287--FormalParameter'),\n",
              "  ('119659893287--FormalParameter', '11965989328740213--BasicType'),\n",
              "  ('11965989328740213--BasicType', '119659893287402138794--int'),\n",
              "  ('119659893287--FormalParameter', '11965989328728838--M'),\n",
              "  ('1196598--MethodDeclaration', '11965981326--StatementExpression'),\n",
              "  ('11965981326--StatementExpression', '1196598132644968--Assignment'),\n",
              "  ('1196598132644968--Assignment', '119659813264496879836--MemberReference'),\n",
              "  ('119659813264496879836--MemberReference', '11965981326449687983677515--K'),\n",
              "  ('1196598132644968--Assignment', '119659813264496819808--MemberReference'),\n",
              "  ('119659813264496819808--MemberReference', '11965981326449681980817640--N'),\n",
              "  ('1196598132644968--Assignment', '119659813264496840671--%='),\n",
              "  ('1196598--MethodDeclaration', '11965982633--LocalVariableDeclaration'),\n",
              "  ('11965982633--LocalVariableDeclaration', '1196598263386016--BasicType'),\n",
              "  ('1196598263386016--BasicType', '119659826338601659848--int'),\n",
              "  ('11965982633--LocalVariableDeclaration',\n",
              "   '1196598263389725--VariableDeclarator'),\n",
              "  ('1196598263389725--VariableDeclarator', '119659826338972588070--index'),\n",
              "  ('1196598--MethodDeclaration', '119659838417--IfStatement'),\n",
              "  ('119659838417--IfStatement', '11965983841742997--BinaryOperation'),\n",
              "  ('11965983841742997--BinaryOperation', '1196598384174299774353-->='),\n",
              "  ('11965983841742997--BinaryOperation',\n",
              "   '1196598384174299797207--MemberReference'),\n",
              "  ('1196598384174299797207--MemberReference',\n",
              "   '119659838417429979720763941--K'),\n",
              "  ('11965983841742997--BinaryOperation',\n",
              "   '1196598384174299736874--MemberReference'),\n",
              "  ('1196598384174299736874--MemberReference',\n",
              "   '119659838417429973687469564--M'),\n",
              "  ('119659838417--IfStatement', '1196598384172013--StatementExpression'),\n",
              "  ('1196598384172013--StatementExpression',\n",
              "   '11965983841720135345--Assignment'),\n",
              "  ('11965983841720135345--Assignment',\n",
              "   '1196598384172013534520472--MemberReference'),\n",
              "  ('1196598384172013534520472--MemberReference',\n",
              "   '119659838417201353452047223741--index'),\n",
              "  ('11965983841720135345--Assignment',\n",
              "   '119659838417201353453886--BinaryOperation'),\n",
              "  ('119659838417201353453886--BinaryOperation',\n",
              "   '11965983841720135345388673968--+'),\n",
              "  ('119659838417201353453886--BinaryOperation',\n",
              "   '11965983841720135345388678785--BinaryOperation'),\n",
              "  ('11965983841720135345388678785--BinaryOperation',\n",
              "   '119659838417201353453886787859655---'),\n",
              "  ('11965983841720135345388678785--BinaryOperation',\n",
              "   '1196598384172013534538867878555675--MemberReference'),\n",
              "  ('1196598384172013534538867878555675--MemberReference',\n",
              "   '119659838417201353453886787855567510226--N'),\n",
              "  ('11965983841720135345388678785--BinaryOperation',\n",
              "   '1196598384172013534538867878562558--MemberReference'),\n",
              "  ('1196598384172013534538867878562558--MemberReference',\n",
              "   '119659838417201353453886787856255884456--K'),\n",
              "  ('119659838417201353453886--BinaryOperation',\n",
              "   '11965983841720135345388648171--BinaryOperation'),\n",
              "  ('11965983841720135345388648171--BinaryOperation',\n",
              "   '119659838417201353453886481715256---'),\n",
              "  ('11965983841720135345388648171--BinaryOperation',\n",
              "   '1196598384172013534538864817171106--MemberReference'),\n",
              "  ('1196598384172013534538864817171106--MemberReference',\n",
              "   '119659838417201353453886481717110654222--M'),\n",
              "  ('11965983841720135345388648171--BinaryOperation',\n",
              "   '1196598384172013534538864817120692--Literal'),\n",
              "  ('1196598384172013534538864817120692--Literal',\n",
              "   '11965983841720135345388648171206923147--1'),\n",
              "  ('11965983841720135345--Assignment', '1196598384172013534593950--='),\n",
              "  ('119659838417--IfStatement', '11965983841754836--StatementExpression'),\n",
              "  ('11965983841754836--StatementExpression',\n",
              "   '1196598384175483657590--Assignment'),\n",
              "  ('1196598384175483657590--Assignment',\n",
              "   '119659838417548365759090100--MemberReference'),\n",
              "  ('119659838417548365759090100--MemberReference',\n",
              "   '11965983841754836575909010083469--index'),\n",
              "  ('1196598384175483657590--Assignment',\n",
              "   '119659838417548365759061067--BinaryOperation'),\n",
              "  ('119659838417548365759061067--BinaryOperation',\n",
              "   '11965983841754836575906106735105---'),\n",
              "  ('119659838417548365759061067--BinaryOperation',\n",
              "   '11965983841754836575906106721591--BinaryOperation'),\n",
              "  ('11965983841754836575906106721591--BinaryOperation',\n",
              "   '1196598384175483657590610672159184076---'),\n",
              "  ('11965983841754836575906106721591--BinaryOperation',\n",
              "   '1196598384175483657590610672159114751--MemberReference'),\n",
              "  ('1196598384175483657590610672159114751--MemberReference',\n",
              "   '119659838417548365759061067215911475166309--M'),\n",
              "  ('11965983841754836575906106721591--BinaryOperation',\n",
              "   '1196598384175483657590610672159146238--MemberReference'),\n",
              "  ('1196598384175483657590610672159146238--MemberReference',\n",
              "   '119659838417548365759061067215914623887451--K'),\n",
              "  ('119659838417548365759061067--BinaryOperation',\n",
              "   '11965983841754836575906106751154--Literal'),\n",
              "  ('11965983841754836575906106751154--Literal',\n",
              "   '1196598384175483657590610675115441999--1'),\n",
              "  ('1196598384175483657590--Assignment', '119659838417548365759097815--='),\n",
              "  ('1196598--MethodDeclaration', '119659854311--LocalVariableDeclaration'),\n",
              "  ('119659854311--LocalVariableDeclaration', '11965985431194837--BasicType'),\n",
              "  ('11965985431194837--BasicType', '1196598543119483770136--int'),\n",
              "  ('119659854311--LocalVariableDeclaration',\n",
              "   '11965985431127549--VariableDeclarator'),\n",
              "  ('11965985431127549--VariableDeclarator', '1196598543112754951682--result'),\n",
              "  ('11965985431127549--VariableDeclarator',\n",
              "   '1196598543112754918815--MemberReference'),\n",
              "  ('1196598543112754918815--MemberReference',\n",
              "   '119659854311275491881597451--ArraySelector'),\n",
              "  ('119659854311275491881597451--ArraySelector',\n",
              "   '11965985431127549188159745191469--MemberReference'),\n",
              "  ('11965985431127549188159745191469--MemberReference',\n",
              "   '119659854311275491881597451914695788--index'),\n",
              "  ('1196598543112754918815--MemberReference',\n",
              "   '119659854311275491881534172--a'),\n",
              "  ('1196598--MethodDeclaration', '1196598715--ReturnStatement'),\n",
              "  ('1196598715--ReturnStatement', '119659871565179--MemberReference'),\n",
              "  ('119659871565179--MemberReference', '11965987156517935655--result'),\n",
              "  ('11--ClassDeclaration', '116249--MethodDeclaration'),\n",
              "  ('116249--MethodDeclaration', '11624966238--set'),\n",
              "  ('11624966238--set', '1162496623891863--public'),\n",
              "  ('11624966238--set', '1162496623888738--static'),\n",
              "  ('116249--MethodDeclaration', '11624992454--main'),\n",
              "  ('116249--MethodDeclaration', '11624999076--FormalParameter'),\n",
              "  ('11624999076--FormalParameter', '1162499907623503--ReferenceType'),\n",
              "  ('1162499907623503--ReferenceType', '116249990762350353450--String'),\n",
              "  ('11624999076--FormalParameter', '1162499907697169--args'),\n",
              "  ('116249--MethodDeclaration', '11624976896--LocalVariableDeclaration'),\n",
              "  ('11624976896--LocalVariableDeclaration', '1162497689647894--BasicType'),\n",
              "  ('1162497689647894--BasicType', '116249768964789450257--int'),\n",
              "  ('11624976896--LocalVariableDeclaration',\n",
              "   '1162497689642446--VariableDeclarator'),\n",
              "  ('1162497689642446--VariableDeclarator', '116249768964244668446--a'),\n",
              "  ('1162497689642446--VariableDeclarator',\n",
              "   '11624976896424468671--ArrayInitializer'),\n",
              "  ('11624976896424468671--ArrayInitializer',\n",
              "   '1162497689642446867179175--Literal'),\n",
              "  ('1162497689642446867179175--Literal', '116249768964244686717917585376--1'),\n",
              "  ('11624976896424468671--ArrayInitializer',\n",
              "   '1162497689642446867149817--Literal'),\n",
              "  ('1162497689642446867149817--Literal', '11624976896424468671498177629--2'),\n",
              "  ('11624976896424468671--ArrayInitializer',\n",
              "   '1162497689642446867132706--Literal'),\n",
              "  ('1162497689642446867132706--Literal', '116249768964244686713270634743--3'),\n",
              "  ('11624976896424468671--ArrayInitializer',\n",
              "   '1162497689642446867125072--Literal'),\n",
              "  ('1162497689642446867125072--Literal', '116249768964244686712507255642--4'),\n",
              "  ('11624976896424468671--ArrayInitializer',\n",
              "   '116249768964244686717994--Literal'),\n",
              "  ('116249768964244686717994--Literal', '1162497689642446867179943408--5'),\n",
              "  ('116249--MethodDeclaration', '11624974302--LocalVariableDeclaration'),\n",
              "  ('11624974302--LocalVariableDeclaration', '1162497430278336--BasicType'),\n",
              "  ('1162497430278336--BasicType', '116249743027833642785--int'),\n",
              "  ('11624974302--LocalVariableDeclaration',\n",
              "   '116249743028447--VariableDeclarator'),\n",
              "  ('116249743028447--VariableDeclarator', '11624974302844731796--N'),\n",
              "  ('116249743028447--VariableDeclarator', '11624974302844776835--Literal'),\n",
              "  ('11624974302844776835--Literal', '1162497430284477683543008--5'),\n",
              "  ('116249--MethodDeclaration', '11624942591--LocalVariableDeclaration'),\n",
              "  ('11624942591--LocalVariableDeclaration', '1162494259181548--BasicType'),\n",
              "  ('1162494259181548--BasicType', '116249425918154876361--int'),\n",
              "  ('11624942591--LocalVariableDeclaration',\n",
              "   '1162494259120691--VariableDeclarator'),\n",
              "  ('1162494259120691--VariableDeclarator', '11624942591206914181--K'),\n",
              "  ('1162494259120691--VariableDeclarator', '116249425912069188916--Literal'),\n",
              "  ('116249425912069188916--Literal', '11624942591206918891644519--3'),\n",
              "  ('11624942591--LocalVariableDeclaration',\n",
              "   '1162494259162739--VariableDeclarator'),\n",
              "  ('1162494259162739--VariableDeclarator', '116249425916273972671--M'),\n",
              "  ('1162494259162739--VariableDeclarator', '116249425916273924450--Literal'),\n",
              "  ('116249425916273924450--Literal', '11624942591627392445073773--2'),\n",
              "  ('116249--MethodDeclaration', '11624978806--StatementExpression'),\n",
              "  ('11624978806--StatementExpression', '1162497880624748--MethodInvocation'),\n",
              "  ('1162497880624748--MethodInvocation', '116249788062474856571--System.out'),\n",
              "  ('1162497880624748--MethodInvocation',\n",
              "   '116249788062474898738--MethodInvocation'),\n",
              "  ('116249788062474898738--MethodInvocation',\n",
              "   '11624978806247489873841509--MemberReference'),\n",
              "  ('11624978806247489873841509--MemberReference',\n",
              "   '1162497880624748987384150978373--a'),\n",
              "  ('116249788062474898738--MethodInvocation',\n",
              "   '11624978806247489873899558--MemberReference'),\n",
              "  ('11624978806247489873899558--MemberReference',\n",
              "   '1162497880624748987389955839012--N'),\n",
              "  ('116249788062474898738--MethodInvocation',\n",
              "   '11624978806247489873882673--MemberReference'),\n",
              "  ('11624978806247489873882673--MemberReference',\n",
              "   '1162497880624748987388267341892--K'),\n",
              "  ('116249788062474898738--MethodInvocation',\n",
              "   '11624978806247489873815227--MemberReference'),\n",
              "  ('11624978806247489873815227--MemberReference',\n",
              "   '1162497880624748987381522735252--M'),\n",
              "  ('116249788062474898738--MethodInvocation',\n",
              "   '11624978806247489873847033--getFirstElement'),\n",
              "  ('1162497880624748--MethodInvocation', '116249788062474886551--println')],\n",
              " [('1--CompilationUnit', '11--Import'),\n",
              "  ('11--Import', '1132721--java.util'),\n",
              "  ('11--Import', '1166501--bool'),\n",
              "  ('1--CompilationUnit', '12--ClassDeclaration'),\n",
              "  ('12--ClassDeclaration', '12510--on2'),\n",
              "  ('12--ClassDeclaration', '1286026--MethodDeclaration'),\n",
              "  ('1286026--MethodDeclaration', '128602661586--set'),\n",
              "  ('128602661586--set', '12860266158626681--public'),\n",
              "  ('128602661586--set', '12860266158670067--static'),\n",
              "  ('1286026--MethodDeclaration', '128602675365--BasicType'),\n",
              "  ('128602675365--BasicType', '12860267536596305--int'),\n",
              "  ('1286026--MethodDeclaration', '128602680343--getFirstElement'),\n",
              "  ('1286026--MethodDeclaration', '128602681755--FormalParameter'),\n",
              "  ('128602681755--FormalParameter', '12860268175533128--BasicType'),\n",
              "  ('12860268175533128--BasicType', '128602681755331288720--int'),\n",
              "  ('128602681755--FormalParameter', '12860268175570299--a'),\n",
              "  ('1286026--MethodDeclaration', '12860262680--FormalParameter'),\n",
              "  ('12860262680--FormalParameter', '1286026268033951--BasicType'),\n",
              "  ('1286026268033951--BasicType', '128602626803395156787--int'),\n",
              "  ('12860262680--FormalParameter', '128602626809367--N'),\n",
              "  ('1286026--MethodDeclaration', '128602610288--FormalParameter'),\n",
              "  ('128602610288--FormalParameter', '12860261028856719--BasicType'),\n",
              "  ('12860261028856719--BasicType', '1286026102885671960813--int'),\n",
              "  ('128602610288--FormalParameter', '12860261028896995--K'),\n",
              "  ('1286026--MethodDeclaration', '128602669572--FormalParameter'),\n",
              "  ('128602669572--FormalParameter', '1286026695726580--BasicType'),\n",
              "  ('1286026695726580--BasicType', '128602669572658038348--int'),\n",
              "  ('128602669572--FormalParameter', '12860266957235335--M'),\n",
              "  ('1286026--MethodDeclaration', '128602642805--StatementExpression'),\n",
              "  ('128602642805--StatementExpression', '12860264280523542--Assignment'),\n",
              "  ('12860264280523542--Assignment', '1286026428052354224595--MemberReference'),\n",
              "  ('1286026428052354224595--MemberReference',\n",
              "   '128602642805235422459590362--K'),\n",
              "  ('12860264280523542--Assignment', '1286026428052354244213--MemberReference'),\n",
              "  ('1286026428052354244213--MemberReference',\n",
              "   '128602642805235424421389881--N'),\n",
              "  ('12860264280523542--Assignment', '1286026428052354279106--%='),\n",
              "  ('1286026--MethodDeclaration', '128602615392--LocalVariableDeclaration'),\n",
              "  ('128602615392--LocalVariableDeclaration', '12860261539261108--BasicType'),\n",
              "  ('12860261539261108--BasicType', '1286026153926110811704--int'),\n",
              "  ('128602615392--LocalVariableDeclaration',\n",
              "   '12860261539250407--VariableDeclarator'),\n",
              "  ('12860261539250407--VariableDeclarator', '1286026153925040755158--index'),\n",
              "  ('12860261539250407--VariableDeclarator',\n",
              "   '1286026153925040717034--BinaryOperation'),\n",
              "  ('1286026153925040717034--BinaryOperation',\n",
              "   '128602615392504071703410114--%'),\n",
              "  ('1286026153925040717034--BinaryOperation',\n",
              "   '128602615392504071703467701--BinaryOperation'),\n",
              "  ('128602615392504071703467701--BinaryOperation',\n",
              "   '12860261539250407170346770167841---'),\n",
              "  ('128602615392504071703467701--BinaryOperation',\n",
              "   '12860261539250407170346770168789--BinaryOperation'),\n",
              "  ('12860261539250407170346770168789--BinaryOperation',\n",
              "   '1286026153925040717034677016878971590--+'),\n",
              "  ('12860261539250407170346770168789--BinaryOperation',\n",
              "   '1286026153925040717034677016878933827--MemberReference'),\n",
              "  ('1286026153925040717034677016878933827--MemberReference',\n",
              "   '12860261539250407170346770168789338278084--K'),\n",
              "  ('12860261539250407170346770168789--BinaryOperation',\n",
              "   '1286026153925040717034677016878914676--MemberReference'),\n",
              "  ('1286026153925040717034677016878914676--MemberReference',\n",
              "   '128602615392504071703467701687891467670947--M'),\n",
              "  ('128602615392504071703467701--BinaryOperation',\n",
              "   '12860261539250407170346770175449--Literal'),\n",
              "  ('12860261539250407170346770175449--Literal',\n",
              "   '1286026153925040717034677017544984471--1'),\n",
              "  ('1286026153925040717034--BinaryOperation',\n",
              "   '128602615392504071703497582--MemberReference'),\n",
              "  ('128602615392504071703497582--MemberReference',\n",
              "   '12860261539250407170349758238978--N'),\n",
              "  ('1286026--MethodDeclaration', '128602616351--LocalVariableDeclaration'),\n",
              "  ('128602616351--LocalVariableDeclaration', '12860261635192915--BasicType'),\n",
              "  ('12860261635192915--BasicType', '1286026163519291580917--int'),\n",
              "  ('128602616351--LocalVariableDeclaration',\n",
              "   '12860261635155909--VariableDeclarator'),\n",
              "  ('12860261635155909--VariableDeclarator', '128602616351559092263--result'),\n",
              "  ('12860261635155909--VariableDeclarator',\n",
              "   '1286026163515590950902--MemberReference'),\n",
              "  ('1286026163515590950902--MemberReference',\n",
              "   '12860261635155909509021441--ArraySelector'),\n",
              "  ('12860261635155909509021441--ArraySelector',\n",
              "   '1286026163515590950902144182900--MemberReference'),\n",
              "  ('1286026163515590950902144182900--MemberReference',\n",
              "   '128602616351559095090214418290073750--index'),\n",
              "  ('1286026163515590950902--MemberReference',\n",
              "   '128602616351559095090219701--a'),\n",
              "  ('1286026--MethodDeclaration', '128602634734--ReturnStatement'),\n",
              "  ('128602634734--ReturnStatement', '12860263473441660--MemberReference'),\n",
              "  ('12860263473441660--MemberReference', '1286026347344166052172--result'),\n",
              "  ('12--ClassDeclaration', '1294123--MethodDeclaration'),\n",
              "  ('1294123--MethodDeclaration', '129412316732--set'),\n",
              "  ('129412316732--set', '12941231673265010--public'),\n",
              "  ('129412316732--set', '12941231673295084--static'),\n",
              "  ('1294123--MethodDeclaration', '129412368136--main'),\n",
              "  ('1294123--MethodDeclaration', '12941239753--FormalParameter'),\n",
              "  ('12941239753--FormalParameter', '1294123975342954--ReferenceType'),\n",
              "  ('1294123975342954--ReferenceType', '129412397534295470194--String'),\n",
              "  ('12941239753--FormalParameter', '1294123975393239--args'),\n",
              "  ('1294123--MethodDeclaration', '129412321796--LocalVariableDeclaration'),\n",
              "  ('129412321796--LocalVariableDeclaration', '12941232179671031--BasicType'),\n",
              "  ('12941232179671031--BasicType', '1294123217967103182968--int'),\n",
              "  ('129412321796--LocalVariableDeclaration',\n",
              "   '12941232179673837--VariableDeclarator'),\n",
              "  ('12941232179673837--VariableDeclarator', '1294123217967383765642--a'),\n",
              "  ('12941232179673837--VariableDeclarator',\n",
              "   '12941232179673837200--ArrayInitializer'),\n",
              "  ('12941232179673837200--ArrayInitializer',\n",
              "   '1294123217967383720029698--Literal'),\n",
              "  ('1294123217967383720029698--Literal', '129412321796738372002969851780--3'),\n",
              "  ('12941232179673837200--ArrayInitializer',\n",
              "   '129412321796738372007403--Literal'),\n",
              "  ('129412321796738372007403--Literal', '12941232179673837200740314333--4'),\n",
              "  ('12941232179673837200--ArrayInitializer',\n",
              "   '1294123217967383720070472--Literal'),\n",
              "  ('1294123217967383720070472--Literal', '129412321796738372007047272994--5'),\n",
              "  ('12941232179673837200--ArrayInitializer',\n",
              "   '1294123217967383720051474--Literal'),\n",
              "  ('1294123217967383720051474--Literal', '129412321796738372005147485018--23'),\n",
              "  ('1294123--MethodDeclaration', '129412319004--LocalVariableDeclaration'),\n",
              "  ('129412319004--LocalVariableDeclaration', '12941231900421645--BasicType'),\n",
              "  ('12941231900421645--BasicType', '1294123190042164597549--int'),\n",
              "  ('129412319004--LocalVariableDeclaration',\n",
              "   '12941231900432612--VariableDeclarator'),\n",
              "  ('12941231900432612--VariableDeclarator', '1294123190043261271046--N'),\n",
              "  ('12941231900432612--VariableDeclarator',\n",
              "   '1294123190043261286066--MemberReference'),\n",
              "  ('1294123190043261286066--MemberReference',\n",
              "   '129412319004326128606617423--a'),\n",
              "  ('1294123190043261286066--MemberReference',\n",
              "   '129412319004326128606690960--length'),\n",
              "  ('1294123--MethodDeclaration', '129412325318--LocalVariableDeclaration'),\n",
              "  ('129412325318--LocalVariableDeclaration', '12941232531834328--BasicType'),\n",
              "  ('12941232531834328--BasicType', '1294123253183432884265--int'),\n",
              "  ('129412325318--LocalVariableDeclaration',\n",
              "   '12941232531847544--VariableDeclarator'),\n",
              "  ('12941232531847544--VariableDeclarator', '1294123253184754498217--K'),\n",
              "  ('12941232531847544--VariableDeclarator', '1294123253184754478256--Literal'),\n",
              "  ('1294123253184754478256--Literal', '129412325318475447825610572--2'),\n",
              "  ('129412325318--LocalVariableDeclaration',\n",
              "   '12941232531840258--VariableDeclarator'),\n",
              "  ('12941232531840258--VariableDeclarator', '1294123253184025859323--M'),\n",
              "  ('12941232531840258--VariableDeclarator', '1294123253184025821845--Literal'),\n",
              "  ('1294123253184025821845--Literal', '129412325318402582184517288--1'),\n",
              "  ('1294123--MethodDeclaration', '129412371603--StatementExpression'),\n",
              "  ('129412371603--StatementExpression', '12941237160317154--MethodInvocation'),\n",
              "  ('12941237160317154--MethodInvocation',\n",
              "   '1294123716031715419733--System.out'),\n",
              "  ('12941237160317154--MethodInvocation',\n",
              "   '1294123716031715473571--MethodInvocation'),\n",
              "  ('1294123716031715473571--MethodInvocation',\n",
              "   '129412371603171547357143838--MemberReference'),\n",
              "  ('129412371603171547357143838--MemberReference',\n",
              "   '12941237160317154735714383868856--a'),\n",
              "  ('1294123716031715473571--MethodInvocation',\n",
              "   '129412371603171547357144399--MemberReference'),\n",
              "  ('129412371603171547357144399--MemberReference',\n",
              "   '12941237160317154735714439922482--N'),\n",
              "  ('1294123716031715473571--MethodInvocation',\n",
              "   '129412371603171547357173469--MemberReference'),\n",
              "  ('129412371603171547357173469--MemberReference',\n",
              "   '12941237160317154735717346953620--K'),\n",
              "  ('1294123716031715473571--MethodInvocation',\n",
              "   '129412371603171547357192714--MemberReference'),\n",
              "  ('129412371603171547357192714--MemberReference',\n",
              "   '12941237160317154735719271412748--M'),\n",
              "  ('1294123716031715473571--MethodInvocation',\n",
              "   '129412371603171547357152154--getFirstElement'),\n",
              "  ('12941237160317154--MethodInvocation', '1294123716031715477494--println')]]"
            ]
          },
          "metadata": {},
          "execution_count": 43
        }
      ]
    },
    {
      "cell_type": "code",
      "source": [
        "def rem_newline(item):\n",
        "    item = item.replace('\\n',\"\\\\n\")\n",
        "    item = item.replace('\\t',\"\\\\t\")\n",
        "    return item"
      ],
      "metadata": {
        "id": "7odjRxOvqAiu"
      },
      "execution_count": null,
      "outputs": []
    },
    {
      "cell_type": "code",
      "source": [
        "for i in range(len(java_nodes)):\n",
        "    for j in range(len(java_nodes[i])):\n",
        "        completeName = '/content/gdrive/My Drive/Capstone_Dataset-main/Java_Nodes/'+ dir[i]+'/'+'nodes'+str(j)+ \".txt\"\n",
        "        fp = open(completeName , \"w\")\n",
        "        for item in java_nodes[i][j]:\n",
        "            # write each item on a new line\n",
        "            item0=rem_newline(item[0])\n",
        "            item1=rem_newline(item[1])\n",
        "            #print(item0,item1)\n",
        "            fp.write(str(item0)+\",\"+str(item1)+\"\\n\")\n",
        "        fp.close()"
      ],
      "metadata": {
        "id": "JC8UXBTIvIYu"
      },
      "execution_count": null,
      "outputs": []
    },
    {
      "cell_type": "code",
      "source": [],
      "metadata": {
        "id": "1rbjngMQncNk"
      },
      "execution_count": null,
      "outputs": []
    }
  ]
}