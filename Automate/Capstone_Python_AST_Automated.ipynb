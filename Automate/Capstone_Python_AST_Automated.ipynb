{
  "nbformat": 4,
  "nbformat_minor": 0,
  "metadata": {
    "colab": {
      "provenance": [],
      "collapsed_sections": []
    },
    "kernelspec": {
      "name": "python3",
      "display_name": "Python 3"
    },
    "language_info": {
      "name": "python"
    }
  },
  "cells": [
    {
      "cell_type": "markdown",
      "source": [
        "##Installing the required packages"
      ],
      "metadata": {
        "id": "9PmX-5h6GLtF"
      }
    },
    {
      "cell_type": "code",
      "source": [
        "!pip install anytree"
      ],
      "metadata": {
        "colab": {
          "base_uri": "https://localhost:8080/"
        },
        "id": "gM8h3YyDdNp4",
        "outputId": "0705a9ac-585b-440e-9a0e-6fd312a5d989"
      },
      "execution_count": null,
      "outputs": [
        {
          "output_type": "stream",
          "name": "stdout",
          "text": [
            "Looking in indexes: https://pypi.org/simple, https://us-python.pkg.dev/colab-wheels/public/simple/\n",
            "Requirement already satisfied: anytree in /usr/local/lib/python3.7/dist-packages (2.8.0)\n",
            "Requirement already satisfied: six>=1.9.0 in /usr/local/lib/python3.7/dist-packages (from anytree) (1.15.0)\n"
          ]
        }
      ]
    },
    {
      "cell_type": "code",
      "source": [
        "!pip install astpretty"
      ],
      "metadata": {
        "colab": {
          "base_uri": "https://localhost:8080/"
        },
        "id": "nrM67EaBSbP-",
        "outputId": "59d07f6c-f02c-4aaa-c6f6-372b5428a73a"
      },
      "execution_count": null,
      "outputs": [
        {
          "output_type": "stream",
          "name": "stdout",
          "text": [
            "Looking in indexes: https://pypi.org/simple, https://us-python.pkg.dev/colab-wheels/public/simple/\n",
            "Requirement already satisfied: astpretty in /usr/local/lib/python3.7/dist-packages (2.1.0)\n"
          ]
        }
      ]
    },
    {
      "cell_type": "code",
      "execution_count": null,
      "metadata": {
        "id": "QYpZz9b6zt1O"
      },
      "outputs": [],
      "source": [
        "import astpretty\n",
        "import ast \n",
        "import re\n",
        "import random\n",
        "import anytree\n",
        "from anytree import Node\n",
        " #to print the ast in a more readable format #to print the ast in a more readable format"
      ]
    },
    {
      "cell_type": "code",
      "source": [
        "import os\n",
        "from google.colab import drive\n",
        "drive.mount(\"/content/gdrive\")"
      ],
      "metadata": {
        "colab": {
          "base_uri": "https://localhost:8080/"
        },
        "id": "JQLk4L134gex",
        "outputId": "92eebf2c-1134-4bf0-b066-22fc1b6f60b5"
      },
      "execution_count": null,
      "outputs": [
        {
          "output_type": "stream",
          "name": "stdout",
          "text": [
            "Drive already mounted at /content/gdrive; to attempt to forcibly remount, call drive.mount(\"/content/gdrive\", force_remount=True).\n"
          ]
        }
      ]
    },
    {
      "cell_type": "code",
      "source": [
        "data ='/content/gdrive/My Drive/Capstone_Dataset-main'\n",
        "dcat=['/Python/']\n",
        "dir=['O(1)', 'O(logN)', 'O(N!)', 'O(N)','O(N2)','O(N3)','O(Nd)','O(NlogN)','O(sqrt(N))','O(2n)']"
      ],
      "metadata": {
        "id": "rX7u2cHA4nXm"
      },
      "execution_count": null,
      "outputs": []
    },
    {
      "cell_type": "code",
      "source": [
        "def get_ast(filename):\n",
        "  with open(filename) as f:\n",
        "    code = f.read()\n",
        "  #print(code)\n",
        "  text = re.sub('\"\"\"[\\w\\W]*?\"\"\"', '', code , flags=re.S)\n",
        "  out = re.sub(\"'''[\\w\\W]*?'''\", '', text, flags=re.S)\n",
        "  #print(out)\n",
        "  ast_py = ast.parse(out)\n",
        "  return ast_py"
      ],
      "metadata": {
        "id": "ETNHNzNr6iT2"
      },
      "execution_count": null,
      "outputs": []
    },
    {
      "cell_type": "code",
      "source": [
        "def create_dataset(directory,dataset):\n",
        "    for j in os.listdir(directory):\n",
        "        try:\n",
        "            filename = os.path.join(directory,j)\n",
        "            ast_py = get_ast(filename)\n",
        "            dataset.append(ast_py)\n",
        "        except Exception as e:\n",
        "            pass"
      ],
      "metadata": {
        "id": "GIS6YFOs7ZN3"
      },
      "execution_count": null,
      "outputs": []
    },
    {
      "cell_type": "code",
      "source": [
        "dataset0=[]\n",
        "dataset1=[]\n",
        "dataset2=[]\n",
        "dataset3=[]\n",
        "dataset4=[]\n",
        "dataset5=[]\n",
        "dataset6=[]\n",
        "dataset7=[]\n",
        "dataset8=[]\n",
        "dataset9=[]\n",
        "dataset=[dataset0,dataset1,dataset2,dataset3,dataset4,dataset5,dataset6,dataset7,dataset8,dataset9]\n",
        "for i in range(len(dataset)):\n",
        "    create_dataset(data+dcat[0]+dir[i],dataset[i])\n",
        "\n"
      ],
      "metadata": {
        "id": "LoRO7gnc7vzf"
      },
      "execution_count": null,
      "outputs": []
    },
    {
      "cell_type": "code",
      "source": [
        "dataset1"
      ],
      "metadata": {
        "colab": {
          "base_uri": "https://localhost:8080/"
        },
        "id": "g4YE7FW48y7c",
        "outputId": "d0c46878-d3c5-4ff8-f07f-f357de1f7512"
      },
      "execution_count": null,
      "outputs": [
        {
          "output_type": "execute_result",
          "data": {
            "text/plain": [
              "[<_ast.Module at 0x7fc856f90950>,\n",
              " <_ast.Module at 0x7fc8558d5d10>,\n",
              " <_ast.Module at 0x7fc8558dc510>,\n",
              " <_ast.Module at 0x7fc856f51950>,\n",
              " <_ast.Module at 0x7fc856f2c1d0>,\n",
              " <_ast.Module at 0x7fc855a67150>,\n",
              " <_ast.Module at 0x7fc85598b0d0>,\n",
              " <_ast.Module at 0x7fc855a04d10>,\n",
              " <_ast.Module at 0x7fc8559c7b90>,\n",
              " <_ast.Module at 0x7fc8558e8490>,\n",
              " <_ast.Module at 0x7fc856f90a90>,\n",
              " <_ast.Module at 0x7fc8558f0990>,\n",
              " <_ast.Module at 0x7fc8558e3810>,\n",
              " <_ast.Module at 0x7fc8558ece10>]"
            ]
          },
          "metadata": {},
          "execution_count": 65
        }
      ]
    },
    {
      "cell_type": "code",
      "source": [
        "for i in dataset:\n",
        "    print(len(i))"
      ],
      "metadata": {
        "colab": {
          "base_uri": "https://localhost:8080/"
        },
        "id": "HWXpH69j95mq",
        "outputId": "9c09f713-a25a-4fae-a83b-6439627249c9"
      },
      "execution_count": null,
      "outputs": [
        {
          "output_type": "stream",
          "name": "stdout",
          "text": [
            "3\n",
            "14\n",
            "2\n",
            "149\n",
            "74\n",
            "10\n",
            "10\n",
            "42\n",
            "2\n",
            "2\n"
          ]
        }
      ]
    },
    {
      "cell_type": "code",
      "source": [
        "for i in dataset0[0].body:\n",
        "  print(\"-----------------\")\n",
        "  astpretty.pprint(i)"
      ],
      "metadata": {
        "colab": {
          "base_uri": "https://localhost:8080/"
        },
        "id": "Ds39b8649avA",
        "outputId": "500c41ed-b83b-4fb9-bc91-ea10d9f96a33"
      },
      "execution_count": null,
      "outputs": [
        {
          "output_type": "stream",
          "name": "stdout",
          "text": [
            "-----------------\n",
            "FunctionDef(\n",
            "    lineno=5,\n",
            "    col_offset=0,\n",
            "    name='getFirstElement',\n",
            "    args=arguments(\n",
            "        args=[\n",
            "            arg(lineno=5, col_offset=20, arg='a', annotation=None),\n",
            "            arg(lineno=5, col_offset=23, arg='N', annotation=None),\n",
            "            arg(lineno=5, col_offset=26, arg='K', annotation=None),\n",
            "            arg(lineno=5, col_offset=29, arg='M', annotation=None),\n",
            "        ],\n",
            "        vararg=None,\n",
            "        kwonlyargs=[],\n",
            "        kw_defaults=[],\n",
            "        kwarg=None,\n",
            "        defaults=[],\n",
            "    ),\n",
            "    body=[\n",
            "        AugAssign(\n",
            "            lineno=9,\n",
            "            col_offset=1,\n",
            "            target=Name(lineno=9, col_offset=1, id='K', ctx=Store()),\n",
            "            op=Mod(),\n",
            "            value=Name(lineno=9, col_offset=6, id='N', ctx=Load()),\n",
            "        ),\n",
            "        Assign(\n",
            "            lineno=14,\n",
            "            col_offset=1,\n",
            "            targets=[Name(lineno=14, col_offset=1, id='index', ctx=Store())],\n",
            "            value=BinOp(\n",
            "                lineno=14,\n",
            "                col_offset=9,\n",
            "                left=BinOp(\n",
            "                    lineno=14,\n",
            "                    col_offset=16,\n",
            "                    left=BinOp(\n",
            "                        lineno=14,\n",
            "                        col_offset=10,\n",
            "                        left=Name(lineno=14, col_offset=10, id='K', ctx=Load()),\n",
            "                        op=Add(),\n",
            "                        right=Name(lineno=14, col_offset=14, id='M', ctx=Load()),\n",
            "                    ),\n",
            "                    op=Sub(),\n",
            "                    right=Num(lineno=14, col_offset=18, n=1),\n",
            "                ),\n",
            "                op=Mod(),\n",
            "                right=Name(lineno=14, col_offset=23, id='N', ctx=Load()),\n",
            "            ),\n",
            "        ),\n",
            "        Assign(\n",
            "            lineno=16,\n",
            "            col_offset=1,\n",
            "            targets=[Name(lineno=16, col_offset=1, id='result', ctx=Store())],\n",
            "            value=Subscript(\n",
            "                lineno=16,\n",
            "                col_offset=10,\n",
            "                value=Name(lineno=16, col_offset=10, id='a', ctx=Load()),\n",
            "                slice=Index(\n",
            "                    value=Name(lineno=16, col_offset=12, id='index', ctx=Load()),\n",
            "                ),\n",
            "                ctx=Load(),\n",
            "            ),\n",
            "        ),\n",
            "        Return(\n",
            "            lineno=19,\n",
            "            col_offset=1,\n",
            "            value=Name(lineno=19, col_offset=8, id='result', ctx=Load()),\n",
            "        ),\n",
            "    ],\n",
            "    decorator_list=[],\n",
            "    returns=None,\n",
            ")\n",
            "-----------------\n",
            "If(\n",
            "    lineno=22,\n",
            "    col_offset=0,\n",
            "    test=Compare(\n",
            "        lineno=22,\n",
            "        col_offset=3,\n",
            "        left=Name(lineno=22, col_offset=3, id='__name__', ctx=Load()),\n",
            "        ops=[Eq()],\n",
            "        comparators=[Str(lineno=22, col_offset=15, s='__main__')],\n",
            "    ),\n",
            "    body=[\n",
            "        Assign(\n",
            "            lineno=25,\n",
            "            col_offset=1,\n",
            "            targets=[Name(lineno=25, col_offset=1, id='a', ctx=Store())],\n",
            "            value=List(\n",
            "                lineno=25,\n",
            "                col_offset=5,\n",
            "                elts=[\n",
            "                    Num(lineno=25, col_offset=7, n=3),\n",
            "                    Num(lineno=25, col_offset=10, n=4),\n",
            "                    Num(lineno=25, col_offset=13, n=5),\n",
            "                    Num(lineno=25, col_offset=16, n=23),\n",
            "                ],\n",
            "                ctx=Load(),\n",
            "            ),\n",
            "        ),\n",
            "        Assign(\n",
            "            lineno=28,\n",
            "            col_offset=1,\n",
            "            targets=[Name(lineno=28, col_offset=1, id='N', ctx=Store())],\n",
            "            value=Call(\n",
            "                lineno=28,\n",
            "                col_offset=5,\n",
            "                func=Name(lineno=28, col_offset=5, id='len', ctx=Load()),\n",
            "                args=[Name(lineno=28, col_offset=9, id='a', ctx=Load())],\n",
            "                keywords=[],\n",
            "            ),\n",
            "        ),\n",
            "        Assign(\n",
            "            lineno=32,\n",
            "            col_offset=1,\n",
            "            targets=[Name(lineno=32, col_offset=1, id='K', ctx=Store())],\n",
            "            value=Num(lineno=32, col_offset=5, n=2),\n",
            "        ),\n",
            "        Assign(\n",
            "            lineno=33,\n",
            "            col_offset=1,\n",
            "            targets=[Name(lineno=33, col_offset=1, id='M', ctx=Store())],\n",
            "            value=Num(lineno=33, col_offset=5, n=1),\n",
            "        ),\n",
            "        Expr(\n",
            "            lineno=36,\n",
            "            col_offset=1,\n",
            "            value=Call(\n",
            "                lineno=36,\n",
            "                col_offset=1,\n",
            "                func=Name(lineno=36, col_offset=1, id='print', ctx=Load()),\n",
            "                args=[\n",
            "                    Call(\n",
            "                        lineno=36,\n",
            "                        col_offset=7,\n",
            "                        func=Name(lineno=36, col_offset=7, id='getFirstElement', ctx=Load()),\n",
            "                        args=[\n",
            "                            Name(lineno=36, col_offset=23, id='a', ctx=Load()),\n",
            "                            Name(lineno=36, col_offset=26, id='N', ctx=Load()),\n",
            "                            Name(lineno=36, col_offset=29, id='K', ctx=Load()),\n",
            "                            Name(lineno=36, col_offset=32, id='M', ctx=Load()),\n",
            "                        ],\n",
            "                        keywords=[],\n",
            "                    ),\n",
            "                ],\n",
            "                keywords=[],\n",
            "            ),\n",
            "        ),\n",
            "    ],\n",
            "    orelse=[],\n",
            ")\n"
          ]
        }
      ]
    },
    {
      "cell_type": "markdown",
      "source": [
        "##Generating AST and visualizing it\n"
      ],
      "metadata": {
        "id": "hCt6CrkvGX1d"
      }
    },
    {
      "cell_type": "code",
      "source": [
        "#print(type(ast_py))"
      ],
      "metadata": {
        "id": "mj23Jv0RNWB-"
      },
      "execution_count": null,
      "outputs": []
    },
    {
      "cell_type": "code",
      "source": [
        "#print(ast.dump(ast_py))"
      ],
      "metadata": {
        "id": "ngei0CMRNXz7"
      },
      "execution_count": null,
      "outputs": []
    },
    {
      "cell_type": "code",
      "source": [
        "'''\n",
        "children = list(ast.iter_child_nodes(ast_py))\n",
        "print(ast_py.__class__.__name__)\n",
        "print(type(ast_py))\n",
        "for i in children:\n",
        "  print(\"-------------------\")\n",
        "  print(i.__class__.__name__)\n",
        "  sub_child=list(ast.iter_child_nodes(i))\n",
        "  print(sub_child)\n",
        "  \n",
        "  print(type(i))\n",
        "  print(i._fields)\n",
        "\n",
        "'''"
      ],
      "metadata": {
        "colab": {
          "base_uri": "https://localhost:8080/",
          "height": 53
        },
        "id": "8VWNolQopqLq",
        "outputId": "857da12a-6f81-4178-bb41-d2e754ed5f69"
      },
      "execution_count": null,
      "outputs": [
        {
          "output_type": "execute_result",
          "data": {
            "text/plain": [
              "'\\nchildren = list(ast.iter_child_nodes(ast_py))\\nprint(ast_py.__class__.__name__)\\nprint(type(ast_py))\\nfor i in children:\\n  print(\"-------------------\")\\n  print(i.__class__.__name__)\\n  sub_child=list(ast.iter_child_nodes(i))\\n  print(sub_child)\\n  \\n  print(type(i))\\n  print(i._fields)\\n\\n'"
            ],
            "application/vnd.google.colaboratory.intrinsic+json": {
              "type": "string"
            }
          },
          "metadata": {},
          "execution_count": 70
        }
      ]
    },
    {
      "cell_type": "code",
      "source": [
        "'''\n",
        "print(children)\n",
        "'''"
      ],
      "metadata": {
        "colab": {
          "base_uri": "https://localhost:8080/",
          "height": 36
        },
        "id": "WpsA0iSkwvO3",
        "outputId": "b8f0a874-6345-48db-d32c-55d6e252ac7b"
      },
      "execution_count": null,
      "outputs": [
        {
          "output_type": "execute_result",
          "data": {
            "text/plain": [
              "'\\nprint(children)\\n'"
            ],
            "application/vnd.google.colaboratory.intrinsic+json": {
              "type": "string"
            }
          },
          "metadata": {},
          "execution_count": 71
        }
      ]
    },
    {
      "cell_type": "code",
      "source": [
        "\"\"\"\n",
        "#validating the number of nodes from inbuilt generic visit and custom function\n",
        "count=0\n",
        "class Visitor(ast.NodeVisitor):\n",
        "  def __init__(self,count,addr):\n",
        "    self.count=0\n",
        "    self.addr = dict()\n",
        "  '''\n",
        "  def address(self,node:ast.AST):\n",
        "    if(isinstance(node,ast.Name)):\n",
        "      print(hex(id(node)))\n",
        "      self.addr[hex(id(node))] = node.id\n",
        "      print(self.addr)\n",
        "    if(isinstance(node,ast.FunctionDef)):\n",
        "      #if(not(hex(id(node))) in addr): \n",
        "      #  self.addr[hex(id(node))] = \"\"\n",
        "      print(self.addr)\n",
        "      self.addr[hex(id(node))] = node.name\n",
        "      #print(self.addr)\n",
        "    self.generic_visit(node)\n",
        "  '''\n",
        "  def visit(self,node:ast.AST):\n",
        "    #if(isinstance(node,ast.arg)):\n",
        "      #print(node.arg)\n",
        "    if(isinstance(node,ast.Name)):\n",
        "      #print(hex(id(node)))\n",
        "      self.addr[hex(id(node))] = node.id\n",
        "      #print(self.addr)\n",
        "    if(isinstance(node,ast.FunctionDef)):\n",
        "      #if(not(hex(id(node))) in addr): \n",
        "      #  self.addr[hex(id(node))] = \"\"\n",
        "      #print(self.addr)\n",
        "      self.addr[hex(id(node))] = node.name\n",
        "    #print(node.__class__.__name__)\n",
        "    #print(\"Children: \",list(ast.iter_child_nodes(node)))\n",
        "    #fields = list(ast.iter_fields(node))\n",
        "    #print(fields)\n",
        "    self.count+=1\n",
        "    #print(\"--------------------\")\n",
        "    self.generic_visit(node)\n",
        "\n",
        "    #if(isinstance(node,ast.Name)):\n",
        "      #print(hex(id(node)))\n",
        "      #self.addr[hex(id(node))] = node.id\n",
        "      #print(self.addr)\n",
        "    #if(isinstance(node,ast.FunctionDef)):\n",
        "      #if(not(hex(id(node))) in addr): \n",
        "      #  self.addr[hex(id(node))] = \"\"\n",
        "      #print(self.addr)\n",
        "      #self.addr[hex(id(node))] = node.name\n",
        "      #print(self.addr)\n",
        "    #if(isinstance(node,ast.Call)):\n",
        "        #print(self.addr)\n",
        "     #   print(addr[str(hex(id(node.func)))])\n",
        "  \n",
        "  def print_(self):\n",
        "    print(self.count)\n",
        "    return self.addr\n",
        "\"\"\""
      ],
      "metadata": {
        "id": "VgAaDEjKS8AX",
        "colab": {
          "base_uri": "https://localhost:8080/",
          "height": 123
        },
        "outputId": "5ed4b19f-ef93-4bf9-a2b7-a68e47d8b171"
      },
      "execution_count": null,
      "outputs": [
        {
          "output_type": "execute_result",
          "data": {
            "text/plain": [
              "'\\n#validating the number of nodes from inbuilt generic visit and custom function\\ncount=0\\nclass Visitor(ast.NodeVisitor):\\n  def __init__(self,count,addr):\\n    self.count=0\\n    self.addr = dict()\\n  \\'\\'\\'\\n  def address(self,node:ast.AST):\\n    if(isinstance(node,ast.Name)):\\n      print(hex(id(node)))\\n      self.addr[hex(id(node))] = node.id\\n      print(self.addr)\\n    if(isinstance(node,ast.FunctionDef)):\\n      #if(not(hex(id(node))) in addr): \\n      #  self.addr[hex(id(node))] = \"\"\\n      print(self.addr)\\n      self.addr[hex(id(node))] = node.name\\n      #print(self.addr)\\n    self.generic_visit(node)\\n  \\'\\'\\'\\n  def visit(self,node:ast.AST):\\n    #if(isinstance(node,ast.arg)):\\n      #print(node.arg)\\n    if(isinstance(node,ast.Name)):\\n      #print(hex(id(node)))\\n      self.addr[hex(id(node))] = node.id\\n      #print(self.addr)\\n    if(isinstance(node,ast.FunctionDef)):\\n      #if(not(hex(id(node))) in addr): \\n      #  self.addr[hex(id(node))] = \"\"\\n      #print(self.addr)\\n      self.addr[hex(id(node))] = node.name\\n    #print(node.__class__.__name__)\\n    #print(\"Children: \",list(ast.iter_child_nodes(node)))\\n    #fields = list(ast.iter_fields(node))\\n    #print(fields)\\n    self.count+=1\\n    #print(\"--------------------\")\\n    self.generic_visit(node)\\n\\n    #if(isinstance(node,ast.Name)):\\n      #print(hex(id(node)))\\n      #self.addr[hex(id(node))] = node.id\\n      #print(self.addr)\\n    #if(isinstance(node,ast.FunctionDef)):\\n      #if(not(hex(id(node))) in addr): \\n      #  self.addr[hex(id(node))] = \"\"\\n      #print(self.addr)\\n      #self.addr[hex(id(node))] = node.name\\n      #print(self.addr)\\n    #if(isinstance(node,ast.Call)):\\n        #print(self.addr)\\n     #   print(addr[str(hex(id(node.func)))])\\n  \\n  def print_(self):\\n    print(self.count)\\n    return self.addr\\n'"
            ],
            "application/vnd.google.colaboratory.intrinsic+json": {
              "type": "string"
            }
          },
          "metadata": {},
          "execution_count": 72
        }
      ]
    },
    {
      "cell_type": "code",
      "source": [
        "'''\n",
        "count=0\n",
        "addr = dict()\n",
        "a = Visitor(count,addr)\n",
        "#a.address(ast_py)\n",
        "a.visit(ast_py)\n",
        "addr = a.print_()\n",
        "'''"
      ],
      "metadata": {
        "colab": {
          "base_uri": "https://localhost:8080/",
          "height": 36
        },
        "id": "J7pJIGVTadUN",
        "outputId": "b3313a27-8781-49b6-b10d-b21d35df672f"
      },
      "execution_count": null,
      "outputs": [
        {
          "output_type": "execute_result",
          "data": {
            "text/plain": [
              "'\\ncount=0\\naddr = dict()\\na = Visitor(count,addr)\\n#a.address(ast_py)\\na.visit(ast_py)\\naddr = a.print_()\\n'"
            ],
            "application/vnd.google.colaboratory.intrinsic+json": {
              "type": "string"
            }
          },
          "metadata": {},
          "execution_count": 73
        }
      ]
    },
    {
      "cell_type": "code",
      "source": [
        "#addr"
      ],
      "metadata": {
        "id": "ThdXh3_e5qp4"
      },
      "execution_count": null,
      "outputs": []
    },
    {
      "cell_type": "code",
      "source": [],
      "metadata": {
        "id": "UEaGLmaoMZns"
      },
      "execution_count": null,
      "outputs": []
    },
    {
      "cell_type": "markdown",
      "source": [
        "##Custom function to extract the nodes from the ast\n"
      ],
      "metadata": {
        "id": "-HtCXe4VHSUl"
      }
    },
    {
      "cell_type": "code",
      "source": [
        "def get_token(node):\n",
        "  token = node.__class__.__name__\n",
        "  if(isinstance(node,ast.arg)):\n",
        "    token = node.arg\n",
        "    return token\n",
        "  if(isinstance(node,ast.Name)):\n",
        "    token= node.id\n",
        "    return token\n",
        "  if(isinstance(node,ast.Num)):\n",
        "    token = node.n\n",
        "    return token\n",
        "  if(isinstance(node,ast.FunctionDef)):\n",
        "    token += \":\"+str(node.name)\n",
        "    return token\n",
        "  #if(isinstance(node,ast.Call)):\n",
        "   # token += \": \"+ str(node.func)\n",
        "   # return token\n",
        "  if(isinstance(node,ast.Str)):\n",
        "    token = node.s\n",
        "    return token\n",
        "  return token"
      ],
      "metadata": {
        "id": "kYejjlAcIlL5"
      },
      "execution_count": null,
      "outputs": []
    },
    {
      "cell_type": "code",
      "source": [
        "from anytree import Node\n",
        "\n",
        "def get_children(root):\n",
        "    children = list(ast.iter_child_nodes(root))\n",
        "    '''\n",
        "    if isinstance(root, ast.AST):\n",
        "        children = ast.iter_children()\n",
        "    elif isinstance(root[1], pycparser.c_ast.Node):\n",
        "        children = root[1].children()\n",
        "    elif isinstance(root, set):\n",
        "        children = list(root)\n",
        "    else:\n",
        "        children = []\n",
        "    '''\n",
        "    \n",
        "    def expand(nested_list):\n",
        "        for item in nested_list:\n",
        "            if isinstance(item, list):\n",
        "                for sub_item in expand(item):\n",
        "                    yield sub_item\n",
        "            elif item:\n",
        "                yield item\n",
        "    \n",
        "    return list(expand(children))\n",
        "\n",
        "def get_trees(current_node, parent_node, order):\n",
        "    #print(current_node)\n",
        "    #fields = list(ast.iter_fields(current_node))\n",
        "    #print(fields)\n",
        "    token, children = get_token(current_node), get_children(current_node)\n",
        "    node = Node([order,token], parent=parent_node, order=order)\n",
        "    #print(parent_node)\n",
        "    #if(parent_node.name=='')\n",
        "    p = str(parent_node.name[0])+\"--\"+str(parent_node.name[1])\n",
        "    c = str(order)+\"--\"+str(token)\n",
        "    nodes.append((p,c))\n",
        "    #print(nodes)\n",
        "    for child_order in range(len(children)):\n",
        "        get_trees(children[child_order], node, order+str(random.randint(1,100000)+1))"
      ],
      "metadata": {
        "id": "sp3lhjZ03Ntr"
      },
      "execution_count": null,
      "outputs": []
    },
    {
      "cell_type": "code",
      "source": [
        "from anytree import Node\n",
        "# Initialize head node of the code.\n",
        "python_nodes0=[]\n",
        "python_nodes1=[]\n",
        "python_nodes2=[]\n",
        "python_nodes3=[]\n",
        "python_nodes4=[]\n",
        "python_nodes5=[]\n",
        "python_nodes6=[]\n",
        "python_nodes7=[]\n",
        "python_nodes8=[]\n",
        "python_nodes9=[]\n",
        "python_nodes=[python_nodes0,python_nodes1,python_nodes2,python_nodes3,python_nodes4,python_nodes5,python_nodes6,python_nodes7,python_nodes8,python_nodes9]\n",
        "for i in range(len(dataset)):\n",
        "    for j in range(len(dataset[i])):\n",
        "        head = Node([\"1\",dataset[i][j].__class__.__name__])\n",
        "        # Recursively construct AST tree.\n",
        "        nodes = []\n",
        "        #nodes.append((None,str(head.name[1])+str(head.name[0])))\n",
        "        for child_order in range(len(get_children(dataset[i][j]))):\n",
        "            get_trees(get_children(dataset[i][j])[child_order], head, \"1\"+str(int(child_order)+1))\n",
        "        python_nodes[i].append(nodes)"
      ],
      "metadata": {
        "id": "iE9ekO1-3RNc"
      },
      "execution_count": null,
      "outputs": []
    },
    {
      "cell_type": "code",
      "source": [
        "python_nodes0"
      ],
      "metadata": {
        "colab": {
          "base_uri": "https://localhost:8080/"
        },
        "id": "yJ9EhK0t3-lb",
        "outputId": "9fe78960-0c00-4a6e-f5ba-e5df76a16021"
      },
      "execution_count": null,
      "outputs": [
        {
          "output_type": "execute_result",
          "data": {
            "text/plain": [
              "[[('1--Module', '11--FunctionDef:getFirstElement'),\n",
              "  ('11--FunctionDef:getFirstElement', '1125518--arguments'),\n",
              "  ('1125518--arguments', '112551844233--a'),\n",
              "  ('1125518--arguments', '112551867154--N'),\n",
              "  ('1125518--arguments', '112551838736--K'),\n",
              "  ('1125518--arguments', '112551894568--M'),\n",
              "  ('11--FunctionDef:getFirstElement', '1154479--AugAssign'),\n",
              "  ('1154479--AugAssign', '115447968514--K'),\n",
              "  ('115447968514--K', '11544796851424782--Store'),\n",
              "  ('1154479--AugAssign', '115447927091--Mod'),\n",
              "  ('1154479--AugAssign', '115447912970--N'),\n",
              "  ('115447912970--N', '115447912970727--Load'),\n",
              "  ('11--FunctionDef:getFirstElement', '1174048--Assign'),\n",
              "  ('1174048--Assign', '11740486155--index'),\n",
              "  ('11740486155--index', '1174048615548674--Store'),\n",
              "  ('1174048--Assign', '117404886079--BinOp'),\n",
              "  ('117404886079--BinOp', '11740488607938138--BinOp'),\n",
              "  ('11740488607938138--BinOp', '1174048860793813826897--BinOp'),\n",
              "  ('1174048860793813826897--BinOp', '117404886079381382689711720--K'),\n",
              "  ('117404886079381382689711720--K', '11740488607938138268971172017055--Load'),\n",
              "  ('1174048860793813826897--BinOp', '117404886079381382689780363--Add'),\n",
              "  ('1174048860793813826897--BinOp', '117404886079381382689718251--M'),\n",
              "  ('117404886079381382689718251--M', '11740488607938138268971825182322--Load'),\n",
              "  ('11740488607938138--BinOp', '1174048860793813842917--Sub'),\n",
              "  ('11740488607938138--BinOp', '117404886079381384766--1'),\n",
              "  ('117404886079--BinOp', '11740488607922830--Mod'),\n",
              "  ('117404886079--BinOp', '11740488607910756--N'),\n",
              "  ('11740488607910756--N', '1174048860791075625556--Load'),\n",
              "  ('11--FunctionDef:getFirstElement', '1167712--Assign'),\n",
              "  ('1167712--Assign', '116771230793--result'),\n",
              "  ('116771230793--result', '11677123079310003--Store'),\n",
              "  ('1167712--Assign', '116771214758--Subscript'),\n",
              "  ('116771214758--Subscript', '1167712147585370--a'),\n",
              "  ('1167712147585370--a', '116771214758537035095--Load'),\n",
              "  ('116771214758--Subscript', '11677121475862480--Index'),\n",
              "  ('11677121475862480--Index', '1167712147586248011202--index'),\n",
              "  ('1167712147586248011202--index', '116771214758624801120276704--Load'),\n",
              "  ('116771214758--Subscript', '11677121475866122--Load'),\n",
              "  ('11--FunctionDef:getFirstElement', '1167086--Return'),\n",
              "  ('1167086--Return', '116708699253--result'),\n",
              "  ('116708699253--result', '11670869925378179--Load'),\n",
              "  ('1--Module', '12--If'),\n",
              "  ('12--If', '1275271--Compare'),\n",
              "  ('1275271--Compare', '127527154299--__name__'),\n",
              "  ('127527154299--__name__', '12752715429933726--Load'),\n",
              "  ('1275271--Compare', '127527118341--Eq'),\n",
              "  ('1275271--Compare', '127527132249--__main__'),\n",
              "  ('12--If', '1251403--Assign'),\n",
              "  ('1251403--Assign', '125140312710--a'),\n",
              "  ('125140312710--a', '12514031271097643--Store'),\n",
              "  ('1251403--Assign', '125140313245--List'),\n",
              "  ('125140313245--List', '12514031324510055--3'),\n",
              "  ('125140313245--List', '12514031324592513--4'),\n",
              "  ('125140313245--List', '12514031324567815--5'),\n",
              "  ('125140313245--List', '12514031324516246--23'),\n",
              "  ('125140313245--List', '12514031324547037--Load'),\n",
              "  ('12--If', '122321--Assign'),\n",
              "  ('122321--Assign', '12232122320--N'),\n",
              "  ('12232122320--N', '1223212232060275--Store'),\n",
              "  ('122321--Assign', '12232178275--Call'),\n",
              "  ('12232178275--Call', '1223217827569858--len'),\n",
              "  ('1223217827569858--len', '122321782756985819666--Load'),\n",
              "  ('12232178275--Call', '1223217827589525--a'),\n",
              "  ('1223217827589525--a', '122321782758952527212--Load'),\n",
              "  ('12--If', '1282814--Assign'),\n",
              "  ('1282814--Assign', '128281452434--K'),\n",
              "  ('128281452434--K', '12828145243431497--Store'),\n",
              "  ('1282814--Assign', '128281488264--2'),\n",
              "  ('12--If', '1245476--Assign'),\n",
              "  ('1245476--Assign', '124547611425--M'),\n",
              "  ('124547611425--M', '12454761142597280--Store'),\n",
              "  ('1245476--Assign', '124547665708--1'),\n",
              "  ('12--If', '1254465--Expr'),\n",
              "  ('1254465--Expr', '125446518703--Call'),\n",
              "  ('125446518703--Call', '12544651870395167--print'),\n",
              "  ('12544651870395167--print', '1254465187039516739113--Load'),\n",
              "  ('125446518703--Call', '12544651870320846--Call'),\n",
              "  ('12544651870320846--Call', '1254465187032084683901--getFirstElement'),\n",
              "  ('1254465187032084683901--getFirstElement',\n",
              "   '125446518703208468390132993--Load'),\n",
              "  ('12544651870320846--Call', '1254465187032084611973--a'),\n",
              "  ('1254465187032084611973--a', '125446518703208461197391136--Load'),\n",
              "  ('12544651870320846--Call', '12544651870320846262--N'),\n",
              "  ('12544651870320846262--N', '1254465187032084626299468--Load'),\n",
              "  ('12544651870320846--Call', '1254465187032084654420--K'),\n",
              "  ('1254465187032084654420--K', '125446518703208465442020183--Load'),\n",
              "  ('12544651870320846--Call', '1254465187032084655246--M'),\n",
              "  ('1254465187032084655246--M', '125446518703208465524679739--Load')],\n",
              " [('1--Module', '11--FunctionDef:getFirstElement'),\n",
              "  ('11--FunctionDef:getFirstElement', '1152062--arguments'),\n",
              "  ('1152062--arguments', '115206230595--a'),\n",
              "  ('1152062--arguments', '115206224497--N'),\n",
              "  ('1152062--arguments', '115206272996--K'),\n",
              "  ('1152062--arguments', '115206286811--M'),\n",
              "  ('11--FunctionDef:getFirstElement', '1163890--AugAssign'),\n",
              "  ('1163890--AugAssign', '116389083225--K'),\n",
              "  ('116389083225--K', '11638908322555477--Store'),\n",
              "  ('1163890--AugAssign', '116389067332--Mod'),\n",
              "  ('1163890--AugAssign', '116389041623--N'),\n",
              "  ('116389041623--N', '11638904162315662--Load'),\n",
              "  ('11--FunctionDef:getFirstElement', '1190545--If'),\n",
              "  ('1190545--If', '119054538458--Compare'),\n",
              "  ('119054538458--Compare', '11905453845856471--K'),\n",
              "  ('11905453845856471--K', '1190545384585647113740--Load'),\n",
              "  ('119054538458--Compare', '11905453845849702--GtE'),\n",
              "  ('119054538458--Compare', '1190545384585454--M'),\n",
              "  ('1190545384585454--M', '119054538458545452108--Load'),\n",
              "  ('1190545--If', '119054570203--Assign'),\n",
              "  ('119054570203--Assign', '11905457020381712--index'),\n",
              "  ('11905457020381712--index', '1190545702038171233117--Store'),\n",
              "  ('119054570203--Assign', '11905457020394340--BinOp'),\n",
              "  ('11905457020394340--BinOp', '1190545702039434032666--BinOp'),\n",
              "  ('1190545702039434032666--BinOp', '119054570203943403266629218--N'),\n",
              "  ('119054570203943403266629218--N', '11905457020394340326662921888573--Load'),\n",
              "  ('1190545702039434032666--BinOp', '119054570203943403266675717--Sub'),\n",
              "  ('1190545702039434032666--BinOp', '119054570203943403266676993--K'),\n",
              "  ('119054570203943403266676993--K', '11905457020394340326667699383509--Load'),\n",
              "  ('11905457020394340--BinOp', '1190545702039434055494--Add'),\n",
              "  ('11905457020394340--BinOp', '1190545702039434042656--BinOp'),\n",
              "  ('1190545702039434042656--BinOp', '119054570203943404265689120--M'),\n",
              "  ('119054570203943404265689120--M', '1190545702039434042656891208788--Load'),\n",
              "  ('1190545702039434042656--BinOp', '11905457020394340426564581--Sub'),\n",
              "  ('1190545702039434042656--BinOp', '119054570203943404265695550--1'),\n",
              "  ('1190545--If', '119054579911--Assign'),\n",
              "  ('119054579911--Assign', '11905457991195585--index'),\n",
              "  ('11905457991195585--index', '1190545799119558525314--Store'),\n",
              "  ('119054579911--Assign', '11905457991125754--BinOp'),\n",
              "  ('11905457991125754--BinOp', '1190545799112575475414--BinOp'),\n",
              "  ('1190545799112575475414--BinOp', '119054579911257547541427696--M'),\n",
              "  ('119054579911257547541427696--M', '11905457991125754754142769694127--Load'),\n",
              "  ('1190545799112575475414--BinOp', '119054579911257547541493888--Sub'),\n",
              "  ('1190545799112575475414--BinOp', '119054579911257547541434012--K'),\n",
              "  ('119054579911257547541434012--K', '11905457991125754754143401265806--Load'),\n",
              "  ('11905457991125754--BinOp', '1190545799112575412434--Sub'),\n",
              "  ('11905457991125754--BinOp', '1190545799112575461202--1'),\n",
              "  ('11--FunctionDef:getFirstElement', '1137672--Assign'),\n",
              "  ('1137672--Assign', '113767244695--result'),\n",
              "  ('113767244695--result', '11376724469564606--Store'),\n",
              "  ('1137672--Assign', '113767247583--Subscript'),\n",
              "  ('113767247583--Subscript', '1137672475838317--a'),\n",
              "  ('1137672475838317--a', '113767247583831797847--Load'),\n",
              "  ('113767247583--Subscript', '11376724758380947--Index'),\n",
              "  ('11376724758380947--Index', '1137672475838094785543--index'),\n",
              "  ('1137672475838094785543--index', '113767247583809478554340005--Load'),\n",
              "  ('113767247583--Subscript', '11376724758390324--Load'),\n",
              "  ('11--FunctionDef:getFirstElement', '1186076--Return'),\n",
              "  ('1186076--Return', '11860762139--result'),\n",
              "  ('11860762139--result', '1186076213916615--Load'),\n",
              "  ('1--Module', '12--If'),\n",
              "  ('12--If', '1255092--Compare'),\n",
              "  ('1255092--Compare', '125509225426--__name__'),\n",
              "  ('125509225426--__name__', '1255092254263728--Load'),\n",
              "  ('1255092--Compare', '125509254515--Eq'),\n",
              "  ('1255092--Compare', '125509279801--__main__'),\n",
              "  ('12--If', '1247085--Assign'),\n",
              "  ('1247085--Assign', '12470855533--a'),\n",
              "  ('12470855533--a', '124708555332076--Store'),\n",
              "  ('1247085--Assign', '124708596896--List'),\n",
              "  ('124708596896--List', '12470859689669346--1'),\n",
              "  ('124708596896--List', '12470859689696316--2'),\n",
              "  ('124708596896--List', '12470859689626588--3'),\n",
              "  ('124708596896--List', '12470859689620889--4'),\n",
              "  ('124708596896--List', '12470859689654415--5'),\n",
              "  ('124708596896--List', '12470859689653736--Load'),\n",
              "  ('12--If', '1242053--Assign'),\n",
              "  ('1242053--Assign', '124205398096--N'),\n",
              "  ('124205398096--N', '12420539809617444--Store'),\n",
              "  ('1242053--Assign', '124205359388--Call'),\n",
              "  ('124205359388--Call', '12420535938833492--len'),\n",
              "  ('12420535938833492--len', '1242053593883349252696--Load'),\n",
              "  ('124205359388--Call', '12420535938827784--a'),\n",
              "  ('12420535938827784--a', '124205359388277846049--Load'),\n",
              "  ('12--If', '1264293--Assign'),\n",
              "  ('1264293--Assign', '126429368333--Tuple'),\n",
              "  ('126429368333--Tuple', '12642936833384447--K'),\n",
              "  ('12642936833384447--K', '1264293683338444714506--Store'),\n",
              "  ('126429368333--Tuple', '12642936833334128--M'),\n",
              "  ('12642936833334128--M', '126429368333341286189--Store'),\n",
              "  ('126429368333--Tuple', '1264293683334776--Store'),\n",
              "  ('1264293--Assign', '126429365382--Tuple'),\n",
              "  ('126429365382--Tuple', '12642936538270773--3'),\n",
              "  ('126429365382--Tuple', '12642936538295589--2'),\n",
              "  ('126429365382--Tuple', '1264293653822066--Load'),\n",
              "  ('12--If', '127729--Expr'),\n",
              "  ('127729--Expr', '12772932889--Call'),\n",
              "  ('12772932889--Call', '1277293288983492--print'),\n",
              "  ('1277293288983492--print', '127729328898349248885--Load'),\n",
              "  ('12772932889--Call', '1277293288978865--Call'),\n",
              "  ('1277293288978865--Call', '127729328897886532630--getFirstElement'),\n",
              "  ('127729328897886532630--getFirstElement',\n",
              "   '12772932889788653263036935--Load'),\n",
              "  ('1277293288978865--Call', '127729328897886553361--a'),\n",
              "  ('127729328897886553361--a', '12772932889788655336150440--Load'),\n",
              "  ('1277293288978865--Call', '127729328897886528701--N'),\n",
              "  ('127729328897886528701--N', '12772932889788652870148513--Load'),\n",
              "  ('1277293288978865--Call', '127729328897886516469--K'),\n",
              "  ('127729328897886516469--K', '127729328897886516469320--Load'),\n",
              "  ('1277293288978865--Call', '127729328897886534873--M'),\n",
              "  ('127729328897886534873--M', '12772932889788653487364095--Load')],\n",
              " [('1--Module', '11--Expr'),\n",
              "  ('11--Expr', '1189983--sites'),\n",
              "  ('1189983--sites', '118998319635--Load')]]"
            ]
          },
          "metadata": {},
          "execution_count": 78
        }
      ]
    },
    {
      "cell_type": "code",
      "source": [
        "def rem_newline(item):\n",
        "    item = item.replace('\\n',\"\")\n",
        "    item = item.replace('\\t',\"\")\n",
        "    return item"
      ],
      "metadata": {
        "id": "oGisgStctFBW"
      },
      "execution_count": null,
      "outputs": []
    },
    {
      "cell_type": "code",
      "source": [
        "for i in range(len(python_nodes)):\n",
        "    for j in range(len(python_nodes[i])):\n",
        "        completeName = '/content/gdrive/My Drive/Capstone_Dataset-main/Python_Nodes/'+dir[i]+'/'+'nodes'+str(j)+ \".txt\"\n",
        "        fp = open(completeName , \"w\")\n",
        "        for item in python_nodes[i][j]:\n",
        "            # write each item on a new line\n",
        "            item0=rem_newline(item[0])\n",
        "            item1=rem_newline(item[1])\n",
        "            #print(item0,item1)\n",
        "            fp.write(str(item0)+\",\"+str(item1)+\"\\n\")\n",
        "        fp.close()"
      ],
      "metadata": {
        "id": "Q-RAbm4qALdC"
      },
      "execution_count": null,
      "outputs": []
    },
    {
      "cell_type": "code",
      "source": [],
      "metadata": {
        "id": "dHvl_PXQ1mKF"
      },
      "execution_count": null,
      "outputs": []
    }
  ]
}